{
 "cells": [
  {
   "cell_type": "code",
   "execution_count": 1,
   "id": "initial_id",
   "metadata": {
    "collapsed": true,
    "ExecuteTime": {
     "end_time": "2023-09-27T20:19:37.599684012Z",
     "start_time": "2023-09-27T20:19:37.435704051Z"
    }
   },
   "outputs": [],
   "source": [
    "import pandas as pd"
   ]
  },
  {
   "cell_type": "code",
   "execution_count": 2,
   "outputs": [
    {
     "data": {
      "text/plain": "                                alias     ID valens  set  rand id sex  \\\n0    d7d10d207311457ba0e6b3abe8562ca8   vs01    pos    0        0   k   \n1    b30bbdf8a1ee4528a8932474ac5b0ea2   vs02    neg    0      150   k   \n2    adc3f973d4ab45cf99d680d2a7ca7962   vs03    pos    0       73   k   \n3    8bff1569825c4ec6bb1cbc6f4ca48c23   vs04    neg    0      175   k   \n4    c2b326826b9f4477a40798cfd9bc4c78   vs05    neg    0      174   k   \n..                                ...    ...    ...  ...      ...  ..   \n269  b943125aa6d84818a8b1d5c2695ebf37  vs182    pos    1      103   k   \n270  39f3b8bf12824ca8a58b3c8735468b15  vs182    neg    0      129   k   \n271  9afe1e2aea694e1eae26772b779c641f  vs183    neg    0      214   k   \n272  de78c0a6af96435babc9ee2f878d1d89  vs184    neg    0      181   k   \n273  347e8f612bd54e68b509a86cb1b7db70  vs185    neg    0      135   k   \n\n     kontakt igen  födelseår  \n0               1       1997  \n1               0       1987  \n2               1       1993  \n3               0       2005  \n4               0       1995  \n..            ...        ...  \n269             1       1971  \n270             1       1971  \n271             1       1966  \n272             0       1996  \n273             1       2001  \n\n[274 rows x 8 columns]",
      "text/html": "<div>\n<style scoped>\n    .dataframe tbody tr th:only-of-type {\n        vertical-align: middle;\n    }\n\n    .dataframe tbody tr th {\n        vertical-align: top;\n    }\n\n    .dataframe thead th {\n        text-align: right;\n    }\n</style>\n<table border=\"1\" class=\"dataframe\">\n  <thead>\n    <tr style=\"text-align: right;\">\n      <th></th>\n      <th>alias</th>\n      <th>ID</th>\n      <th>valens</th>\n      <th>set</th>\n      <th>rand id</th>\n      <th>sex</th>\n      <th>kontakt igen</th>\n      <th>födelseår</th>\n    </tr>\n  </thead>\n  <tbody>\n    <tr>\n      <th>0</th>\n      <td>d7d10d207311457ba0e6b3abe8562ca8</td>\n      <td>vs01</td>\n      <td>pos</td>\n      <td>0</td>\n      <td>0</td>\n      <td>k</td>\n      <td>1</td>\n      <td>1997</td>\n    </tr>\n    <tr>\n      <th>1</th>\n      <td>b30bbdf8a1ee4528a8932474ac5b0ea2</td>\n      <td>vs02</td>\n      <td>neg</td>\n      <td>0</td>\n      <td>150</td>\n      <td>k</td>\n      <td>0</td>\n      <td>1987</td>\n    </tr>\n    <tr>\n      <th>2</th>\n      <td>adc3f973d4ab45cf99d680d2a7ca7962</td>\n      <td>vs03</td>\n      <td>pos</td>\n      <td>0</td>\n      <td>73</td>\n      <td>k</td>\n      <td>1</td>\n      <td>1993</td>\n    </tr>\n    <tr>\n      <th>3</th>\n      <td>8bff1569825c4ec6bb1cbc6f4ca48c23</td>\n      <td>vs04</td>\n      <td>neg</td>\n      <td>0</td>\n      <td>175</td>\n      <td>k</td>\n      <td>0</td>\n      <td>2005</td>\n    </tr>\n    <tr>\n      <th>4</th>\n      <td>c2b326826b9f4477a40798cfd9bc4c78</td>\n      <td>vs05</td>\n      <td>neg</td>\n      <td>0</td>\n      <td>174</td>\n      <td>k</td>\n      <td>0</td>\n      <td>1995</td>\n    </tr>\n    <tr>\n      <th>...</th>\n      <td>...</td>\n      <td>...</td>\n      <td>...</td>\n      <td>...</td>\n      <td>...</td>\n      <td>...</td>\n      <td>...</td>\n      <td>...</td>\n    </tr>\n    <tr>\n      <th>269</th>\n      <td>b943125aa6d84818a8b1d5c2695ebf37</td>\n      <td>vs182</td>\n      <td>pos</td>\n      <td>1</td>\n      <td>103</td>\n      <td>k</td>\n      <td>1</td>\n      <td>1971</td>\n    </tr>\n    <tr>\n      <th>270</th>\n      <td>39f3b8bf12824ca8a58b3c8735468b15</td>\n      <td>vs182</td>\n      <td>neg</td>\n      <td>0</td>\n      <td>129</td>\n      <td>k</td>\n      <td>1</td>\n      <td>1971</td>\n    </tr>\n    <tr>\n      <th>271</th>\n      <td>9afe1e2aea694e1eae26772b779c641f</td>\n      <td>vs183</td>\n      <td>neg</td>\n      <td>0</td>\n      <td>214</td>\n      <td>k</td>\n      <td>1</td>\n      <td>1966</td>\n    </tr>\n    <tr>\n      <th>272</th>\n      <td>de78c0a6af96435babc9ee2f878d1d89</td>\n      <td>vs184</td>\n      <td>neg</td>\n      <td>0</td>\n      <td>181</td>\n      <td>k</td>\n      <td>0</td>\n      <td>1996</td>\n    </tr>\n    <tr>\n      <th>273</th>\n      <td>347e8f612bd54e68b509a86cb1b7db70</td>\n      <td>vs185</td>\n      <td>neg</td>\n      <td>0</td>\n      <td>135</td>\n      <td>k</td>\n      <td>1</td>\n      <td>2001</td>\n    </tr>\n  </tbody>\n</table>\n<p>274 rows × 8 columns</p>\n</div>"
     },
     "execution_count": 2,
     "metadata": {},
     "output_type": "execute_result"
    }
   ],
   "source": [
    "path = \"data/data vali ht23.xlsx\"\n",
    "df = pd.read_excel(path)\n",
    "df"
   ],
   "metadata": {
    "collapsed": false,
    "ExecuteTime": {
     "end_time": "2023-09-27T20:19:47.725478999Z",
     "start_time": "2023-09-27T20:19:47.637601340Z"
    }
   },
   "id": "1a1517d088df3bae"
  },
  {
   "cell_type": "code",
   "execution_count": 3,
   "outputs": [
    {
     "data": {
      "text/plain": "(270,)"
     },
     "execution_count": 3,
     "metadata": {},
     "output_type": "execute_result"
    }
   ],
   "source": [
    "df[\"alias\"].unique().shape"
   ],
   "metadata": {
    "collapsed": false,
    "ExecuteTime": {
     "end_time": "2023-09-27T20:20:17.743792525Z",
     "start_time": "2023-09-27T20:20:17.694977823Z"
    }
   },
   "id": "7db6f72caf8be6cc"
  },
  {
   "cell_type": "code",
   "execution_count": 5,
   "outputs": [
    {
     "data": {
      "text/plain": "19     d3df9bb8ac8f4ece94fc689aaa5ad983\n59     b28b359818c04640b7cb0c29186de775\n80     2c4cdfd4decf4b7daed896787f5fe0d1\n84     d3df9bb8ac8f4ece94fc689aaa5ad983\n118    b28b359818c04640b7cb0c29186de775\n191    fcd7ef46eba14ed9ae8c644bd44dc433\n194    fcd7ef46eba14ed9ae8c644bd44dc433\n258    2c4cdfd4decf4b7daed896787f5fe0d1\nName: alias, dtype: object"
     },
     "execution_count": 5,
     "metadata": {},
     "output_type": "execute_result"
    }
   ],
   "source": [
    "non_unique_col = df['alias'][df['alias'].duplicated(keep=False)]\n",
    "non_unique_col"
   ],
   "metadata": {
    "collapsed": false,
    "ExecuteTime": {
     "end_time": "2023-09-27T20:20:30.452155878Z",
     "start_time": "2023-09-27T20:20:30.449069021Z"
    }
   },
   "id": "f08f421eec8ca16f"
  }
 ],
 "metadata": {
  "kernelspec": {
   "display_name": "Python 3",
   "language": "python",
   "name": "python3"
  },
  "language_info": {
   "codemirror_mode": {
    "name": "ipython",
    "version": 2
   },
   "file_extension": ".py",
   "mimetype": "text/x-python",
   "name": "python",
   "nbconvert_exporter": "python",
   "pygments_lexer": "ipython2",
   "version": "2.7.6"
  }
 },
 "nbformat": 4,
 "nbformat_minor": 5
}
