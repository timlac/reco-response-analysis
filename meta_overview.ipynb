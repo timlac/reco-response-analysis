{
 "cells": [
  {
   "cell_type": "code",
   "execution_count": 1,
   "id": "initial_id",
   "metadata": {
    "collapsed": true,
    "ExecuteTime": {
     "end_time": "2023-10-12T14:53:21.479762727Z",
     "start_time": "2023-10-12T14:53:21.477664460Z"
    }
   },
   "outputs": [],
   "source": [
    "import pandas as pd"
   ]
  },
  {
   "cell_type": "code",
   "execution_count": 2,
   "outputs": [
    {
     "data": {
      "text/plain": "                                alias     ID valens  set  rand id sex  \\\n0    d7d10d207311457ba0e6b3abe8562ca8   vs01    pos    0        0   k   \n1    b30bbdf8a1ee4528a8932474ac5b0ea2   vs02    neg    0      150   k   \n2    adc3f973d4ab45cf99d680d2a7ca7962   vs03    pos    0       73   k   \n3    8bff1569825c4ec6bb1cbc6f4ca48c23   vs04    neg    0      175   k   \n4    c2b326826b9f4477a40798cfd9bc4c78   vs05    neg    0      174   k   \n..                                ...    ...    ...  ...      ...  ..   \n268  b943125aa6d84818a8b1d5c2695ebf37  vs182    pos    1      103   k   \n269  39f3b8bf12824ca8a58b3c8735468b15  vs182    neg    0      129   k   \n270  9afe1e2aea694e1eae26772b779c641f  vs183    neg    0      214   k   \n271  de78c0a6af96435babc9ee2f878d1d89  vs184    neg    0      181   k   \n272  347e8f612bd54e68b509a86cb1b7db70  vs185    neg    0      135   k   \n\n     kontakt igen  födelseår  \n0               1       1997  \n1               0       1987  \n2               1       1993  \n3               0       2005  \n4               0       1995  \n..            ...        ...  \n268             1       1971  \n269             1       1971  \n270             1       1966  \n271             0       1996  \n272             1       2001  \n\n[273 rows x 8 columns]",
      "text/html": "<div>\n<style scoped>\n    .dataframe tbody tr th:only-of-type {\n        vertical-align: middle;\n    }\n\n    .dataframe tbody tr th {\n        vertical-align: top;\n    }\n\n    .dataframe thead th {\n        text-align: right;\n    }\n</style>\n<table border=\"1\" class=\"dataframe\">\n  <thead>\n    <tr style=\"text-align: right;\">\n      <th></th>\n      <th>alias</th>\n      <th>ID</th>\n      <th>valens</th>\n      <th>set</th>\n      <th>rand id</th>\n      <th>sex</th>\n      <th>kontakt igen</th>\n      <th>födelseår</th>\n    </tr>\n  </thead>\n  <tbody>\n    <tr>\n      <th>0</th>\n      <td>d7d10d207311457ba0e6b3abe8562ca8</td>\n      <td>vs01</td>\n      <td>pos</td>\n      <td>0</td>\n      <td>0</td>\n      <td>k</td>\n      <td>1</td>\n      <td>1997</td>\n    </tr>\n    <tr>\n      <th>1</th>\n      <td>b30bbdf8a1ee4528a8932474ac5b0ea2</td>\n      <td>vs02</td>\n      <td>neg</td>\n      <td>0</td>\n      <td>150</td>\n      <td>k</td>\n      <td>0</td>\n      <td>1987</td>\n    </tr>\n    <tr>\n      <th>2</th>\n      <td>adc3f973d4ab45cf99d680d2a7ca7962</td>\n      <td>vs03</td>\n      <td>pos</td>\n      <td>0</td>\n      <td>73</td>\n      <td>k</td>\n      <td>1</td>\n      <td>1993</td>\n    </tr>\n    <tr>\n      <th>3</th>\n      <td>8bff1569825c4ec6bb1cbc6f4ca48c23</td>\n      <td>vs04</td>\n      <td>neg</td>\n      <td>0</td>\n      <td>175</td>\n      <td>k</td>\n      <td>0</td>\n      <td>2005</td>\n    </tr>\n    <tr>\n      <th>4</th>\n      <td>c2b326826b9f4477a40798cfd9bc4c78</td>\n      <td>vs05</td>\n      <td>neg</td>\n      <td>0</td>\n      <td>174</td>\n      <td>k</td>\n      <td>0</td>\n      <td>1995</td>\n    </tr>\n    <tr>\n      <th>...</th>\n      <td>...</td>\n      <td>...</td>\n      <td>...</td>\n      <td>...</td>\n      <td>...</td>\n      <td>...</td>\n      <td>...</td>\n      <td>...</td>\n    </tr>\n    <tr>\n      <th>268</th>\n      <td>b943125aa6d84818a8b1d5c2695ebf37</td>\n      <td>vs182</td>\n      <td>pos</td>\n      <td>1</td>\n      <td>103</td>\n      <td>k</td>\n      <td>1</td>\n      <td>1971</td>\n    </tr>\n    <tr>\n      <th>269</th>\n      <td>39f3b8bf12824ca8a58b3c8735468b15</td>\n      <td>vs182</td>\n      <td>neg</td>\n      <td>0</td>\n      <td>129</td>\n      <td>k</td>\n      <td>1</td>\n      <td>1971</td>\n    </tr>\n    <tr>\n      <th>270</th>\n      <td>9afe1e2aea694e1eae26772b779c641f</td>\n      <td>vs183</td>\n      <td>neg</td>\n      <td>0</td>\n      <td>214</td>\n      <td>k</td>\n      <td>1</td>\n      <td>1966</td>\n    </tr>\n    <tr>\n      <th>271</th>\n      <td>de78c0a6af96435babc9ee2f878d1d89</td>\n      <td>vs184</td>\n      <td>neg</td>\n      <td>0</td>\n      <td>181</td>\n      <td>k</td>\n      <td>0</td>\n      <td>1996</td>\n    </tr>\n    <tr>\n      <th>272</th>\n      <td>347e8f612bd54e68b509a86cb1b7db70</td>\n      <td>vs185</td>\n      <td>neg</td>\n      <td>0</td>\n      <td>135</td>\n      <td>k</td>\n      <td>1</td>\n      <td>2001</td>\n    </tr>\n  </tbody>\n</table>\n<p>273 rows × 8 columns</p>\n</div>"
     },
     "execution_count": 2,
     "metadata": {},
     "output_type": "execute_result"
    }
   ],
   "source": [
    "path = \"data/data vali ht23.xlsx\"\n",
    "df = pd.read_excel(path)\n",
    "df"
   ],
   "metadata": {
    "collapsed": false,
    "ExecuteTime": {
     "end_time": "2023-09-29T12:01:47.621583268Z",
     "start_time": "2023-09-29T12:01:46.986722567Z"
    }
   },
   "id": "1a1517d088df3bae"
  },
  {
   "cell_type": "code",
   "execution_count": 3,
   "outputs": [
    {
     "data": {
      "text/plain": "(269,)"
     },
     "execution_count": 3,
     "metadata": {},
     "output_type": "execute_result"
    }
   ],
   "source": [
    "df[\"alias\"].unique().shape"
   ],
   "metadata": {
    "collapsed": false,
    "ExecuteTime": {
     "end_time": "2023-09-29T12:01:47.625227524Z",
     "start_time": "2023-09-29T12:01:47.622233321Z"
    }
   },
   "id": "7db6f72caf8be6cc"
  },
  {
   "cell_type": "code",
   "execution_count": 4,
   "outputs": [
    {
     "data": {
      "text/plain": "19     d3df9bb8ac8f4ece94fc689aaa5ad983\n59     b28b359818c04640b7cb0c29186de775\n79     2c4cdfd4decf4b7daed896787f5fe0d1\n83     d3df9bb8ac8f4ece94fc689aaa5ad983\n117    b28b359818c04640b7cb0c29186de775\n190    fcd7ef46eba14ed9ae8c644bd44dc433\n193    fcd7ef46eba14ed9ae8c644bd44dc433\n257    2c4cdfd4decf4b7daed896787f5fe0d1\nName: alias, dtype: object"
     },
     "execution_count": 4,
     "metadata": {},
     "output_type": "execute_result"
    }
   ],
   "source": [
    "non_unique_col = df['alias'][df['alias'].duplicated(keep=False)]\n",
    "non_unique_col"
   ],
   "metadata": {
    "collapsed": false,
    "ExecuteTime": {
     "end_time": "2023-09-29T12:01:47.636152409Z",
     "start_time": "2023-09-29T12:01:47.624863857Z"
    }
   },
   "id": "f08f421eec8ca16f"
  },
  {
   "cell_type": "markdown",
   "source": [
    "# Post Correction\n",
    "\n",
    "No duplicates found, everything looks good"
   ],
   "metadata": {
    "collapsed": false
   },
   "id": "70101a12ba8663ec"
  },
  {
   "cell_type": "code",
   "execution_count": 2,
   "outputs": [
    {
     "data": {
      "text/plain": "                                alias     ID valens  set  rand id sex  \\\n0    d7d10d207311457ba0e6b3abe8562ca8   vs01    pos    0        0   k   \n1    b30bbdf8a1ee4528a8932474ac5b0ea2   vs02    neg    0      150   k   \n2    adc3f973d4ab45cf99d680d2a7ca7962   vs03    pos    0       73   k   \n3    8bff1569825c4ec6bb1cbc6f4ca48c23   vs04    neg    0      175   k   \n4    c2b326826b9f4477a40798cfd9bc4c78   vs05    neg    0      174   k   \n..                                ...    ...    ...  ...      ...  ..   \n264  b943125aa6d84818a8b1d5c2695ebf37  vs182    pos    1      103   k   \n265  39f3b8bf12824ca8a58b3c8735468b15  vs182    neg    0      129   k   \n266  9afe1e2aea694e1eae26772b779c641f  vs183    neg    0      214   k   \n267  de78c0a6af96435babc9ee2f878d1d89  vs184    neg    0      181   k   \n268  347e8f612bd54e68b509a86cb1b7db70  vs185    neg    0      135   k   \n\n     kontakt igen  födelseår  \n0               1       1997  \n1               0       1987  \n2               1       1993  \n3               0       2005  \n4               0       1995  \n..            ...        ...  \n264             1       1971  \n265             1       1971  \n266             1       1966  \n267             0       1996  \n268             1       2001  \n\n[269 rows x 8 columns]",
      "text/html": "<div>\n<style scoped>\n    .dataframe tbody tr th:only-of-type {\n        vertical-align: middle;\n    }\n\n    .dataframe tbody tr th {\n        vertical-align: top;\n    }\n\n    .dataframe thead th {\n        text-align: right;\n    }\n</style>\n<table border=\"1\" class=\"dataframe\">\n  <thead>\n    <tr style=\"text-align: right;\">\n      <th></th>\n      <th>alias</th>\n      <th>ID</th>\n      <th>valens</th>\n      <th>set</th>\n      <th>rand id</th>\n      <th>sex</th>\n      <th>kontakt igen</th>\n      <th>födelseår</th>\n    </tr>\n  </thead>\n  <tbody>\n    <tr>\n      <th>0</th>\n      <td>d7d10d207311457ba0e6b3abe8562ca8</td>\n      <td>vs01</td>\n      <td>pos</td>\n      <td>0</td>\n      <td>0</td>\n      <td>k</td>\n      <td>1</td>\n      <td>1997</td>\n    </tr>\n    <tr>\n      <th>1</th>\n      <td>b30bbdf8a1ee4528a8932474ac5b0ea2</td>\n      <td>vs02</td>\n      <td>neg</td>\n      <td>0</td>\n      <td>150</td>\n      <td>k</td>\n      <td>0</td>\n      <td>1987</td>\n    </tr>\n    <tr>\n      <th>2</th>\n      <td>adc3f973d4ab45cf99d680d2a7ca7962</td>\n      <td>vs03</td>\n      <td>pos</td>\n      <td>0</td>\n      <td>73</td>\n      <td>k</td>\n      <td>1</td>\n      <td>1993</td>\n    </tr>\n    <tr>\n      <th>3</th>\n      <td>8bff1569825c4ec6bb1cbc6f4ca48c23</td>\n      <td>vs04</td>\n      <td>neg</td>\n      <td>0</td>\n      <td>175</td>\n      <td>k</td>\n      <td>0</td>\n      <td>2005</td>\n    </tr>\n    <tr>\n      <th>4</th>\n      <td>c2b326826b9f4477a40798cfd9bc4c78</td>\n      <td>vs05</td>\n      <td>neg</td>\n      <td>0</td>\n      <td>174</td>\n      <td>k</td>\n      <td>0</td>\n      <td>1995</td>\n    </tr>\n    <tr>\n      <th>...</th>\n      <td>...</td>\n      <td>...</td>\n      <td>...</td>\n      <td>...</td>\n      <td>...</td>\n      <td>...</td>\n      <td>...</td>\n      <td>...</td>\n    </tr>\n    <tr>\n      <th>264</th>\n      <td>b943125aa6d84818a8b1d5c2695ebf37</td>\n      <td>vs182</td>\n      <td>pos</td>\n      <td>1</td>\n      <td>103</td>\n      <td>k</td>\n      <td>1</td>\n      <td>1971</td>\n    </tr>\n    <tr>\n      <th>265</th>\n      <td>39f3b8bf12824ca8a58b3c8735468b15</td>\n      <td>vs182</td>\n      <td>neg</td>\n      <td>0</td>\n      <td>129</td>\n      <td>k</td>\n      <td>1</td>\n      <td>1971</td>\n    </tr>\n    <tr>\n      <th>266</th>\n      <td>9afe1e2aea694e1eae26772b779c641f</td>\n      <td>vs183</td>\n      <td>neg</td>\n      <td>0</td>\n      <td>214</td>\n      <td>k</td>\n      <td>1</td>\n      <td>1966</td>\n    </tr>\n    <tr>\n      <th>267</th>\n      <td>de78c0a6af96435babc9ee2f878d1d89</td>\n      <td>vs184</td>\n      <td>neg</td>\n      <td>0</td>\n      <td>181</td>\n      <td>k</td>\n      <td>0</td>\n      <td>1996</td>\n    </tr>\n    <tr>\n      <th>268</th>\n      <td>347e8f612bd54e68b509a86cb1b7db70</td>\n      <td>vs185</td>\n      <td>neg</td>\n      <td>0</td>\n      <td>135</td>\n      <td>k</td>\n      <td>1</td>\n      <td>2001</td>\n    </tr>\n  </tbody>\n</table>\n<p>269 rows × 8 columns</p>\n</div>"
     },
     "execution_count": 2,
     "metadata": {},
     "output_type": "execute_result"
    }
   ],
   "source": [
    "path = \"data/data vali ht23.xlsx\"\n",
    "df = pd.read_excel(path)\n",
    "df"
   ],
   "metadata": {
    "collapsed": false,
    "ExecuteTime": {
     "end_time": "2023-10-12T14:53:23.710577091Z",
     "start_time": "2023-10-12T14:53:23.058542436Z"
    }
   },
   "id": "dea19b032ec43d91"
  },
  {
   "cell_type": "code",
   "execution_count": 3,
   "outputs": [
    {
     "data": {
      "text/plain": "(269,)"
     },
     "execution_count": 3,
     "metadata": {},
     "output_type": "execute_result"
    }
   ],
   "source": [
    "df[\"alias\"].unique().shape"
   ],
   "metadata": {
    "collapsed": false,
    "ExecuteTime": {
     "end_time": "2023-10-12T14:53:31.528067479Z",
     "start_time": "2023-10-12T14:53:31.522940345Z"
    }
   },
   "id": "451fe01fbfb17ec2"
  },
  {
   "cell_type": "code",
   "execution_count": 4,
   "outputs": [
    {
     "data": {
      "text/plain": "Series([], Name: alias, dtype: object)"
     },
     "execution_count": 4,
     "metadata": {},
     "output_type": "execute_result"
    }
   ],
   "source": [
    "non_unique_col = df['alias'][df['alias'].duplicated(keep=False)]\n",
    "non_unique_col"
   ],
   "metadata": {
    "collapsed": false,
    "ExecuteTime": {
     "end_time": "2023-10-12T14:53:37.210106662Z",
     "start_time": "2023-10-12T14:53:37.208066192Z"
    }
   },
   "id": "a3e50ae3ac897baa"
  }
 ],
 "metadata": {
  "kernelspec": {
   "display_name": "Python 3",
   "language": "python",
   "name": "python3"
  },
  "language_info": {
   "codemirror_mode": {
    "name": "ipython",
    "version": 2
   },
   "file_extension": ".py",
   "mimetype": "text/x-python",
   "name": "python",
   "nbconvert_exporter": "python",
   "pygments_lexer": "ipython2",
   "version": "2.7.6"
  }
 },
 "nbformat": 4,
 "nbformat_minor": 5
}
