{
 "cells": [
  {
   "cell_type": "code",
   "execution_count": 2,
   "id": "initial_id",
   "metadata": {
    "collapsed": true,
    "ExecuteTime": {
     "end_time": "2024-03-06T13:04:39.546777Z",
     "start_time": "2024-03-06T13:04:39.542837Z"
    }
   },
   "outputs": [],
   "source": [
    "import numpy as np\n",
    "import pandas as pd"
   ]
  },
  {
   "cell_type": "code",
   "outputs": [
    {
     "data": {
      "text/plain": "   user_id                                          survey_id  \\\n0  default  1d1439eb990b9fbdc99bf899dc7a7f9cb61a9a404e5677...   \n1  default  1d1439eb990b9fbdc99bf899dc7a7f9cb61a9a404e5677...   \n2  default  1d1439eb990b9fbdc99bf899dc7a7f9cb61a9a404e5677...   \n3  default  1d1439eb990b9fbdc99bf899dc7a7f9cb61a9a404e5677...   \n4  default  1d1439eb990b9fbdc99bf899dc7a7f9cb61a9a404e5677...   \n\n   survey_item_index          filename  has_reply               emotion_1  \\\n0                  0  A200_int_v_3.mp4          1      interest_curiosity   \n1                  1  A102_exc_v_3.mp4          1  excitement_expectation   \n2                  2  A102_fea_p_2.mp4          1                    fear   \n3                  3  A102_amu_v_3.mp4          1               amusement   \n4                  4  A207_pea_v_2.mp4          1   peacefulness_serenity   \n\n  video_id  mix  emotion_1_id  emotion_2_id  intensity_level  \\\n0     A200    0            29           100              3.0   \n1     A102    0            36           100              3.0   \n2     A102    0            10           100              2.0   \n3     A102    0            13           100              3.0   \n4     A207    0            25           100              2.0   \n\n   reply_dim_Novelty  reply_dim_Pleasantness  reply_dim_Goal conduciveness  \\\n0                  1                       4                             4   \n1                  1                       5                             5   \n2                  3                       1                             1   \n3                  2                       4                             4   \n4                  1                       2                             2   \n\n   reply_dim_Urgency  reply_dim_Power  reply_dim_Norm compatibility  \n0                  1                3                             3  \n1                  1                3                             5  \n2                  2                2                             1  \n3                  2                3                             4  \n4                  2                2                             2  ",
      "text/html": "<div>\n<style scoped>\n    .dataframe tbody tr th:only-of-type {\n        vertical-align: middle;\n    }\n\n    .dataframe tbody tr th {\n        vertical-align: top;\n    }\n\n    .dataframe thead th {\n        text-align: right;\n    }\n</style>\n<table border=\"1\" class=\"dataframe\">\n  <thead>\n    <tr style=\"text-align: right;\">\n      <th></th>\n      <th>user_id</th>\n      <th>survey_id</th>\n      <th>survey_item_index</th>\n      <th>filename</th>\n      <th>has_reply</th>\n      <th>emotion_1</th>\n      <th>video_id</th>\n      <th>mix</th>\n      <th>emotion_1_id</th>\n      <th>emotion_2_id</th>\n      <th>intensity_level</th>\n      <th>reply_dim_Novelty</th>\n      <th>reply_dim_Pleasantness</th>\n      <th>reply_dim_Goal conduciveness</th>\n      <th>reply_dim_Urgency</th>\n      <th>reply_dim_Power</th>\n      <th>reply_dim_Norm compatibility</th>\n    </tr>\n  </thead>\n  <tbody>\n    <tr>\n      <th>0</th>\n      <td>default</td>\n      <td>1d1439eb990b9fbdc99bf899dc7a7f9cb61a9a404e5677...</td>\n      <td>0</td>\n      <td>A200_int_v_3.mp4</td>\n      <td>1</td>\n      <td>interest_curiosity</td>\n      <td>A200</td>\n      <td>0</td>\n      <td>29</td>\n      <td>100</td>\n      <td>3.0</td>\n      <td>1</td>\n      <td>4</td>\n      <td>4</td>\n      <td>1</td>\n      <td>3</td>\n      <td>3</td>\n    </tr>\n    <tr>\n      <th>1</th>\n      <td>default</td>\n      <td>1d1439eb990b9fbdc99bf899dc7a7f9cb61a9a404e5677...</td>\n      <td>1</td>\n      <td>A102_exc_v_3.mp4</td>\n      <td>1</td>\n      <td>excitement_expectation</td>\n      <td>A102</td>\n      <td>0</td>\n      <td>36</td>\n      <td>100</td>\n      <td>3.0</td>\n      <td>1</td>\n      <td>5</td>\n      <td>5</td>\n      <td>1</td>\n      <td>3</td>\n      <td>5</td>\n    </tr>\n    <tr>\n      <th>2</th>\n      <td>default</td>\n      <td>1d1439eb990b9fbdc99bf899dc7a7f9cb61a9a404e5677...</td>\n      <td>2</td>\n      <td>A102_fea_p_2.mp4</td>\n      <td>1</td>\n      <td>fear</td>\n      <td>A102</td>\n      <td>0</td>\n      <td>10</td>\n      <td>100</td>\n      <td>2.0</td>\n      <td>3</td>\n      <td>1</td>\n      <td>1</td>\n      <td>2</td>\n      <td>2</td>\n      <td>1</td>\n    </tr>\n    <tr>\n      <th>3</th>\n      <td>default</td>\n      <td>1d1439eb990b9fbdc99bf899dc7a7f9cb61a9a404e5677...</td>\n      <td>3</td>\n      <td>A102_amu_v_3.mp4</td>\n      <td>1</td>\n      <td>amusement</td>\n      <td>A102</td>\n      <td>0</td>\n      <td>13</td>\n      <td>100</td>\n      <td>3.0</td>\n      <td>2</td>\n      <td>4</td>\n      <td>4</td>\n      <td>2</td>\n      <td>3</td>\n      <td>4</td>\n    </tr>\n    <tr>\n      <th>4</th>\n      <td>default</td>\n      <td>1d1439eb990b9fbdc99bf899dc7a7f9cb61a9a404e5677...</td>\n      <td>4</td>\n      <td>A207_pea_v_2.mp4</td>\n      <td>1</td>\n      <td>peacefulness_serenity</td>\n      <td>A207</td>\n      <td>0</td>\n      <td>25</td>\n      <td>100</td>\n      <td>2.0</td>\n      <td>1</td>\n      <td>2</td>\n      <td>2</td>\n      <td>2</td>\n      <td>2</td>\n      <td>2</td>\n    </tr>\n  </tbody>\n</table>\n</div>"
     },
     "execution_count": 3,
     "metadata": {},
     "output_type": "execute_result"
    }
   ],
   "source": [
    "path = \"../data/appraisal/export_appraisal.csv\"\n",
    "df = pd.read_csv(path)\n",
    "df.head()"
   ],
   "metadata": {
    "collapsed": false,
    "ExecuteTime": {
     "end_time": "2024-03-06T13:04:50.695854Z",
     "start_time": "2024-03-06T13:04:50.679810Z"
    }
   },
   "id": "518415c68217cb9f",
   "execution_count": 3
  },
  {
   "cell_type": "code",
   "outputs": [
    {
     "data": {
      "text/plain": "Index(['user_id', 'survey_id', 'survey_item_index', 'filename', 'has_reply',\n       'emotion_1', 'video_id', 'mix', 'emotion_1_id', 'emotion_2_id',\n       'intensity_level', 'reply_dim_Novelty', 'reply_dim_Pleasantness',\n       'reply_dim_Goal conduciveness', 'reply_dim_Urgency', 'reply_dim_Power',\n       'reply_dim_Norm compatibility'],\n      dtype='object')"
     },
     "execution_count": 5,
     "metadata": {},
     "output_type": "execute_result"
    }
   ],
   "source": [
    "df.columns"
   ],
   "metadata": {
    "collapsed": false,
    "ExecuteTime": {
     "end_time": "2024-03-06T13:06:43.451573Z",
     "start_time": "2024-03-06T13:06:43.445053Z"
    }
   },
   "id": "8a9381641048c76b",
   "execution_count": 5
  },
  {
   "cell_type": "code",
   "outputs": [
    {
     "data": {
      "text/plain": "     reply_dim_Novelty  reply_dim_Pleasantness  reply_dim_Goal conduciveness  \\\n0                    1                       4                             4   \n1                    1                       5                             5   \n2                    3                       1                             1   \n3                    2                       4                             4   \n4                    1                       2                             2   \n..                 ...                     ...                           ...   \n787                  3                       5                             5   \n788                  5                       1                             1   \n789                  4                       5                             5   \n790                  1                       3                             2   \n791                  2                       4                             4   \n\n     reply_dim_Urgency  reply_dim_Power  reply_dim_Norm compatibility  \n0                    1                3                             3  \n1                    1                3                             5  \n2                    2                2                             1  \n3                    2                3                             4  \n4                    2                2                             2  \n..                 ...              ...                           ...  \n787                  3                4                             5  \n788                  4                4                             2  \n789                  4                5                             5  \n790                  2                4                             3  \n791                  2                4                             4  \n\n[792 rows x 6 columns]",
      "text/html": "<div>\n<style scoped>\n    .dataframe tbody tr th:only-of-type {\n        vertical-align: middle;\n    }\n\n    .dataframe tbody tr th {\n        vertical-align: top;\n    }\n\n    .dataframe thead th {\n        text-align: right;\n    }\n</style>\n<table border=\"1\" class=\"dataframe\">\n  <thead>\n    <tr style=\"text-align: right;\">\n      <th></th>\n      <th>reply_dim_Novelty</th>\n      <th>reply_dim_Pleasantness</th>\n      <th>reply_dim_Goal conduciveness</th>\n      <th>reply_dim_Urgency</th>\n      <th>reply_dim_Power</th>\n      <th>reply_dim_Norm compatibility</th>\n    </tr>\n  </thead>\n  <tbody>\n    <tr>\n      <th>0</th>\n      <td>1</td>\n      <td>4</td>\n      <td>4</td>\n      <td>1</td>\n      <td>3</td>\n      <td>3</td>\n    </tr>\n    <tr>\n      <th>1</th>\n      <td>1</td>\n      <td>5</td>\n      <td>5</td>\n      <td>1</td>\n      <td>3</td>\n      <td>5</td>\n    </tr>\n    <tr>\n      <th>2</th>\n      <td>3</td>\n      <td>1</td>\n      <td>1</td>\n      <td>2</td>\n      <td>2</td>\n      <td>1</td>\n    </tr>\n    <tr>\n      <th>3</th>\n      <td>2</td>\n      <td>4</td>\n      <td>4</td>\n      <td>2</td>\n      <td>3</td>\n      <td>4</td>\n    </tr>\n    <tr>\n      <th>4</th>\n      <td>1</td>\n      <td>2</td>\n      <td>2</td>\n      <td>2</td>\n      <td>2</td>\n      <td>2</td>\n    </tr>\n    <tr>\n      <th>...</th>\n      <td>...</td>\n      <td>...</td>\n      <td>...</td>\n      <td>...</td>\n      <td>...</td>\n      <td>...</td>\n    </tr>\n    <tr>\n      <th>787</th>\n      <td>3</td>\n      <td>5</td>\n      <td>5</td>\n      <td>3</td>\n      <td>4</td>\n      <td>5</td>\n    </tr>\n    <tr>\n      <th>788</th>\n      <td>5</td>\n      <td>1</td>\n      <td>1</td>\n      <td>4</td>\n      <td>4</td>\n      <td>2</td>\n    </tr>\n    <tr>\n      <th>789</th>\n      <td>4</td>\n      <td>5</td>\n      <td>5</td>\n      <td>4</td>\n      <td>5</td>\n      <td>5</td>\n    </tr>\n    <tr>\n      <th>790</th>\n      <td>1</td>\n      <td>3</td>\n      <td>2</td>\n      <td>2</td>\n      <td>4</td>\n      <td>3</td>\n    </tr>\n    <tr>\n      <th>791</th>\n      <td>2</td>\n      <td>4</td>\n      <td>4</td>\n      <td>2</td>\n      <td>4</td>\n      <td>4</td>\n    </tr>\n  </tbody>\n</table>\n<p>792 rows × 6 columns</p>\n</div>"
     },
     "execution_count": 15,
     "metadata": {},
     "output_type": "execute_result"
    }
   ],
   "source": [
    "scales = [\n",
    "    'reply_dim_Novelty',\n",
    "    'reply_dim_Pleasantness',\n",
    "    'reply_dim_Goal conduciveness',\n",
    "    'reply_dim_Urgency',\n",
    "    'reply_dim_Power',\n",
    "    'reply_dim_Norm compatibility'\n",
    "]\n",
    "\n",
    "scales_df = df[scales]\n",
    "scales_df"
   ],
   "metadata": {
    "collapsed": false,
    "ExecuteTime": {
     "end_time": "2024-03-06T13:38:57.723877Z",
     "start_time": "2024-03-06T13:38:57.710993Z"
    }
   },
   "id": "6d0533c3e6b0869b",
   "execution_count": 15
  },
  {
   "cell_type": "code",
   "outputs": [
    {
     "data": {
      "text/plain": "6"
     },
     "execution_count": 8,
     "metadata": {},
     "output_type": "execute_result"
    }
   ],
   "source": [
    "# Number of items\n",
    "n_items = len(scales_df.columns)\n",
    "n_items"
   ],
   "metadata": {
    "collapsed": false,
    "ExecuteTime": {
     "end_time": "2024-03-06T13:07:42.652705Z",
     "start_time": "2024-03-06T13:07:42.647405Z"
    }
   },
   "id": "4ed72c56a4a9a450",
   "execution_count": 8
  },
  {
   "cell_type": "code",
   "outputs": [
    {
     "data": {
      "text/plain": "reply_dim_Novelty               1.737016\nreply_dim_Pleasantness          2.185941\nreply_dim_Goal conduciveness    2.425385\nreply_dim_Urgency               1.774392\nreply_dim_Power                 1.635285\nreply_dim_Norm compatibility    2.108698\ndtype: float64"
     },
     "execution_count": 9,
     "metadata": {},
     "output_type": "execute_result"
    }
   ],
   "source": [
    "# Item variances\n",
    "item_variances = scales_df.var(ddof=1)\n",
    "item_variances"
   ],
   "metadata": {
    "collapsed": false,
    "ExecuteTime": {
     "end_time": "2024-03-06T13:11:51.921001Z",
     "start_time": "2024-03-06T13:11:51.912926Z"
    }
   },
   "id": "db449bcdb4edfe51",
   "execution_count": 9
  },
  {
   "cell_type": "code",
   "outputs": [
    {
     "data": {
      "text/plain": "0      16\n1      20\n2      10\n3      19\n4      11\n       ..\n787    25\n788    17\n789    28\n790    15\n791    20\nLength: 792, dtype: int64"
     },
     "execution_count": 11,
     "metadata": {},
     "output_type": "execute_result"
    }
   ],
   "source": [
    "# Total variances\n",
    "respondent_totals = scales_df.sum(axis=1)\n",
    "respondent_totals"
   ],
   "metadata": {
    "collapsed": false,
    "ExecuteTime": {
     "end_time": "2024-03-06T13:12:26.786893Z",
     "start_time": "2024-03-06T13:12:26.779560Z"
    }
   },
   "id": "47febd8364fc3b38",
   "execution_count": 11
  },
  {
   "cell_type": "code",
   "outputs": [
    {
     "data": {
      "text/plain": "26.284711846658745"
     },
     "execution_count": 12,
     "metadata": {},
     "output_type": "execute_result"
    }
   ],
   "source": [
    "total_variance = respondent_totals.var(ddof=1)\n",
    "total_variance"
   ],
   "metadata": {
    "collapsed": false,
    "ExecuteTime": {
     "end_time": "2024-03-06T13:20:20.799984Z",
     "start_time": "2024-03-06T13:20:20.793802Z"
    }
   },
   "id": "13f3196d9e3bf562",
   "execution_count": 12
  },
  {
   "cell_type": "code",
   "outputs": [
    {
     "name": "stdout",
     "output_type": "stream",
     "text": [
      "Cronbach's Alpha: 0.6582379060301083\n"
     ]
    }
   ],
   "source": [
    "# Cronbach's Alpha\n",
    "cronbach_alpha = (n_items / (n_items - 1)) * (1 - item_variances.sum() / total_variance)\n",
    "\n",
    "print(f\"Cronbach's Alpha: {cronbach_alpha}\")"
   ],
   "metadata": {
    "collapsed": false,
    "ExecuteTime": {
     "end_time": "2024-03-06T13:21:17.317311Z",
     "start_time": "2024-03-06T13:21:17.311116Z"
    }
   },
   "id": "45f0e0dfd7b9c79f",
   "execution_count": 13
  },
  {
   "cell_type": "markdown",
   "source": [
    "## Intraclass Correlation "
   ],
   "metadata": {
    "collapsed": false
   },
   "id": "e269f233fc7a6323"
  },
  {
   "cell_type": "code",
   "outputs": [
    {
     "data": {
      "text/plain": "filename\nA102_amu_v_3.mp4        2.888889\nA102_ang_p_3.mp4        2.777778\nA102_ang_v_2.mp4        3.333333\nA102_anx_p_2.mp4        2.111111\nA102_anx_p_3.mp4        2.555556\n                          ...   \nA327_ele_p_3.mp4        3.000000\nA334_reg_p_2.mp4        2.111111\nA407_ins_p_2.mp4        3.222222\nA424_ele_v_3.mp4        2.666667\nA55_gui_v_2_ver1.mp4    1.333333\nName: reply_dim_Novelty, Length: 88, dtype: float64"
     },
     "execution_count": 17,
     "metadata": {},
     "output_type": "execute_result"
    }
   ],
   "source": [
    "video_means = df.groupby('filename')[scales[0]].mean()\n",
    "video_means"
   ],
   "metadata": {
    "collapsed": false,
    "ExecuteTime": {
     "end_time": "2024-03-06T13:39:05.917083Z",
     "start_time": "2024-03-06T13:39:05.907663Z"
    }
   },
   "id": "c6863099d1d33c2c",
   "execution_count": 17
  },
  {
   "cell_type": "code",
   "outputs": [
    {
     "data": {
      "text/plain": "0.6905005107252298"
     },
     "execution_count": 28,
     "metadata": {},
     "output_type": "execute_result"
    }
   ],
   "source": [
    "# Calculate the grand mean across all ratings for this scale\n",
    "grand_mean = df[scales[0]].mean()\n",
    "\n",
    "# Compute the squared differences from the grand mean for each video's mean rating\n",
    "squared_diffs = (video_means - grand_mean) ** 2\n",
    "\n",
    "# Compute MSB: mean of these squared differences, adjust for degrees of freedom if necessary\n",
    "MSB = squared_diffs.mean()\n",
    "MSB"
   ],
   "metadata": {
    "collapsed": false,
    "ExecuteTime": {
     "end_time": "2024-03-06T16:07:25.140218Z",
     "start_time": "2024-03-06T16:07:25.134730Z"
    }
   },
   "id": "f1963cc8dcbb66cd",
   "execution_count": 28
  },
  {
   "cell_type": "code",
   "outputs": [
    {
     "data": {
      "text/plain": "filename\nA102_amu_v_3.mp4        2.888889\nA102_ang_p_3.mp4        2.777778\nA102_ang_v_2.mp4        3.333333\nA102_anx_p_2.mp4        2.111111\nA102_anx_p_3.mp4        2.555556\n                          ...   \nA334_reg_p_2.mp4        2.111111\nA407_ins_p_2.mp4        3.222222\nA424_ele_v_3.mp4        2.666667\nA55_gui_v_2_ver1.mp4    1.333333\ngrand_mean              2.494949\nName: video_mean, Length: 89, dtype: float64"
     },
     "execution_count": 29,
     "metadata": {},
     "output_type": "execute_result"
    }
   ],
   "source": [
    "video_means"
   ],
   "metadata": {
    "collapsed": false,
    "ExecuteTime": {
     "end_time": "2024-03-06T16:07:33.649241Z",
     "start_time": "2024-03-06T16:07:33.641393Z"
    }
   },
   "id": "10a7b0ca4e984507",
   "execution_count": 29
  },
  {
   "cell_type": "code",
   "outputs": [
    {
     "data": {
      "text/plain": "1.0364758698092031"
     },
     "execution_count": 21,
     "metadata": {},
     "output_type": "execute_result"
    }
   ],
   "source": [
    "intermediary_df = df[['filename', scales[0]]].copy()\n",
    "video_means = intermediary_df.groupby('filename')[scales[0]].mean().rename('video_mean')\n",
    "intermediary_df = intermediary_df.merge(video_means, on='filename')\n",
    "\n",
    "intermediary_df['squared_diffs'] = (intermediary_df[scales[0]] - intermediary_df['video_mean']) ** 2\n",
    "\n",
    "MSE = intermediary_df['squared_diffs'].mean()\n",
    "MSE"
   ],
   "metadata": {
    "collapsed": false,
    "ExecuteTime": {
     "end_time": "2024-03-06T15:20:34.928005Z",
     "start_time": "2024-03-06T15:20:34.915354Z"
    }
   },
   "id": "d507257fd55a9c20",
   "execution_count": 21
  },
  {
   "cell_type": "code",
   "outputs": [
    {
     "data": {
      "text/plain": "0.6970839608781992"
     },
     "execution_count": 25,
     "metadata": {},
     "output_type": "execute_result"
    }
   ],
   "source": [
    "MSB - MSE / (MSB +  (792 -1) * MSE)"
   ],
   "metadata": {
    "collapsed": false,
    "ExecuteTime": {
     "end_time": "2024-03-06T16:00:31.748801Z",
     "start_time": "2024-03-06T16:00:31.743463Z"
    }
   },
   "id": "70daa69f8649101a",
   "execution_count": 25
  },
  {
   "cell_type": "code",
   "outputs": [
    {
     "data": {
      "text/plain": "(792, 17)"
     },
     "execution_count": 24,
     "metadata": {},
     "output_type": "execute_result"
    }
   ],
   "source": [
    "df.shape"
   ],
   "metadata": {
    "collapsed": false,
    "ExecuteTime": {
     "end_time": "2024-03-06T16:00:07.186953Z",
     "start_time": "2024-03-06T16:00:07.182033Z"
    }
   },
   "id": "54ddbdfa4e6b7192",
   "execution_count": 24
  }
 ],
 "metadata": {
  "kernelspec": {
   "display_name": "Python 3",
   "language": "python",
   "name": "python3"
  },
  "language_info": {
   "codemirror_mode": {
    "name": "ipython",
    "version": 2
   },
   "file_extension": ".py",
   "mimetype": "text/x-python",
   "name": "python",
   "nbconvert_exporter": "python",
   "pygments_lexer": "ipython2",
   "version": "2.7.6"
  }
 },
 "nbformat": 4,
 "nbformat_minor": 5
}
