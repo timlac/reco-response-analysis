{
 "cells": [
  {
   "cell_type": "code",
   "execution_count": 55,
   "id": "initial_id",
   "metadata": {
    "collapsed": true,
    "ExecuteTime": {
     "end_time": "2024-03-27T15:43:58.592268Z",
     "start_time": "2024-03-27T15:43:58.588279Z"
    }
   },
   "outputs": [],
   "source": [
    "import pandas as pd"
   ]
  },
  {
   "cell_type": "markdown",
   "source": [
    "Something is not right here, take a look at the source code in penguin:\n",
    "\n",
    "https://github.com/raphaelvallat/pingouin/blob/main/src/pingouin/reliability.py\n",
    "\n",
    "relies on ANOVA\n",
    "\n",
    "https://github.com/raphaelvallat/pingouin/blob/main/src/pingouin/parametric.py\n"
   ],
   "metadata": {
    "collapsed": false
   },
   "id": "ca87f4aece8a6fae"
  },
  {
   "cell_type": "code",
   "outputs": [
    {
     "data": {
      "text/plain": "   user_id                                          survey_id  \\\n0  default  1d1439eb990b9fbdc99bf899dc7a7f9cb61a9a404e5677...   \n1  default  1d1439eb990b9fbdc99bf899dc7a7f9cb61a9a404e5677...   \n2  default  1d1439eb990b9fbdc99bf899dc7a7f9cb61a9a404e5677...   \n3  default  1d1439eb990b9fbdc99bf899dc7a7f9cb61a9a404e5677...   \n4  default  1d1439eb990b9fbdc99bf899dc7a7f9cb61a9a404e5677...   \n\n   survey_item_index          filename  has_reply               emotion_1  \\\n0                  0  A200_int_v_3.mp4          1      interest_curiosity   \n1                  1  A102_exc_v_3.mp4          1  excitement_expectation   \n2                  2  A102_fea_p_2.mp4          1                    fear   \n3                  3  A102_amu_v_3.mp4          1               amusement   \n4                  4  A207_pea_v_2.mp4          1   peacefulness_serenity   \n\n  video_id  mix  emotion_1_id  emotion_2_id  intensity_level  \\\n0     A200    0            29           100              3.0   \n1     A102    0            36           100              3.0   \n2     A102    0            10           100              2.0   \n3     A102    0            13           100              3.0   \n4     A207    0            25           100              2.0   \n\n   reply_dim_Novelty  reply_dim_Pleasantness  reply_dim_Goal conduciveness  \\\n0                  1                       4                             4   \n1                  1                       5                             5   \n2                  3                       1                             1   \n3                  2                       4                             4   \n4                  1                       2                             2   \n\n   reply_dim_Urgency  reply_dim_Power  reply_dim_Norm compatibility  \n0                  1                3                             3  \n1                  1                3                             5  \n2                  2                2                             1  \n3                  2                3                             4  \n4                  2                2                             2  ",
      "text/html": "<div>\n<style scoped>\n    .dataframe tbody tr th:only-of-type {\n        vertical-align: middle;\n    }\n\n    .dataframe tbody tr th {\n        vertical-align: top;\n    }\n\n    .dataframe thead th {\n        text-align: right;\n    }\n</style>\n<table border=\"1\" class=\"dataframe\">\n  <thead>\n    <tr style=\"text-align: right;\">\n      <th></th>\n      <th>user_id</th>\n      <th>survey_id</th>\n      <th>survey_item_index</th>\n      <th>filename</th>\n      <th>has_reply</th>\n      <th>emotion_1</th>\n      <th>video_id</th>\n      <th>mix</th>\n      <th>emotion_1_id</th>\n      <th>emotion_2_id</th>\n      <th>intensity_level</th>\n      <th>reply_dim_Novelty</th>\n      <th>reply_dim_Pleasantness</th>\n      <th>reply_dim_Goal conduciveness</th>\n      <th>reply_dim_Urgency</th>\n      <th>reply_dim_Power</th>\n      <th>reply_dim_Norm compatibility</th>\n    </tr>\n  </thead>\n  <tbody>\n    <tr>\n      <th>0</th>\n      <td>default</td>\n      <td>1d1439eb990b9fbdc99bf899dc7a7f9cb61a9a404e5677...</td>\n      <td>0</td>\n      <td>A200_int_v_3.mp4</td>\n      <td>1</td>\n      <td>interest_curiosity</td>\n      <td>A200</td>\n      <td>0</td>\n      <td>29</td>\n      <td>100</td>\n      <td>3.0</td>\n      <td>1</td>\n      <td>4</td>\n      <td>4</td>\n      <td>1</td>\n      <td>3</td>\n      <td>3</td>\n    </tr>\n    <tr>\n      <th>1</th>\n      <td>default</td>\n      <td>1d1439eb990b9fbdc99bf899dc7a7f9cb61a9a404e5677...</td>\n      <td>1</td>\n      <td>A102_exc_v_3.mp4</td>\n      <td>1</td>\n      <td>excitement_expectation</td>\n      <td>A102</td>\n      <td>0</td>\n      <td>36</td>\n      <td>100</td>\n      <td>3.0</td>\n      <td>1</td>\n      <td>5</td>\n      <td>5</td>\n      <td>1</td>\n      <td>3</td>\n      <td>5</td>\n    </tr>\n    <tr>\n      <th>2</th>\n      <td>default</td>\n      <td>1d1439eb990b9fbdc99bf899dc7a7f9cb61a9a404e5677...</td>\n      <td>2</td>\n      <td>A102_fea_p_2.mp4</td>\n      <td>1</td>\n      <td>fear</td>\n      <td>A102</td>\n      <td>0</td>\n      <td>10</td>\n      <td>100</td>\n      <td>2.0</td>\n      <td>3</td>\n      <td>1</td>\n      <td>1</td>\n      <td>2</td>\n      <td>2</td>\n      <td>1</td>\n    </tr>\n    <tr>\n      <th>3</th>\n      <td>default</td>\n      <td>1d1439eb990b9fbdc99bf899dc7a7f9cb61a9a404e5677...</td>\n      <td>3</td>\n      <td>A102_amu_v_3.mp4</td>\n      <td>1</td>\n      <td>amusement</td>\n      <td>A102</td>\n      <td>0</td>\n      <td>13</td>\n      <td>100</td>\n      <td>3.0</td>\n      <td>2</td>\n      <td>4</td>\n      <td>4</td>\n      <td>2</td>\n      <td>3</td>\n      <td>4</td>\n    </tr>\n    <tr>\n      <th>4</th>\n      <td>default</td>\n      <td>1d1439eb990b9fbdc99bf899dc7a7f9cb61a9a404e5677...</td>\n      <td>4</td>\n      <td>A207_pea_v_2.mp4</td>\n      <td>1</td>\n      <td>peacefulness_serenity</td>\n      <td>A207</td>\n      <td>0</td>\n      <td>25</td>\n      <td>100</td>\n      <td>2.0</td>\n      <td>1</td>\n      <td>2</td>\n      <td>2</td>\n      <td>2</td>\n      <td>2</td>\n      <td>2</td>\n    </tr>\n  </tbody>\n</table>\n</div>"
     },
     "execution_count": 67,
     "metadata": {},
     "output_type": "execute_result"
    }
   ],
   "source": [
    "path = \"../data/appraisal/export_appraisal.csv\"\n",
    "df = pd.read_csv(path)\n",
    "df.head()"
   ],
   "metadata": {
    "collapsed": false,
    "ExecuteTime": {
     "end_time": "2024-03-27T15:52:44.897196Z",
     "start_time": "2024-03-27T15:52:44.880298Z"
    }
   },
   "id": "8957901b830f90be",
   "execution_count": 67
  },
  {
   "cell_type": "code",
   "outputs": [
    {
     "data": {
      "text/plain": "     reply_dim_Novelty  reply_dim_Pleasantness  reply_dim_Goal conduciveness  \\\n0                    1                       4                             4   \n1                    1                       5                             5   \n2                    3                       1                             1   \n3                    2                       4                             4   \n4                    1                       2                             2   \n..                 ...                     ...                           ...   \n787                  3                       5                             5   \n788                  5                       1                             1   \n789                  4                       5                             5   \n790                  1                       3                             2   \n791                  2                       4                             4   \n\n     reply_dim_Urgency  reply_dim_Power  reply_dim_Norm compatibility  \n0                    1                3                             3  \n1                    1                3                             5  \n2                    2                2                             1  \n3                    2                3                             4  \n4                    2                2                             2  \n..                 ...              ...                           ...  \n787                  3                4                             5  \n788                  4                4                             2  \n789                  4                5                             5  \n790                  2                4                             3  \n791                  2                4                             4  \n\n[792 rows x 6 columns]",
      "text/html": "<div>\n<style scoped>\n    .dataframe tbody tr th:only-of-type {\n        vertical-align: middle;\n    }\n\n    .dataframe tbody tr th {\n        vertical-align: top;\n    }\n\n    .dataframe thead th {\n        text-align: right;\n    }\n</style>\n<table border=\"1\" class=\"dataframe\">\n  <thead>\n    <tr style=\"text-align: right;\">\n      <th></th>\n      <th>reply_dim_Novelty</th>\n      <th>reply_dim_Pleasantness</th>\n      <th>reply_dim_Goal conduciveness</th>\n      <th>reply_dim_Urgency</th>\n      <th>reply_dim_Power</th>\n      <th>reply_dim_Norm compatibility</th>\n    </tr>\n  </thead>\n  <tbody>\n    <tr>\n      <th>0</th>\n      <td>1</td>\n      <td>4</td>\n      <td>4</td>\n      <td>1</td>\n      <td>3</td>\n      <td>3</td>\n    </tr>\n    <tr>\n      <th>1</th>\n      <td>1</td>\n      <td>5</td>\n      <td>5</td>\n      <td>1</td>\n      <td>3</td>\n      <td>5</td>\n    </tr>\n    <tr>\n      <th>2</th>\n      <td>3</td>\n      <td>1</td>\n      <td>1</td>\n      <td>2</td>\n      <td>2</td>\n      <td>1</td>\n    </tr>\n    <tr>\n      <th>3</th>\n      <td>2</td>\n      <td>4</td>\n      <td>4</td>\n      <td>2</td>\n      <td>3</td>\n      <td>4</td>\n    </tr>\n    <tr>\n      <th>4</th>\n      <td>1</td>\n      <td>2</td>\n      <td>2</td>\n      <td>2</td>\n      <td>2</td>\n      <td>2</td>\n    </tr>\n    <tr>\n      <th>...</th>\n      <td>...</td>\n      <td>...</td>\n      <td>...</td>\n      <td>...</td>\n      <td>...</td>\n      <td>...</td>\n    </tr>\n    <tr>\n      <th>787</th>\n      <td>3</td>\n      <td>5</td>\n      <td>5</td>\n      <td>3</td>\n      <td>4</td>\n      <td>5</td>\n    </tr>\n    <tr>\n      <th>788</th>\n      <td>5</td>\n      <td>1</td>\n      <td>1</td>\n      <td>4</td>\n      <td>4</td>\n      <td>2</td>\n    </tr>\n    <tr>\n      <th>789</th>\n      <td>4</td>\n      <td>5</td>\n      <td>5</td>\n      <td>4</td>\n      <td>5</td>\n      <td>5</td>\n    </tr>\n    <tr>\n      <th>790</th>\n      <td>1</td>\n      <td>3</td>\n      <td>2</td>\n      <td>2</td>\n      <td>4</td>\n      <td>3</td>\n    </tr>\n    <tr>\n      <th>791</th>\n      <td>2</td>\n      <td>4</td>\n      <td>4</td>\n      <td>2</td>\n      <td>4</td>\n      <td>4</td>\n    </tr>\n  </tbody>\n</table>\n<p>792 rows × 6 columns</p>\n</div>"
     },
     "execution_count": 57,
     "metadata": {},
     "output_type": "execute_result"
    }
   ],
   "source": [
    "scales = [\n",
    "    'reply_dim_Novelty',\n",
    "    'reply_dim_Pleasantness',\n",
    "    'reply_dim_Goal conduciveness',\n",
    "    'reply_dim_Urgency',\n",
    "    'reply_dim_Power',\n",
    "    'reply_dim_Norm compatibility'\n",
    "]\n",
    "\n",
    "scales_df = df[scales]\n",
    "scales_df"
   ],
   "metadata": {
    "collapsed": false,
    "ExecuteTime": {
     "end_time": "2024-03-27T15:43:58.643445Z",
     "start_time": "2024-03-27T15:43:58.635079Z"
    }
   },
   "id": "e106dd28523a56a3",
   "execution_count": 57
  },
  {
   "cell_type": "markdown",
   "source": [
    "# One-way random effects, absolute agreement, single rater/measurement"
   ],
   "metadata": {
    "collapsed": false
   },
   "id": "19d2b47e5a247a66"
  },
  {
   "cell_type": "markdown",
   "source": [
    "in the context of Intraclass Correlation Coefficient (ICC) calculations and particularly in Analysis of Variance (ANOVA) frameworks, \"Mean Square for Rows\" (MSR) can correspond to what is often referred to as \"Mean Square Between\" (MSB). This terminology comes from the layout of the ANOVA table, where different sources of variation are partitioned, and the \"rows\" in this case refer to the different groups or categories being compared — in this scenario, the different videos."
   ],
   "metadata": {
    "collapsed": false
   },
   "id": "b1dfd41e6c0311de"
  },
  {
   "cell_type": "code",
   "outputs": [],
   "source": [
    "scale = scales[0]"
   ],
   "metadata": {
    "collapsed": false,
    "ExecuteTime": {
     "end_time": "2024-03-27T15:43:58.649783Z",
     "start_time": "2024-03-27T15:43:58.645881Z"
    }
   },
   "id": "8925e0c78a7aa0cc",
   "execution_count": 58
  },
  {
   "cell_type": "markdown",
   "source": [
    "### MSB for videos"
   ],
   "metadata": {
    "collapsed": false
   },
   "id": "cba1c9bf4bc314b1"
  },
  {
   "cell_type": "code",
   "outputs": [
    {
     "data": {
      "text/plain": "0.6983471074380164"
     },
     "execution_count": 59,
     "metadata": {},
     "output_type": "execute_result"
    }
   ],
   "source": [
    "video_means = df.groupby('filename')[scale].mean()\n",
    "\n",
    "grand_mean = df[scales[0]].mean()\n",
    "\n",
    "# Compute the squared differences from the grand mean for each video's mean rating\n",
    "squared_diffs = (video_means - grand_mean) ** 2\n",
    "\n",
    "# Compute MSB: mean of these squared differences, adjust for degrees of freedom if necessary\n",
    "MSB = squared_diffs.mean()\n",
    "MSB"
   ],
   "metadata": {
    "collapsed": false,
    "ExecuteTime": {
     "end_time": "2024-03-27T15:43:58.657792Z",
     "start_time": "2024-03-27T15:43:58.651371Z"
    }
   },
   "id": "a6f0b3edf88a6e01",
   "execution_count": 59
  },
  {
   "cell_type": "markdown",
   "source": [
    "### MSE for videos"
   ],
   "metadata": {
    "collapsed": false
   },
   "id": "5ef9653c3bccaf07"
  },
  {
   "cell_type": "code",
   "outputs": [
    {
     "data": {
      "text/plain": "1.0364758698092031"
     },
     "execution_count": 60,
     "metadata": {},
     "output_type": "execute_result"
    }
   ],
   "source": [
    "intermediary_df = df[['filename', scale]].copy()\n",
    "video_means = intermediary_df.groupby('filename')[scale].mean().rename('video_mean')\n",
    "intermediary_df = intermediary_df.merge(video_means, on='filename')\n",
    "\n",
    "intermediary_df['squared_diffs'] = (intermediary_df[scale] - intermediary_df['video_mean']) ** 2\n",
    "\n",
    "MSE = intermediary_df['squared_diffs'].mean()\n",
    "MSE"
   ],
   "metadata": {
    "collapsed": false,
    "ExecuteTime": {
     "end_time": "2024-03-27T15:43:58.674759Z",
     "start_time": "2024-03-27T15:43:58.664765Z"
    }
   },
   "id": "8186b2b38ebb04a1",
   "execution_count": 60
  },
  {
   "cell_type": "markdown",
   "source": [
    "### MSE for videos with rater adjustment"
   ],
   "metadata": {
    "collapsed": false
   },
   "id": "178007800bd2ad84"
  },
  {
   "cell_type": "code",
   "outputs": [
    {
     "name": "stdout",
     "output_type": "stream",
     "text": [
      "MSE (adjusted for rater bias): 0.8790164576802507\n"
     ]
    }
   ],
   "source": [
    "# Assume 'df' is your original DataFrame, and 'scale' is the column with the ratings\n",
    "# Copy the DataFrame for calculations\n",
    "df_calc = df.copy()\n",
    "\n",
    "# Calculate the mean rating for each video\n",
    "video_means = df.groupby('filename')[scale].mean().rename('video_mean')\n",
    "\n",
    "# Calculate the overall mean rating for each rater\n",
    "rater_means = df.groupby('survey_id')[scale].mean().rename('rater_mean')\n",
    "\n",
    "# Merge these means into the copy of the DataFrame\n",
    "df_calc = df_calc.merge(video_means, on='filename')\n",
    "df_calc = df_calc.merge(rater_means, on='survey_id')\n",
    "\n",
    "# Adjust ratings by removing the rater's mean and adding the global mean\n",
    "df_calc['adjusted_rating'] = df_calc[scale] - df_calc['rater_mean'] + df[scale].mean()\n",
    "\n",
    "# Calculate the squared deviations of adjusted ratings from each video's mean rating\n",
    "df_calc['squared_dev'] = (df_calc['adjusted_rating'] - df_calc['video_mean']) ** 2\n",
    "\n",
    "# Calculate MSE, accounting for degrees of freedom: total ratings minus number of videos and raters\n",
    "MSE_adjusted = df_calc['squared_dev'].sum() / (len(df_calc) - df_calc['filename'].nunique() - df_calc['survey_id'].nunique() + 1)\n",
    "\n",
    "# MSE_adjusted is the result and doesn't affect the original df\n",
    "print(\"MSE (adjusted for rater bias):\", MSE_adjusted)"
   ],
   "metadata": {
    "collapsed": false,
    "ExecuteTime": {
     "end_time": "2024-03-27T15:43:58.696201Z",
     "start_time": "2024-03-27T15:43:58.684435Z"
    }
   },
   "id": "3e01286f84248d87",
   "execution_count": 61
  },
  {
   "cell_type": "code",
   "outputs": [
    {
     "data": {
      "text/plain": "-0.023371042809087146"
     },
     "execution_count": 62,
     "metadata": {},
     "output_type": "execute_result"
    }
   ],
   "source": [
    "k = df['survey_id'].nunique()\n",
    "ICC_3_1 = (MSB - MSE_adjusted) / (MSB +  (k -1) * MSE_adjusted)\n",
    "ICC_3_1"
   ],
   "metadata": {
    "collapsed": false,
    "ExecuteTime": {
     "end_time": "2024-03-27T15:43:58.742644Z",
     "start_time": "2024-03-27T15:43:58.737448Z"
    }
   },
   "id": "cc123009388480de",
   "execution_count": 62
  },
  {
   "cell_type": "markdown",
   "source": [
    "### MSB for emotions"
   ],
   "metadata": {
    "collapsed": false
   },
   "id": "d41dae917697fade"
  },
  {
   "cell_type": "code",
   "outputs": [
    {
     "data": {
      "text/plain": "0.6001428425670849"
     },
     "execution_count": 63,
     "metadata": {},
     "output_type": "execute_result"
    }
   ],
   "source": [
    "# Calculate the grand mean across all ratings\n",
    "grand_mean = df[scales[0]].mean()\n",
    "\n",
    "# Calculate the mean rating for each construct\n",
    "construct_means = df.groupby('emotion_1')[scale].mean()\n",
    "\n",
    "# Compute the squared differences from the grand mean for each construct's mean rating\n",
    "squared_diffs_constructs = (construct_means - grand_mean) ** 2\n",
    "\n",
    "# Compute MSB for each construct: mean of these squared differences\n",
    "# Adjust for degrees of freedom if necessary. Here, it's just the mean, but in a full ANOVA, you'd divide by the df between constructs\n",
    "MSB_constructs = squared_diffs_constructs.mean()\n",
    "\n",
    "MSB_constructs"
   ],
   "metadata": {
    "collapsed": false,
    "ExecuteTime": {
     "end_time": "2024-03-27T15:43:58.784151Z",
     "start_time": "2024-03-27T15:43:58.777332Z"
    }
   },
   "id": "712218e3a46db8d3",
   "execution_count": 63
  },
  {
   "cell_type": "markdown",
   "source": [
    "### MSE for emotions"
   ],
   "metadata": {
    "collapsed": false
   },
   "id": "399a2354cc507a40"
  },
  {
   "cell_type": "code",
   "outputs": [
    {
     "data": {
      "text/plain": "1.1346801346801347"
     },
     "execution_count": 64,
     "metadata": {},
     "output_type": "execute_result"
    }
   ],
   "source": [
    "intermediary_df = df[['emotion_1', scale]].copy()\n",
    "video_means = intermediary_df.groupby('emotion_1')[scale].mean().rename('emotion_mean')\n",
    "intermediary_df = intermediary_df.merge(video_means, on='emotion_1')\n",
    "\n",
    "intermediary_df['squared_diffs'] = (intermediary_df[scale] - intermediary_df['emotion_mean']) ** 2\n",
    "\n",
    "MSE = intermediary_df['squared_diffs'].mean()\n",
    "MSE"
   ],
   "metadata": {
    "collapsed": false,
    "ExecuteTime": {
     "end_time": "2024-03-27T15:43:58.829418Z",
     "start_time": "2024-03-27T15:43:58.819323Z"
    }
   },
   "id": "78771ee6bac9a0b4",
   "execution_count": 64
  },
  {
   "cell_type": "code",
   "outputs": [
    {
     "data": {
      "text/plain": "-0.056443208795634976"
     },
     "execution_count": 65,
     "metadata": {},
     "output_type": "execute_result"
    }
   ],
   "source": [
    "k = df['survey_id'].nunique()\n",
    "ICC_3_1 = (MSB - MSE) / (MSB +  (k -1) * MSE_adjusted)\n",
    "ICC_3_1"
   ],
   "metadata": {
    "collapsed": false,
    "ExecuteTime": {
     "end_time": "2024-03-27T15:43:58.894999Z",
     "start_time": "2024-03-27T15:43:58.889119Z"
    }
   },
   "id": "d7430cfce3d34de6",
   "execution_count": 65
  }
 ],
 "metadata": {
  "kernelspec": {
   "display_name": "Python 3",
   "language": "python",
   "name": "python3"
  },
  "language_info": {
   "codemirror_mode": {
    "name": "ipython",
    "version": 2
   },
   "file_extension": ".py",
   "mimetype": "text/x-python",
   "name": "python",
   "nbconvert_exporter": "python",
   "pygments_lexer": "ipython2",
   "version": "2.7.6"
  }
 },
 "nbformat": 4,
 "nbformat_minor": 5
}
