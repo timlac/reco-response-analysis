{
 "cells": [
  {
   "cell_type": "markdown",
   "source": [
    "Intraclass correlation and cronbachs alpha are very related... "
   ],
   "metadata": {
    "collapsed": false
   },
   "id": "1782f7db9f769a6f"
  },
  {
   "cell_type": "code",
   "outputs": [],
   "source": [
    "import numpy as np\n",
    "import pandas as pd\n",
    "import pingouin as pg\n"
   ],
   "metadata": {
    "collapsed": true,
    "ExecuteTime": {
     "end_time": "2024-04-02T11:43:51.542808Z",
     "start_time": "2024-04-02T11:43:51.509253Z"
    }
   },
   "id": "initial_id",
   "execution_count": 1
  },
  {
   "cell_type": "code",
   "outputs": [
    {
     "data": {
      "text/plain": "   user_id                                          survey_id  \\\n0  default  1d1439eb990b9fbdc99bf899dc7a7f9cb61a9a404e5677...   \n1  default  1d1439eb990b9fbdc99bf899dc7a7f9cb61a9a404e5677...   \n2  default  1d1439eb990b9fbdc99bf899dc7a7f9cb61a9a404e5677...   \n3  default  1d1439eb990b9fbdc99bf899dc7a7f9cb61a9a404e5677...   \n4  default  1d1439eb990b9fbdc99bf899dc7a7f9cb61a9a404e5677...   \n\n   survey_item_index          filename  has_reply               emotion_1  \\\n0                  0  A200_int_v_3.mp4          1      interest_curiosity   \n1                  1  A102_exc_v_3.mp4          1  excitement_expectation   \n2                  2  A102_fea_p_2.mp4          1                    fear   \n3                  3  A102_amu_v_3.mp4          1               amusement   \n4                  4  A207_pea_v_2.mp4          1   peacefulness_serenity   \n\n  video_id  mix  emotion_1_id  emotion_2_id  intensity_level  \\\n0     A200    0            29           100              3.0   \n1     A102    0            36           100              3.0   \n2     A102    0            10           100              2.0   \n3     A102    0            13           100              3.0   \n4     A207    0            25           100              2.0   \n\n   reply_dim_Novelty  reply_dim_Pleasantness  reply_dim_Goal conduciveness  \\\n0                  1                       4                             4   \n1                  1                       5                             5   \n2                  3                       1                             1   \n3                  2                       4                             4   \n4                  1                       2                             2   \n\n   reply_dim_Urgency  reply_dim_Power  reply_dim_Norm compatibility  \n0                  1                3                             3  \n1                  1                3                             5  \n2                  2                2                             1  \n3                  2                3                             4  \n4                  2                2                             2  ",
      "text/html": "<div>\n<style scoped>\n    .dataframe tbody tr th:only-of-type {\n        vertical-align: middle;\n    }\n\n    .dataframe tbody tr th {\n        vertical-align: top;\n    }\n\n    .dataframe thead th {\n        text-align: right;\n    }\n</style>\n<table border=\"1\" class=\"dataframe\">\n  <thead>\n    <tr style=\"text-align: right;\">\n      <th></th>\n      <th>user_id</th>\n      <th>survey_id</th>\n      <th>survey_item_index</th>\n      <th>filename</th>\n      <th>has_reply</th>\n      <th>emotion_1</th>\n      <th>video_id</th>\n      <th>mix</th>\n      <th>emotion_1_id</th>\n      <th>emotion_2_id</th>\n      <th>intensity_level</th>\n      <th>reply_dim_Novelty</th>\n      <th>reply_dim_Pleasantness</th>\n      <th>reply_dim_Goal conduciveness</th>\n      <th>reply_dim_Urgency</th>\n      <th>reply_dim_Power</th>\n      <th>reply_dim_Norm compatibility</th>\n    </tr>\n  </thead>\n  <tbody>\n    <tr>\n      <th>0</th>\n      <td>default</td>\n      <td>1d1439eb990b9fbdc99bf899dc7a7f9cb61a9a404e5677...</td>\n      <td>0</td>\n      <td>A200_int_v_3.mp4</td>\n      <td>1</td>\n      <td>interest_curiosity</td>\n      <td>A200</td>\n      <td>0</td>\n      <td>29</td>\n      <td>100</td>\n      <td>3.0</td>\n      <td>1</td>\n      <td>4</td>\n      <td>4</td>\n      <td>1</td>\n      <td>3</td>\n      <td>3</td>\n    </tr>\n    <tr>\n      <th>1</th>\n      <td>default</td>\n      <td>1d1439eb990b9fbdc99bf899dc7a7f9cb61a9a404e5677...</td>\n      <td>1</td>\n      <td>A102_exc_v_3.mp4</td>\n      <td>1</td>\n      <td>excitement_expectation</td>\n      <td>A102</td>\n      <td>0</td>\n      <td>36</td>\n      <td>100</td>\n      <td>3.0</td>\n      <td>1</td>\n      <td>5</td>\n      <td>5</td>\n      <td>1</td>\n      <td>3</td>\n      <td>5</td>\n    </tr>\n    <tr>\n      <th>2</th>\n      <td>default</td>\n      <td>1d1439eb990b9fbdc99bf899dc7a7f9cb61a9a404e5677...</td>\n      <td>2</td>\n      <td>A102_fea_p_2.mp4</td>\n      <td>1</td>\n      <td>fear</td>\n      <td>A102</td>\n      <td>0</td>\n      <td>10</td>\n      <td>100</td>\n      <td>2.0</td>\n      <td>3</td>\n      <td>1</td>\n      <td>1</td>\n      <td>2</td>\n      <td>2</td>\n      <td>1</td>\n    </tr>\n    <tr>\n      <th>3</th>\n      <td>default</td>\n      <td>1d1439eb990b9fbdc99bf899dc7a7f9cb61a9a404e5677...</td>\n      <td>3</td>\n      <td>A102_amu_v_3.mp4</td>\n      <td>1</td>\n      <td>amusement</td>\n      <td>A102</td>\n      <td>0</td>\n      <td>13</td>\n      <td>100</td>\n      <td>3.0</td>\n      <td>2</td>\n      <td>4</td>\n      <td>4</td>\n      <td>2</td>\n      <td>3</td>\n      <td>4</td>\n    </tr>\n    <tr>\n      <th>4</th>\n      <td>default</td>\n      <td>1d1439eb990b9fbdc99bf899dc7a7f9cb61a9a404e5677...</td>\n      <td>4</td>\n      <td>A207_pea_v_2.mp4</td>\n      <td>1</td>\n      <td>peacefulness_serenity</td>\n      <td>A207</td>\n      <td>0</td>\n      <td>25</td>\n      <td>100</td>\n      <td>2.0</td>\n      <td>1</td>\n      <td>2</td>\n      <td>2</td>\n      <td>2</td>\n      <td>2</td>\n      <td>2</td>\n    </tr>\n  </tbody>\n</table>\n</div>"
     },
     "execution_count": 2,
     "metadata": {},
     "output_type": "execute_result"
    }
   ],
   "source": [
    "path = \"../data/appraisal/export_appraisal.csv\"\n",
    "df = pd.read_csv(path)\n",
    "df.head()"
   ],
   "metadata": {
    "collapsed": false,
    "ExecuteTime": {
     "end_time": "2024-04-02T11:43:51.557559Z",
     "start_time": "2024-04-02T11:43:51.543767Z"
    }
   },
   "id": "518415c68217cb9f",
   "execution_count": 2
  },
  {
   "cell_type": "code",
   "outputs": [
    {
     "data": {
      "text/plain": "Index(['user_id', 'survey_id', 'survey_item_index', 'filename', 'has_reply',\n       'emotion_1', 'video_id', 'mix', 'emotion_1_id', 'emotion_2_id',\n       'intensity_level', 'reply_dim_Novelty', 'reply_dim_Pleasantness',\n       'reply_dim_Goal conduciveness', 'reply_dim_Urgency', 'reply_dim_Power',\n       'reply_dim_Norm compatibility'],\n      dtype='object')"
     },
     "execution_count": 3,
     "metadata": {},
     "output_type": "execute_result"
    }
   ],
   "source": [
    "df.columns"
   ],
   "metadata": {
    "collapsed": false,
    "ExecuteTime": {
     "end_time": "2024-04-02T11:43:51.561168Z",
     "start_time": "2024-04-02T11:43:51.558279Z"
    }
   },
   "id": "8a9381641048c76b",
   "execution_count": 3
  },
  {
   "cell_type": "code",
   "outputs": [
    {
     "data": {
      "text/plain": "     reply_dim_Novelty  reply_dim_Pleasantness  reply_dim_Goal conduciveness  \\\n0                    1                       4                             4   \n1                    1                       5                             5   \n2                    3                       1                             1   \n3                    2                       4                             4   \n4                    1                       2                             2   \n..                 ...                     ...                           ...   \n787                  3                       5                             5   \n788                  5                       1                             1   \n789                  4                       5                             5   \n790                  1                       3                             2   \n791                  2                       4                             4   \n\n     reply_dim_Urgency  reply_dim_Power  reply_dim_Norm compatibility  \n0                    1                3                             3  \n1                    1                3                             5  \n2                    2                2                             1  \n3                    2                3                             4  \n4                    2                2                             2  \n..                 ...              ...                           ...  \n787                  3                4                             5  \n788                  4                4                             2  \n789                  4                5                             5  \n790                  2                4                             3  \n791                  2                4                             4  \n\n[792 rows x 6 columns]",
      "text/html": "<div>\n<style scoped>\n    .dataframe tbody tr th:only-of-type {\n        vertical-align: middle;\n    }\n\n    .dataframe tbody tr th {\n        vertical-align: top;\n    }\n\n    .dataframe thead th {\n        text-align: right;\n    }\n</style>\n<table border=\"1\" class=\"dataframe\">\n  <thead>\n    <tr style=\"text-align: right;\">\n      <th></th>\n      <th>reply_dim_Novelty</th>\n      <th>reply_dim_Pleasantness</th>\n      <th>reply_dim_Goal conduciveness</th>\n      <th>reply_dim_Urgency</th>\n      <th>reply_dim_Power</th>\n      <th>reply_dim_Norm compatibility</th>\n    </tr>\n  </thead>\n  <tbody>\n    <tr>\n      <th>0</th>\n      <td>1</td>\n      <td>4</td>\n      <td>4</td>\n      <td>1</td>\n      <td>3</td>\n      <td>3</td>\n    </tr>\n    <tr>\n      <th>1</th>\n      <td>1</td>\n      <td>5</td>\n      <td>5</td>\n      <td>1</td>\n      <td>3</td>\n      <td>5</td>\n    </tr>\n    <tr>\n      <th>2</th>\n      <td>3</td>\n      <td>1</td>\n      <td>1</td>\n      <td>2</td>\n      <td>2</td>\n      <td>1</td>\n    </tr>\n    <tr>\n      <th>3</th>\n      <td>2</td>\n      <td>4</td>\n      <td>4</td>\n      <td>2</td>\n      <td>3</td>\n      <td>4</td>\n    </tr>\n    <tr>\n      <th>4</th>\n      <td>1</td>\n      <td>2</td>\n      <td>2</td>\n      <td>2</td>\n      <td>2</td>\n      <td>2</td>\n    </tr>\n    <tr>\n      <th>...</th>\n      <td>...</td>\n      <td>...</td>\n      <td>...</td>\n      <td>...</td>\n      <td>...</td>\n      <td>...</td>\n    </tr>\n    <tr>\n      <th>787</th>\n      <td>3</td>\n      <td>5</td>\n      <td>5</td>\n      <td>3</td>\n      <td>4</td>\n      <td>5</td>\n    </tr>\n    <tr>\n      <th>788</th>\n      <td>5</td>\n      <td>1</td>\n      <td>1</td>\n      <td>4</td>\n      <td>4</td>\n      <td>2</td>\n    </tr>\n    <tr>\n      <th>789</th>\n      <td>4</td>\n      <td>5</td>\n      <td>5</td>\n      <td>4</td>\n      <td>5</td>\n      <td>5</td>\n    </tr>\n    <tr>\n      <th>790</th>\n      <td>1</td>\n      <td>3</td>\n      <td>2</td>\n      <td>2</td>\n      <td>4</td>\n      <td>3</td>\n    </tr>\n    <tr>\n      <th>791</th>\n      <td>2</td>\n      <td>4</td>\n      <td>4</td>\n      <td>2</td>\n      <td>4</td>\n      <td>4</td>\n    </tr>\n  </tbody>\n</table>\n<p>792 rows × 6 columns</p>\n</div>"
     },
     "execution_count": 4,
     "metadata": {},
     "output_type": "execute_result"
    }
   ],
   "source": [
    "scales = [\n",
    "    'reply_dim_Novelty',\n",
    "    'reply_dim_Pleasantness',\n",
    "    'reply_dim_Goal conduciveness',\n",
    "    'reply_dim_Urgency',\n",
    "    'reply_dim_Power',\n",
    "    'reply_dim_Norm compatibility'\n",
    "]\n",
    "\n",
    "scales_df = df[scales]\n",
    "scales_df"
   ],
   "metadata": {
    "collapsed": false,
    "ExecuteTime": {
     "end_time": "2024-04-02T11:43:51.568764Z",
     "start_time": "2024-04-02T11:43:51.561852Z"
    }
   },
   "id": "6d0533c3e6b0869b",
   "execution_count": 4
  },
  {
   "cell_type": "code",
   "outputs": [
    {
     "data": {
      "text/plain": "6"
     },
     "execution_count": 5,
     "metadata": {},
     "output_type": "execute_result"
    }
   ],
   "source": [
    "# Number of items\n",
    "n_items = len(scales_df.columns)\n",
    "n_items"
   ],
   "metadata": {
    "collapsed": false
   },
   "id": "4ed72c56a4a9a450",
   "execution_count": 5
  },
  {
   "cell_type": "code",
   "outputs": [
    {
     "data": {
      "text/plain": "reply_dim_Novelty               1.737016\nreply_dim_Pleasantness          2.185941\nreply_dim_Goal conduciveness    2.425385\nreply_dim_Urgency               1.774392\nreply_dim_Power                 1.635285\nreply_dim_Norm compatibility    2.108698\ndtype: float64"
     },
     "execution_count": 6,
     "metadata": {},
     "output_type": "execute_result"
    }
   ],
   "source": [
    "# Item variances\n",
    "item_variances = scales_df.var(ddof=1)\n",
    "item_variances"
   ],
   "metadata": {
    "collapsed": false,
    "ExecuteTime": {
     "end_time": "2024-04-02T11:43:51.576805Z",
     "start_time": "2024-04-02T11:43:51.573163Z"
    }
   },
   "id": "db449bcdb4edfe51",
   "execution_count": 6
  },
  {
   "cell_type": "code",
   "outputs": [
    {
     "data": {
      "text/plain": "0      16\n1      20\n2      10\n3      19\n4      11\n       ..\n787    25\n788    17\n789    28\n790    15\n791    20\nLength: 792, dtype: int64"
     },
     "execution_count": 7,
     "metadata": {},
     "output_type": "execute_result"
    }
   ],
   "source": [
    "# Total variances\n",
    "respondent_totals = scales_df.sum(axis=1)\n",
    "respondent_totals"
   ],
   "metadata": {
    "collapsed": false,
    "ExecuteTime": {
     "end_time": "2024-04-02T11:43:51.580857Z",
     "start_time": "2024-04-02T11:43:51.577505Z"
    }
   },
   "id": "47febd8364fc3b38",
   "execution_count": 7
  },
  {
   "cell_type": "code",
   "outputs": [
    {
     "data": {
      "text/plain": "26.284711846658745"
     },
     "execution_count": 8,
     "metadata": {},
     "output_type": "execute_result"
    }
   ],
   "source": [
    "total_variance = respondent_totals.var(ddof=1)\n",
    "total_variance"
   ],
   "metadata": {
    "collapsed": false,
    "ExecuteTime": {
     "end_time": "2024-04-02T11:43:51.584601Z",
     "start_time": "2024-04-02T11:43:51.581617Z"
    }
   },
   "id": "13f3196d9e3bf562",
   "execution_count": 8
  },
  {
   "cell_type": "code",
   "outputs": [
    {
     "name": "stdout",
     "output_type": "stream",
     "text": [
      "Cronbach's Alpha: 0.6582379060301083\n"
     ]
    }
   ],
   "source": [
    "# Cronbach's Alpha\n",
    "cronbach_alpha = (n_items / (n_items - 1)) * (1 - item_variances.sum() / total_variance)\n",
    "\n",
    "print(f\"Cronbach's Alpha: {cronbach_alpha}\")"
   ],
   "metadata": {
    "collapsed": false,
    "ExecuteTime": {
     "end_time": "2024-04-02T11:43:51.589536Z",
     "start_time": "2024-04-02T11:43:51.586084Z"
    }
   },
   "id": "45f0e0dfd7b9c79f",
   "execution_count": 9
  },
  {
   "cell_type": "markdown",
   "source": [
    "## Intraclass Correlation "
   ],
   "metadata": {
    "collapsed": false
   },
   "id": "e269f233fc7a6323"
  },
  {
   "cell_type": "code",
   "outputs": [
    {
     "data": {
      "text/plain": "filename\nA102_amu_v_3.mp4        2.888889\nA102_ang_p_3.mp4        2.777778\nA102_ang_v_2.mp4        3.333333\nA102_anx_p_2.mp4        2.111111\nA102_anx_p_3.mp4        2.555556\n                          ...   \nA327_ele_p_3.mp4        3.000000\nA334_reg_p_2.mp4        2.111111\nA407_ins_p_2.mp4        3.222222\nA424_ele_v_3.mp4        2.666667\nA55_gui_v_2_ver1.mp4    1.333333\nName: reply_dim_Novelty, Length: 88, dtype: float64"
     },
     "execution_count": 10,
     "metadata": {},
     "output_type": "execute_result"
    }
   ],
   "source": [
    "video_means = df.groupby('filename')[scales[0]].mean()\n",
    "video_means"
   ],
   "metadata": {
    "collapsed": false,
    "ExecuteTime": {
     "end_time": "2024-04-02T11:43:51.596898Z",
     "start_time": "2024-04-02T11:43:51.592052Z"
    }
   },
   "id": "c6863099d1d33c2c",
   "execution_count": 10
  },
  {
   "cell_type": "code",
   "outputs": [
    {
     "data": {
      "text/plain": "2.494949494949495"
     },
     "execution_count": 11,
     "metadata": {},
     "output_type": "execute_result"
    }
   ],
   "source": [
    "grand_mean = df[scales[0]].mean()\n",
    "grand_mean"
   ],
   "metadata": {
    "collapsed": false,
    "ExecuteTime": {
     "end_time": "2024-04-02T11:43:51.600909Z",
     "start_time": "2024-04-02T11:43:51.597769Z"
    }
   },
   "id": "58cfb282c02ce08d",
   "execution_count": 11
  },
  {
   "cell_type": "code",
   "outputs": [
    {
     "data": {
      "text/plain": "0.6983471074380164"
     },
     "execution_count": 12,
     "metadata": {},
     "output_type": "execute_result"
    }
   ],
   "source": [
    "# Calculate the grand mean across all ratings for this scale\n",
    "#TODO: THIS grand mean should not capture different items that portray the same emotions, that skews the squared diffs calculation\n",
    "\n",
    "grand_mean = df[scales[0]].mean()\n",
    "\n",
    "# Compute the squared differences from the grand mean for each video's mean rating\n",
    "squared_diffs = (video_means - grand_mean) ** 2\n",
    "\n",
    "# Compute MSB: mean of these squared differences, adjust for degrees of freedom if necessary\n",
    "MSB = squared_diffs.mean()\n",
    "MSB"
   ],
   "metadata": {
    "collapsed": false,
    "ExecuteTime": {
     "end_time": "2024-04-02T11:43:51.605141Z",
     "start_time": "2024-04-02T11:43:51.601677Z"
    }
   },
   "id": "f1963cc8dcbb66cd",
   "execution_count": 12
  },
  {
   "cell_type": "code",
   "outputs": [
    {
     "data": {
      "text/plain": "filename\nA102_amu_v_3.mp4        2.888889\nA102_ang_p_3.mp4        2.777778\nA102_ang_v_2.mp4        3.333333\nA102_anx_p_2.mp4        2.111111\nA102_anx_p_3.mp4        2.555556\n                          ...   \nA327_ele_p_3.mp4        3.000000\nA334_reg_p_2.mp4        2.111111\nA407_ins_p_2.mp4        3.222222\nA424_ele_v_3.mp4        2.666667\nA55_gui_v_2_ver1.mp4    1.333333\nName: reply_dim_Novelty, Length: 88, dtype: float64"
     },
     "execution_count": 13,
     "metadata": {},
     "output_type": "execute_result"
    }
   ],
   "source": [
    "video_means"
   ],
   "metadata": {
    "collapsed": false,
    "ExecuteTime": {
     "end_time": "2024-04-02T11:43:51.609360Z",
     "start_time": "2024-04-02T11:43:51.606065Z"
    }
   },
   "id": "10a7b0ca4e984507",
   "execution_count": 13
  },
  {
   "cell_type": "code",
   "outputs": [
    {
     "data": {
      "text/plain": "1.0364758698092031"
     },
     "execution_count": 14,
     "metadata": {},
     "output_type": "execute_result"
    }
   ],
   "source": [
    "intermediary_df = df[['filename', scales[0]]].copy()\n",
    "video_means = intermediary_df.groupby('filename')[scales[0]].mean().rename('video_mean')\n",
    "intermediary_df = intermediary_df.merge(video_means, on='filename')\n",
    "\n",
    "intermediary_df['squared_diffs'] = (intermediary_df[scales[0]] - intermediary_df['video_mean']) ** 2\n",
    "\n",
    "MSE = intermediary_df['squared_diffs'].mean()\n",
    "MSE"
   ],
   "metadata": {
    "collapsed": false,
    "ExecuteTime": {
     "end_time": "2024-04-02T11:43:51.617132Z",
     "start_time": "2024-04-02T11:43:51.610130Z"
    }
   },
   "id": "d507257fd55a9c20",
   "execution_count": 14
  },
  {
   "cell_type": "code",
   "outputs": [
    {
     "data": {
      "text/plain": "0.6970839608781992"
     },
     "execution_count": 15,
     "metadata": {},
     "output_type": "execute_result"
    }
   ],
   "source": [
    "MSB - MSE / (MSB +  (792 -1) * MSE)"
   ],
   "metadata": {
    "collapsed": false,
    "ExecuteTime": {
     "end_time": "2024-04-02T11:43:51.621114Z",
     "start_time": "2024-04-02T11:43:51.618002Z"
    }
   },
   "id": "70daa69f8649101a",
   "execution_count": 15
  },
  {
   "cell_type": "code",
   "outputs": [
    {
     "data": {
      "text/plain": "(792, 17)"
     },
     "execution_count": 16,
     "metadata": {},
     "output_type": "execute_result"
    }
   ],
   "source": [
    "df.shape"
   ],
   "metadata": {
    "collapsed": false,
    "ExecuteTime": {
     "end_time": "2024-04-02T11:43:51.625398Z",
     "start_time": "2024-04-02T11:43:51.622116Z"
    }
   },
   "id": "54ddbdfa4e6b7192",
   "execution_count": 16
  },
  {
   "cell_type": "code",
   "outputs": [
    {
     "data": {
      "text/plain": "0.6737707338681891"
     },
     "execution_count": 17,
     "metadata": {},
     "output_type": "execute_result"
    }
   ],
   "source": [
    "F = MSB / MSE\n",
    "F"
   ],
   "metadata": {
    "collapsed": false,
    "ExecuteTime": {
     "end_time": "2024-04-02T11:43:51.628720Z",
     "start_time": "2024-04-02T11:43:51.626070Z"
    }
   },
   "id": "49ea7147e6ea22bc",
   "execution_count": 17
  },
  {
   "cell_type": "code",
   "outputs": [
    {
     "name": "stdout",
     "output_type": "stream",
     "text": [
      "F-Score: 0.6737707338681891\n",
      "P-Value: 0.9892974665455863\n"
     ]
    }
   ],
   "source": [
    "from scipy.stats import f\n",
    "\n",
    "df_between = 87  # 88 videos - 1\n",
    "df_within = 792  # 880 observations - 88 videos\n",
    "F_score = MSB / MSE\n",
    "\n",
    "# Get the p-value\n",
    "p_value = f.sf(F_score, df_between, df_within)\n",
    "\n",
    "print(\"F-Score:\", F_score)\n",
    "print(\"P-Value:\", p_value)"
   ],
   "metadata": {
    "collapsed": false,
    "ExecuteTime": {
     "end_time": "2024-04-02T11:43:51.632829Z",
     "start_time": "2024-04-02T11:43:51.629674Z"
    }
   },
   "id": "31d469e58bbb6deb",
   "execution_count": 18
  },
  {
   "cell_type": "code",
   "outputs": [
    {
     "data": {
      "text/plain": "    Type              Description       ICC          F  df1  df2  \\\n0   ICC1   Single raters absolute  0.394606   6.866357   43  352   \n1   ICC2     Single random raters  0.408699  10.634199   43  344   \n2   ICC3      Single fixed raters  0.517017  10.634199   43  344   \n3  ICC1k  Average raters absolute  0.854362   6.866357   43  352   \n4  ICC2k    Average random raters  0.861509  10.634199   43  344   \n5  ICC3k     Average fixed raters  0.905964  10.634199   43  344   \n\n           pval         CI95%  \n0  1.071705e-26  [0.28, 0.53]  \n1  1.596623e-41  [0.27, 0.56]  \n2  1.596623e-41   [0.4, 0.65]  \n3  1.071705e-26  [0.78, 0.91]  \n4  1.596623e-41  [0.77, 0.92]  \n5  1.596623e-41  [0.86, 0.94]  ",
      "text/html": "<div>\n<style scoped>\n    .dataframe tbody tr th:only-of-type {\n        vertical-align: middle;\n    }\n\n    .dataframe tbody tr th {\n        vertical-align: top;\n    }\n\n    .dataframe thead th {\n        text-align: right;\n    }\n</style>\n<table border=\"1\" class=\"dataframe\">\n  <thead>\n    <tr style=\"text-align: right;\">\n      <th></th>\n      <th>Type</th>\n      <th>Description</th>\n      <th>ICC</th>\n      <th>F</th>\n      <th>df1</th>\n      <th>df2</th>\n      <th>pval</th>\n      <th>CI95%</th>\n    </tr>\n  </thead>\n  <tbody>\n    <tr>\n      <th>0</th>\n      <td>ICC1</td>\n      <td>Single raters absolute</td>\n      <td>0.394606</td>\n      <td>6.866357</td>\n      <td>43</td>\n      <td>352</td>\n      <td>1.071705e-26</td>\n      <td>[0.28, 0.53]</td>\n    </tr>\n    <tr>\n      <th>1</th>\n      <td>ICC2</td>\n      <td>Single random raters</td>\n      <td>0.408699</td>\n      <td>10.634199</td>\n      <td>43</td>\n      <td>344</td>\n      <td>1.596623e-41</td>\n      <td>[0.27, 0.56]</td>\n    </tr>\n    <tr>\n      <th>2</th>\n      <td>ICC3</td>\n      <td>Single fixed raters</td>\n      <td>0.517017</td>\n      <td>10.634199</td>\n      <td>43</td>\n      <td>344</td>\n      <td>1.596623e-41</td>\n      <td>[0.4, 0.65]</td>\n    </tr>\n    <tr>\n      <th>3</th>\n      <td>ICC1k</td>\n      <td>Average raters absolute</td>\n      <td>0.854362</td>\n      <td>6.866357</td>\n      <td>43</td>\n      <td>352</td>\n      <td>1.071705e-26</td>\n      <td>[0.78, 0.91]</td>\n    </tr>\n    <tr>\n      <th>4</th>\n      <td>ICC2k</td>\n      <td>Average random raters</td>\n      <td>0.861509</td>\n      <td>10.634199</td>\n      <td>43</td>\n      <td>344</td>\n      <td>1.596623e-41</td>\n      <td>[0.77, 0.92]</td>\n    </tr>\n    <tr>\n      <th>5</th>\n      <td>ICC3k</td>\n      <td>Average fixed raters</td>\n      <td>0.905964</td>\n      <td>10.634199</td>\n      <td>43</td>\n      <td>344</td>\n      <td>1.596623e-41</td>\n      <td>[0.86, 0.94]</td>\n    </tr>\n  </tbody>\n</table>\n</div>"
     },
     "execution_count": 27,
     "metadata": {},
     "output_type": "execute_result"
    }
   ],
   "source": [
    "results = pg.intraclass_corr(data=df, targets='emotion_1', raters='survey_id', ratings='reply_dim_Novelty')\n",
    "results"
   ],
   "metadata": {
    "collapsed": false,
    "ExecuteTime": {
     "end_time": "2024-04-02T12:02:13.236186Z",
     "start_time": "2024-04-02T12:02:13.175220Z"
    }
   },
   "id": "e3c5bc9ba27612bb",
   "execution_count": 27
  },
  {
   "cell_type": "code",
   "outputs": [],
   "source": [
    "results = pg.intraclass_corr(data=df, targets='filename', raters='survey_id', ratings='reply_dim_Novelty')"
   ],
   "metadata": {
    "collapsed": false,
    "ExecuteTime": {
     "end_time": "2024-04-02T11:43:51.758773Z",
     "start_time": "2024-04-02T11:43:51.660131Z"
    }
   },
   "id": "449d3665191dbea9",
   "execution_count": 21
  },
  {
   "cell_type": "code",
   "outputs": [
    {
     "name": "stdout",
     "output_type": "stream",
     "text": [
      "    Type              Description       ICC         F  df1  df2          pval  \\\n",
      "0   ICC1   Single raters absolute  0.330961  5.452122   87  704  8.133354e-39   \n",
      "1   ICC2     Single random raters  0.342983  7.232364   87  696  1.410710e-54   \n",
      "2   ICC3      Single fixed raters  0.409153  7.232364   87  696  1.410710e-54   \n",
      "3  ICC1k  Average raters absolute  0.816585  5.452122   87  704  8.133354e-39   \n",
      "4  ICC2k    Average random raters  0.824508  7.232364   87  696  1.410710e-54   \n",
      "5  ICC3k     Average fixed raters  0.861733  7.232364   87  696  1.410710e-54   \n",
      "\n",
      "          CI95%  \n",
      "0  [0.25, 0.42]  \n",
      "1  [0.25, 0.45]  \n",
      "2   [0.33, 0.5]  \n",
      "3  [0.75, 0.87]  \n",
      "4  [0.75, 0.88]  \n",
      "5   [0.81, 0.9]  \n"
     ]
    }
   ],
   "source": [
    "print(results)"
   ],
   "metadata": {
    "collapsed": false,
    "ExecuteTime": {
     "end_time": "2024-04-02T11:43:51.763543Z",
     "start_time": "2024-04-02T11:43:51.759544Z"
    }
   },
   "id": "11ca4d05d8e46c59",
   "execution_count": 22
  },
  {
   "cell_type": "code",
   "outputs": [
    {
     "data": {
      "text/plain": "     user_id                                          survey_id  \\\n0    default  1d1439eb990b9fbdc99bf899dc7a7f9cb61a9a404e5677...   \n1    default  1d1439eb990b9fbdc99bf899dc7a7f9cb61a9a404e5677...   \n2    default  1d1439eb990b9fbdc99bf899dc7a7f9cb61a9a404e5677...   \n3    default  1d1439eb990b9fbdc99bf899dc7a7f9cb61a9a404e5677...   \n4    default  1d1439eb990b9fbdc99bf899dc7a7f9cb61a9a404e5677...   \n..       ...                                                ...   \n787  default  ec2e6b609b727ed8df127dad7dae6bae61a680f51ee1a0...   \n788  default  ec2e6b609b727ed8df127dad7dae6bae61a680f51ee1a0...   \n789  default  ec2e6b609b727ed8df127dad7dae6bae61a680f51ee1a0...   \n790  default  ec2e6b609b727ed8df127dad7dae6bae61a680f51ee1a0...   \n791  default  ec2e6b609b727ed8df127dad7dae6bae61a680f51ee1a0...   \n\n     survey_item_index           filename  has_reply               emotion_1  \\\n0                    0   A200_int_v_3.mp4          1      interest_curiosity   \n1                    1   A102_exc_v_3.mp4          1  excitement_expectation   \n2                    2   A102_fea_p_2.mp4          1                    fear   \n3                    3   A102_amu_v_3.mp4          1               amusement   \n4                    4   A207_pea_v_2.mp4          1   peacefulness_serenity   \n..                 ...                ...        ...                     ...   \n787                 83   A102_ple_v_2.mp4          1        sensory_pleasure   \n788                 84  A102_dist_p_3.mp4          1           distress_pain   \n789                 85   A227_pri_p_2.mp4          1                   pride   \n790                 86   A102_sex_p_2.mp4          1             sexual_lust   \n791                 87   A221_awe_p_2.mp4          1                     awe   \n\n    video_id  mix  emotion_1_id  emotion_2_id  intensity_level  \\\n0       A200    0            29           100              3.0   \n1       A102    0            36           100              3.0   \n2       A102    0            10           100              2.0   \n3       A102    0            13           100              3.0   \n4       A207    0            25           100              2.0   \n..       ...  ...           ...           ...              ...   \n787     A102    0            23           100              2.0   \n788     A102    0            17           100              3.0   \n789     A227    0            41           100              2.0   \n790     A102    0            24           100              2.0   \n791     A221    0            18           100              2.0   \n\n     reply_dim_Novelty  reply_dim_Pleasantness  reply_dim_Goal conduciveness  \\\n0                    1                       4                             4   \n1                    1                       5                             5   \n2                    3                       1                             1   \n3                    2                       4                             4   \n4                    1                       2                             2   \n..                 ...                     ...                           ...   \n787                  3                       5                             5   \n788                  5                       1                             1   \n789                  4                       5                             5   \n790                  1                       3                             2   \n791                  2                       4                             4   \n\n     reply_dim_Urgency  reply_dim_Power  reply_dim_Norm compatibility  \n0                    1                3                             3  \n1                    1                3                             5  \n2                    2                2                             1  \n3                    2                3                             4  \n4                    2                2                             2  \n..                 ...              ...                           ...  \n787                  3                4                             5  \n788                  4                4                             2  \n789                  4                5                             5  \n790                  2                4                             3  \n791                  2                4                             4  \n\n[792 rows x 17 columns]",
      "text/html": "<div>\n<style scoped>\n    .dataframe tbody tr th:only-of-type {\n        vertical-align: middle;\n    }\n\n    .dataframe tbody tr th {\n        vertical-align: top;\n    }\n\n    .dataframe thead th {\n        text-align: right;\n    }\n</style>\n<table border=\"1\" class=\"dataframe\">\n  <thead>\n    <tr style=\"text-align: right;\">\n      <th></th>\n      <th>user_id</th>\n      <th>survey_id</th>\n      <th>survey_item_index</th>\n      <th>filename</th>\n      <th>has_reply</th>\n      <th>emotion_1</th>\n      <th>video_id</th>\n      <th>mix</th>\n      <th>emotion_1_id</th>\n      <th>emotion_2_id</th>\n      <th>intensity_level</th>\n      <th>reply_dim_Novelty</th>\n      <th>reply_dim_Pleasantness</th>\n      <th>reply_dim_Goal conduciveness</th>\n      <th>reply_dim_Urgency</th>\n      <th>reply_dim_Power</th>\n      <th>reply_dim_Norm compatibility</th>\n    </tr>\n  </thead>\n  <tbody>\n    <tr>\n      <th>0</th>\n      <td>default</td>\n      <td>1d1439eb990b9fbdc99bf899dc7a7f9cb61a9a404e5677...</td>\n      <td>0</td>\n      <td>A200_int_v_3.mp4</td>\n      <td>1</td>\n      <td>interest_curiosity</td>\n      <td>A200</td>\n      <td>0</td>\n      <td>29</td>\n      <td>100</td>\n      <td>3.0</td>\n      <td>1</td>\n      <td>4</td>\n      <td>4</td>\n      <td>1</td>\n      <td>3</td>\n      <td>3</td>\n    </tr>\n    <tr>\n      <th>1</th>\n      <td>default</td>\n      <td>1d1439eb990b9fbdc99bf899dc7a7f9cb61a9a404e5677...</td>\n      <td>1</td>\n      <td>A102_exc_v_3.mp4</td>\n      <td>1</td>\n      <td>excitement_expectation</td>\n      <td>A102</td>\n      <td>0</td>\n      <td>36</td>\n      <td>100</td>\n      <td>3.0</td>\n      <td>1</td>\n      <td>5</td>\n      <td>5</td>\n      <td>1</td>\n      <td>3</td>\n      <td>5</td>\n    </tr>\n    <tr>\n      <th>2</th>\n      <td>default</td>\n      <td>1d1439eb990b9fbdc99bf899dc7a7f9cb61a9a404e5677...</td>\n      <td>2</td>\n      <td>A102_fea_p_2.mp4</td>\n      <td>1</td>\n      <td>fear</td>\n      <td>A102</td>\n      <td>0</td>\n      <td>10</td>\n      <td>100</td>\n      <td>2.0</td>\n      <td>3</td>\n      <td>1</td>\n      <td>1</td>\n      <td>2</td>\n      <td>2</td>\n      <td>1</td>\n    </tr>\n    <tr>\n      <th>3</th>\n      <td>default</td>\n      <td>1d1439eb990b9fbdc99bf899dc7a7f9cb61a9a404e5677...</td>\n      <td>3</td>\n      <td>A102_amu_v_3.mp4</td>\n      <td>1</td>\n      <td>amusement</td>\n      <td>A102</td>\n      <td>0</td>\n      <td>13</td>\n      <td>100</td>\n      <td>3.0</td>\n      <td>2</td>\n      <td>4</td>\n      <td>4</td>\n      <td>2</td>\n      <td>3</td>\n      <td>4</td>\n    </tr>\n    <tr>\n      <th>4</th>\n      <td>default</td>\n      <td>1d1439eb990b9fbdc99bf899dc7a7f9cb61a9a404e5677...</td>\n      <td>4</td>\n      <td>A207_pea_v_2.mp4</td>\n      <td>1</td>\n      <td>peacefulness_serenity</td>\n      <td>A207</td>\n      <td>0</td>\n      <td>25</td>\n      <td>100</td>\n      <td>2.0</td>\n      <td>1</td>\n      <td>2</td>\n      <td>2</td>\n      <td>2</td>\n      <td>2</td>\n      <td>2</td>\n    </tr>\n    <tr>\n      <th>...</th>\n      <td>...</td>\n      <td>...</td>\n      <td>...</td>\n      <td>...</td>\n      <td>...</td>\n      <td>...</td>\n      <td>...</td>\n      <td>...</td>\n      <td>...</td>\n      <td>...</td>\n      <td>...</td>\n      <td>...</td>\n      <td>...</td>\n      <td>...</td>\n      <td>...</td>\n      <td>...</td>\n      <td>...</td>\n    </tr>\n    <tr>\n      <th>787</th>\n      <td>default</td>\n      <td>ec2e6b609b727ed8df127dad7dae6bae61a680f51ee1a0...</td>\n      <td>83</td>\n      <td>A102_ple_v_2.mp4</td>\n      <td>1</td>\n      <td>sensory_pleasure</td>\n      <td>A102</td>\n      <td>0</td>\n      <td>23</td>\n      <td>100</td>\n      <td>2.0</td>\n      <td>3</td>\n      <td>5</td>\n      <td>5</td>\n      <td>3</td>\n      <td>4</td>\n      <td>5</td>\n    </tr>\n    <tr>\n      <th>788</th>\n      <td>default</td>\n      <td>ec2e6b609b727ed8df127dad7dae6bae61a680f51ee1a0...</td>\n      <td>84</td>\n      <td>A102_dist_p_3.mp4</td>\n      <td>1</td>\n      <td>distress_pain</td>\n      <td>A102</td>\n      <td>0</td>\n      <td>17</td>\n      <td>100</td>\n      <td>3.0</td>\n      <td>5</td>\n      <td>1</td>\n      <td>1</td>\n      <td>4</td>\n      <td>4</td>\n      <td>2</td>\n    </tr>\n    <tr>\n      <th>789</th>\n      <td>default</td>\n      <td>ec2e6b609b727ed8df127dad7dae6bae61a680f51ee1a0...</td>\n      <td>85</td>\n      <td>A227_pri_p_2.mp4</td>\n      <td>1</td>\n      <td>pride</td>\n      <td>A227</td>\n      <td>0</td>\n      <td>41</td>\n      <td>100</td>\n      <td>2.0</td>\n      <td>4</td>\n      <td>5</td>\n      <td>5</td>\n      <td>4</td>\n      <td>5</td>\n      <td>5</td>\n    </tr>\n    <tr>\n      <th>790</th>\n      <td>default</td>\n      <td>ec2e6b609b727ed8df127dad7dae6bae61a680f51ee1a0...</td>\n      <td>86</td>\n      <td>A102_sex_p_2.mp4</td>\n      <td>1</td>\n      <td>sexual_lust</td>\n      <td>A102</td>\n      <td>0</td>\n      <td>24</td>\n      <td>100</td>\n      <td>2.0</td>\n      <td>1</td>\n      <td>3</td>\n      <td>2</td>\n      <td>2</td>\n      <td>4</td>\n      <td>3</td>\n    </tr>\n    <tr>\n      <th>791</th>\n      <td>default</td>\n      <td>ec2e6b609b727ed8df127dad7dae6bae61a680f51ee1a0...</td>\n      <td>87</td>\n      <td>A221_awe_p_2.mp4</td>\n      <td>1</td>\n      <td>awe</td>\n      <td>A221</td>\n      <td>0</td>\n      <td>18</td>\n      <td>100</td>\n      <td>2.0</td>\n      <td>2</td>\n      <td>4</td>\n      <td>4</td>\n      <td>2</td>\n      <td>4</td>\n      <td>4</td>\n    </tr>\n  </tbody>\n</table>\n<p>792 rows × 17 columns</p>\n</div>"
     },
     "execution_count": 25,
     "metadata": {},
     "output_type": "execute_result"
    }
   ],
   "source": [
    "df"
   ],
   "metadata": {
    "collapsed": false,
    "ExecuteTime": {
     "end_time": "2024-04-02T11:48:50.938485Z",
     "start_time": "2024-04-02T11:48:50.930406Z"
    }
   },
   "id": "674a7695dcb6dd0d",
   "execution_count": 25
  },
  {
   "cell_type": "code",
   "outputs": [
    {
     "data": {
      "text/plain": "                  sum_sq     df          F        PR(>F)\nC(filename)   553.090909   87.0   7.232364  1.410710e-54\nC(survey_id)  209.093434    8.0  29.734004  4.479147e-40\nResidual      611.795455  696.0        NaN           NaN",
      "text/html": "<div>\n<style scoped>\n    .dataframe tbody tr th:only-of-type {\n        vertical-align: middle;\n    }\n\n    .dataframe tbody tr th {\n        vertical-align: top;\n    }\n\n    .dataframe thead th {\n        text-align: right;\n    }\n</style>\n<table border=\"1\" class=\"dataframe\">\n  <thead>\n    <tr style=\"text-align: right;\">\n      <th></th>\n      <th>sum_sq</th>\n      <th>df</th>\n      <th>F</th>\n      <th>PR(&gt;F)</th>\n    </tr>\n  </thead>\n  <tbody>\n    <tr>\n      <th>C(filename)</th>\n      <td>553.090909</td>\n      <td>87.0</td>\n      <td>7.232364</td>\n      <td>1.410710e-54</td>\n    </tr>\n    <tr>\n      <th>C(survey_id)</th>\n      <td>209.093434</td>\n      <td>8.0</td>\n      <td>29.734004</td>\n      <td>4.479147e-40</td>\n    </tr>\n    <tr>\n      <th>Residual</th>\n      <td>611.795455</td>\n      <td>696.0</td>\n      <td>NaN</td>\n      <td>NaN</td>\n    </tr>\n  </tbody>\n</table>\n</div>"
     },
     "execution_count": 30,
     "metadata": {},
     "output_type": "execute_result"
    }
   ],
   "source": [
    "import statsmodels.api as sm\n",
    "from statsmodels.formula.api import ols\n",
    "\n",
    "model = ols('reply_dim_Novelty ~ C(filename) + C(survey_id)', data=df).fit()\n",
    "anova_table = sm.stats.anova_lm(model, typ=2)\n",
    "anova_table"
   ],
   "metadata": {
    "collapsed": false,
    "ExecuteTime": {
     "end_time": "2024-04-02T12:04:35.784716Z",
     "start_time": "2024-04-02T12:04:35.751472Z"
    }
   },
   "id": "57aaed460fef4f55",
   "execution_count": 30
  },
  {
   "cell_type": "code",
   "outputs": [
    {
     "data": {
      "text/plain": "array(['1d1439eb990b9fbdc99bf899dc7a7f9cb61a9a404e5677631723cd56788b2d4a',\n       '4512b9c28e499053d7517c9c05291332846f82c3a969fb54978fc8966861824f',\n       '67921eb65c423aab2abf37e16661e6338b2cb4f500b1bad84bf9052b065d4b80',\n       '7ef007a5f86ee9eb7037e0c4f80ad9610f7a26b4ea7118b781ecfdc00596ef3a',\n       '86395a140e86308a1eeddb80a97aa009b3fe89f1099adb70a7aa24ec85610342',\n       '8d874a3f1a6a3cd5b31669581a06e6b6978e7ed7a9653e857d649ba33e051971',\n       '938d071cd06babc93eab6d597625c295c9d362cfabbf9fc2901ca49cad26c66a',\n       'ce2ad4e108a5e6956a51691f70d37bb55e1ebb0883b96bcafaf27082a4bd3e09',\n       'ec2e6b609b727ed8df127dad7dae6bae61a680f51ee1a0014cac58c72a2e663d'],\n      dtype=object)"
     },
     "execution_count": 26,
     "metadata": {},
     "output_type": "execute_result"
    }
   ],
   "source": [
    "df[\"survey_id\"].unique()"
   ],
   "metadata": {
    "collapsed": false,
    "ExecuteTime": {
     "end_time": "2024-04-02T11:59:05.991547Z",
     "start_time": "2024-04-02T11:59:05.988031Z"
    }
   },
   "id": "8f318f9e81ca1f82",
   "execution_count": 26
  },
  {
   "cell_type": "markdown",
   "source": [
    "ICC2k ska motsvara inverterad cronbachs alpha, petri rekommenderar denna. "
   ],
   "metadata": {
    "collapsed": false
   },
   "id": "3e6732d3cb020394"
  }
 ],
 "metadata": {
  "kernelspec": {
   "display_name": "Python 3",
   "language": "python",
   "name": "python3"
  },
  "language_info": {
   "codemirror_mode": {
    "name": "ipython",
    "version": 2
   },
   "file_extension": ".py",
   "mimetype": "text/x-python",
   "name": "python",
   "nbconvert_exporter": "python",
   "pygments_lexer": "ipython2",
   "version": "2.7.6"
  }
 },
 "nbformat": 4,
 "nbformat_minor": 5
}
