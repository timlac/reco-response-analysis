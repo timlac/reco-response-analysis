{
 "cells": [
  {
   "cell_type": "markdown",
   "source": [
    "Intraclass correlation and cronbachs alpha are very related... "
   ],
   "metadata": {
    "collapsed": false
   },
   "id": "1782f7db9f769a6f"
  },
  {
   "cell_type": "code",
   "outputs": [],
   "source": [
    "import numpy as np\n",
    "import pandas as pd\n",
    "import pingouin as pg\n"
   ],
   "metadata": {
    "collapsed": true,
    "ExecuteTime": {
     "end_time": "2024-03-27T09:30:31.377496Z",
     "start_time": "2024-03-27T09:30:31.241376Z"
    }
   },
   "id": "initial_id",
   "execution_count": 2
  },
  {
   "cell_type": "code",
   "outputs": [
    {
     "data": {
      "text/plain": "   user_id                                          survey_id  \\\n0  default  1d1439eb990b9fbdc99bf899dc7a7f9cb61a9a404e5677...   \n1  default  1d1439eb990b9fbdc99bf899dc7a7f9cb61a9a404e5677...   \n2  default  1d1439eb990b9fbdc99bf899dc7a7f9cb61a9a404e5677...   \n3  default  1d1439eb990b9fbdc99bf899dc7a7f9cb61a9a404e5677...   \n4  default  1d1439eb990b9fbdc99bf899dc7a7f9cb61a9a404e5677...   \n\n   survey_item_index          filename  has_reply               emotion_1  \\\n0                  0  A200_int_v_3.mp4          1      interest_curiosity   \n1                  1  A102_exc_v_3.mp4          1  excitement_expectation   \n2                  2  A102_fea_p_2.mp4          1                    fear   \n3                  3  A102_amu_v_3.mp4          1               amusement   \n4                  4  A207_pea_v_2.mp4          1   peacefulness_serenity   \n\n  video_id  mix  emotion_1_id  emotion_2_id  intensity_level  \\\n0     A200    0            29           100              3.0   \n1     A102    0            36           100              3.0   \n2     A102    0            10           100              2.0   \n3     A102    0            13           100              3.0   \n4     A207    0            25           100              2.0   \n\n   reply_dim_Novelty  reply_dim_Pleasantness  reply_dim_Goal conduciveness  \\\n0                  1                       4                             4   \n1                  1                       5                             5   \n2                  3                       1                             1   \n3                  2                       4                             4   \n4                  1                       2                             2   \n\n   reply_dim_Urgency  reply_dim_Power  reply_dim_Norm compatibility  \n0                  1                3                             3  \n1                  1                3                             5  \n2                  2                2                             1  \n3                  2                3                             4  \n4                  2                2                             2  ",
      "text/html": "<div>\n<style scoped>\n    .dataframe tbody tr th:only-of-type {\n        vertical-align: middle;\n    }\n\n    .dataframe tbody tr th {\n        vertical-align: top;\n    }\n\n    .dataframe thead th {\n        text-align: right;\n    }\n</style>\n<table border=\"1\" class=\"dataframe\">\n  <thead>\n    <tr style=\"text-align: right;\">\n      <th></th>\n      <th>user_id</th>\n      <th>survey_id</th>\n      <th>survey_item_index</th>\n      <th>filename</th>\n      <th>has_reply</th>\n      <th>emotion_1</th>\n      <th>video_id</th>\n      <th>mix</th>\n      <th>emotion_1_id</th>\n      <th>emotion_2_id</th>\n      <th>intensity_level</th>\n      <th>reply_dim_Novelty</th>\n      <th>reply_dim_Pleasantness</th>\n      <th>reply_dim_Goal conduciveness</th>\n      <th>reply_dim_Urgency</th>\n      <th>reply_dim_Power</th>\n      <th>reply_dim_Norm compatibility</th>\n    </tr>\n  </thead>\n  <tbody>\n    <tr>\n      <th>0</th>\n      <td>default</td>\n      <td>1d1439eb990b9fbdc99bf899dc7a7f9cb61a9a404e5677...</td>\n      <td>0</td>\n      <td>A200_int_v_3.mp4</td>\n      <td>1</td>\n      <td>interest_curiosity</td>\n      <td>A200</td>\n      <td>0</td>\n      <td>29</td>\n      <td>100</td>\n      <td>3.0</td>\n      <td>1</td>\n      <td>4</td>\n      <td>4</td>\n      <td>1</td>\n      <td>3</td>\n      <td>3</td>\n    </tr>\n    <tr>\n      <th>1</th>\n      <td>default</td>\n      <td>1d1439eb990b9fbdc99bf899dc7a7f9cb61a9a404e5677...</td>\n      <td>1</td>\n      <td>A102_exc_v_3.mp4</td>\n      <td>1</td>\n      <td>excitement_expectation</td>\n      <td>A102</td>\n      <td>0</td>\n      <td>36</td>\n      <td>100</td>\n      <td>3.0</td>\n      <td>1</td>\n      <td>5</td>\n      <td>5</td>\n      <td>1</td>\n      <td>3</td>\n      <td>5</td>\n    </tr>\n    <tr>\n      <th>2</th>\n      <td>default</td>\n      <td>1d1439eb990b9fbdc99bf899dc7a7f9cb61a9a404e5677...</td>\n      <td>2</td>\n      <td>A102_fea_p_2.mp4</td>\n      <td>1</td>\n      <td>fear</td>\n      <td>A102</td>\n      <td>0</td>\n      <td>10</td>\n      <td>100</td>\n      <td>2.0</td>\n      <td>3</td>\n      <td>1</td>\n      <td>1</td>\n      <td>2</td>\n      <td>2</td>\n      <td>1</td>\n    </tr>\n    <tr>\n      <th>3</th>\n      <td>default</td>\n      <td>1d1439eb990b9fbdc99bf899dc7a7f9cb61a9a404e5677...</td>\n      <td>3</td>\n      <td>A102_amu_v_3.mp4</td>\n      <td>1</td>\n      <td>amusement</td>\n      <td>A102</td>\n      <td>0</td>\n      <td>13</td>\n      <td>100</td>\n      <td>3.0</td>\n      <td>2</td>\n      <td>4</td>\n      <td>4</td>\n      <td>2</td>\n      <td>3</td>\n      <td>4</td>\n    </tr>\n    <tr>\n      <th>4</th>\n      <td>default</td>\n      <td>1d1439eb990b9fbdc99bf899dc7a7f9cb61a9a404e5677...</td>\n      <td>4</td>\n      <td>A207_pea_v_2.mp4</td>\n      <td>1</td>\n      <td>peacefulness_serenity</td>\n      <td>A207</td>\n      <td>0</td>\n      <td>25</td>\n      <td>100</td>\n      <td>2.0</td>\n      <td>1</td>\n      <td>2</td>\n      <td>2</td>\n      <td>2</td>\n      <td>2</td>\n      <td>2</td>\n    </tr>\n  </tbody>\n</table>\n</div>"
     },
     "execution_count": 3,
     "metadata": {},
     "output_type": "execute_result"
    }
   ],
   "source": [
    "path = \"../data/appraisal/export_appraisal.csv\"\n",
    "df = pd.read_csv(path)\n",
    "df.head()"
   ],
   "metadata": {
    "collapsed": false,
    "ExecuteTime": {
     "end_time": "2024-03-27T09:30:31.397893Z",
     "start_time": "2024-03-27T09:30:31.379223Z"
    }
   },
   "id": "518415c68217cb9f",
   "execution_count": 3
  },
  {
   "cell_type": "code",
   "outputs": [
    {
     "data": {
      "text/plain": "Index(['user_id', 'survey_id', 'survey_item_index', 'filename', 'has_reply',\n       'emotion_1', 'video_id', 'mix', 'emotion_1_id', 'emotion_2_id',\n       'intensity_level', 'reply_dim_Novelty', 'reply_dim_Pleasantness',\n       'reply_dim_Goal conduciveness', 'reply_dim_Urgency', 'reply_dim_Power',\n       'reply_dim_Norm compatibility'],\n      dtype='object')"
     },
     "execution_count": 4,
     "metadata": {},
     "output_type": "execute_result"
    }
   ],
   "source": [
    "df.columns"
   ],
   "metadata": {
    "collapsed": false,
    "ExecuteTime": {
     "end_time": "2024-03-27T09:30:31.402239Z",
     "start_time": "2024-03-27T09:30:31.399133Z"
    }
   },
   "id": "8a9381641048c76b",
   "execution_count": 4
  },
  {
   "cell_type": "code",
   "outputs": [
    {
     "data": {
      "text/plain": "     reply_dim_Novelty  reply_dim_Pleasantness  reply_dim_Goal conduciveness  \\\n0                    1                       4                             4   \n1                    1                       5                             5   \n2                    3                       1                             1   \n3                    2                       4                             4   \n4                    1                       2                             2   \n..                 ...                     ...                           ...   \n787                  3                       5                             5   \n788                  5                       1                             1   \n789                  4                       5                             5   \n790                  1                       3                             2   \n791                  2                       4                             4   \n\n     reply_dim_Urgency  reply_dim_Power  reply_dim_Norm compatibility  \n0                    1                3                             3  \n1                    1                3                             5  \n2                    2                2                             1  \n3                    2                3                             4  \n4                    2                2                             2  \n..                 ...              ...                           ...  \n787                  3                4                             5  \n788                  4                4                             2  \n789                  4                5                             5  \n790                  2                4                             3  \n791                  2                4                             4  \n\n[792 rows x 6 columns]",
      "text/html": "<div>\n<style scoped>\n    .dataframe tbody tr th:only-of-type {\n        vertical-align: middle;\n    }\n\n    .dataframe tbody tr th {\n        vertical-align: top;\n    }\n\n    .dataframe thead th {\n        text-align: right;\n    }\n</style>\n<table border=\"1\" class=\"dataframe\">\n  <thead>\n    <tr style=\"text-align: right;\">\n      <th></th>\n      <th>reply_dim_Novelty</th>\n      <th>reply_dim_Pleasantness</th>\n      <th>reply_dim_Goal conduciveness</th>\n      <th>reply_dim_Urgency</th>\n      <th>reply_dim_Power</th>\n      <th>reply_dim_Norm compatibility</th>\n    </tr>\n  </thead>\n  <tbody>\n    <tr>\n      <th>0</th>\n      <td>1</td>\n      <td>4</td>\n      <td>4</td>\n      <td>1</td>\n      <td>3</td>\n      <td>3</td>\n    </tr>\n    <tr>\n      <th>1</th>\n      <td>1</td>\n      <td>5</td>\n      <td>5</td>\n      <td>1</td>\n      <td>3</td>\n      <td>5</td>\n    </tr>\n    <tr>\n      <th>2</th>\n      <td>3</td>\n      <td>1</td>\n      <td>1</td>\n      <td>2</td>\n      <td>2</td>\n      <td>1</td>\n    </tr>\n    <tr>\n      <th>3</th>\n      <td>2</td>\n      <td>4</td>\n      <td>4</td>\n      <td>2</td>\n      <td>3</td>\n      <td>4</td>\n    </tr>\n    <tr>\n      <th>4</th>\n      <td>1</td>\n      <td>2</td>\n      <td>2</td>\n      <td>2</td>\n      <td>2</td>\n      <td>2</td>\n    </tr>\n    <tr>\n      <th>...</th>\n      <td>...</td>\n      <td>...</td>\n      <td>...</td>\n      <td>...</td>\n      <td>...</td>\n      <td>...</td>\n    </tr>\n    <tr>\n      <th>787</th>\n      <td>3</td>\n      <td>5</td>\n      <td>5</td>\n      <td>3</td>\n      <td>4</td>\n      <td>5</td>\n    </tr>\n    <tr>\n      <th>788</th>\n      <td>5</td>\n      <td>1</td>\n      <td>1</td>\n      <td>4</td>\n      <td>4</td>\n      <td>2</td>\n    </tr>\n    <tr>\n      <th>789</th>\n      <td>4</td>\n      <td>5</td>\n      <td>5</td>\n      <td>4</td>\n      <td>5</td>\n      <td>5</td>\n    </tr>\n    <tr>\n      <th>790</th>\n      <td>1</td>\n      <td>3</td>\n      <td>2</td>\n      <td>2</td>\n      <td>4</td>\n      <td>3</td>\n    </tr>\n    <tr>\n      <th>791</th>\n      <td>2</td>\n      <td>4</td>\n      <td>4</td>\n      <td>2</td>\n      <td>4</td>\n      <td>4</td>\n    </tr>\n  </tbody>\n</table>\n<p>792 rows × 6 columns</p>\n</div>"
     },
     "execution_count": 5,
     "metadata": {},
     "output_type": "execute_result"
    }
   ],
   "source": [
    "scales = [\n",
    "    'reply_dim_Novelty',\n",
    "    'reply_dim_Pleasantness',\n",
    "    'reply_dim_Goal conduciveness',\n",
    "    'reply_dim_Urgency',\n",
    "    'reply_dim_Power',\n",
    "    'reply_dim_Norm compatibility'\n",
    "]\n",
    "\n",
    "scales_df = df[scales]\n",
    "scales_df"
   ],
   "metadata": {
    "collapsed": false,
    "ExecuteTime": {
     "end_time": "2024-03-27T09:30:31.416688Z",
     "start_time": "2024-03-27T09:30:31.404276Z"
    }
   },
   "id": "6d0533c3e6b0869b",
   "execution_count": 5
  },
  {
   "cell_type": "code",
   "outputs": [
    {
     "data": {
      "text/plain": "6"
     },
     "execution_count": 6,
     "metadata": {},
     "output_type": "execute_result"
    }
   ],
   "source": [
    "# Number of items\n",
    "n_items = len(scales_df.columns)\n",
    "n_items"
   ],
   "metadata": {
    "collapsed": false,
    "ExecuteTime": {
     "end_time": "2024-03-27T09:30:31.489955Z",
     "start_time": "2024-03-27T09:30:31.484239Z"
    }
   },
   "id": "4ed72c56a4a9a450",
   "execution_count": 6
  },
  {
   "cell_type": "code",
   "outputs": [
    {
     "data": {
      "text/plain": "reply_dim_Novelty               1.737016\nreply_dim_Pleasantness          2.185941\nreply_dim_Goal conduciveness    2.425385\nreply_dim_Urgency               1.774392\nreply_dim_Power                 1.635285\nreply_dim_Norm compatibility    2.108698\ndtype: float64"
     },
     "execution_count": 7,
     "metadata": {},
     "output_type": "execute_result"
    }
   ],
   "source": [
    "# Item variances\n",
    "item_variances = scales_df.var(ddof=1)\n",
    "item_variances"
   ],
   "metadata": {
    "collapsed": false,
    "ExecuteTime": {
     "end_time": "2024-03-27T09:30:31.621544Z",
     "start_time": "2024-03-27T09:30:31.611050Z"
    }
   },
   "id": "db449bcdb4edfe51",
   "execution_count": 7
  },
  {
   "cell_type": "code",
   "outputs": [
    {
     "data": {
      "text/plain": "0      16\n1      20\n2      10\n3      19\n4      11\n       ..\n787    25\n788    17\n789    28\n790    15\n791    20\nLength: 792, dtype: int64"
     },
     "execution_count": 8,
     "metadata": {},
     "output_type": "execute_result"
    }
   ],
   "source": [
    "# Total variances\n",
    "respondent_totals = scales_df.sum(axis=1)\n",
    "respondent_totals"
   ],
   "metadata": {
    "collapsed": false,
    "ExecuteTime": {
     "end_time": "2024-03-27T09:30:31.764890Z",
     "start_time": "2024-03-27T09:30:31.756793Z"
    }
   },
   "id": "47febd8364fc3b38",
   "execution_count": 8
  },
  {
   "cell_type": "code",
   "outputs": [
    {
     "data": {
      "text/plain": "26.284711846658745"
     },
     "execution_count": 9,
     "metadata": {},
     "output_type": "execute_result"
    }
   ],
   "source": [
    "total_variance = respondent_totals.var(ddof=1)\n",
    "total_variance"
   ],
   "metadata": {
    "collapsed": false,
    "ExecuteTime": {
     "end_time": "2024-03-27T09:30:31.850666Z",
     "start_time": "2024-03-27T09:30:31.845531Z"
    }
   },
   "id": "13f3196d9e3bf562",
   "execution_count": 9
  },
  {
   "cell_type": "code",
   "outputs": [
    {
     "name": "stdout",
     "output_type": "stream",
     "text": [
      "Cronbach's Alpha: 0.6582379060301083\n"
     ]
    }
   ],
   "source": [
    "# Cronbach's Alpha\n",
    "cronbach_alpha = (n_items / (n_items - 1)) * (1 - item_variances.sum() / total_variance)\n",
    "\n",
    "print(f\"Cronbach's Alpha: {cronbach_alpha}\")"
   ],
   "metadata": {
    "collapsed": false,
    "ExecuteTime": {
     "end_time": "2024-03-27T09:30:31.933685Z",
     "start_time": "2024-03-27T09:30:31.928801Z"
    }
   },
   "id": "45f0e0dfd7b9c79f",
   "execution_count": 10
  },
  {
   "cell_type": "markdown",
   "source": [
    "## Intraclass Correlation "
   ],
   "metadata": {
    "collapsed": false
   },
   "id": "e269f233fc7a6323"
  },
  {
   "cell_type": "code",
   "outputs": [
    {
     "data": {
      "text/plain": "filename\nA102_amu_v_3.mp4        2.888889\nA102_ang_p_3.mp4        2.777778\nA102_ang_v_2.mp4        3.333333\nA102_anx_p_2.mp4        2.111111\nA102_anx_p_3.mp4        2.555556\n                          ...   \nA327_ele_p_3.mp4        3.000000\nA334_reg_p_2.mp4        2.111111\nA407_ins_p_2.mp4        3.222222\nA424_ele_v_3.mp4        2.666667\nA55_gui_v_2_ver1.mp4    1.333333\nName: reply_dim_Novelty, Length: 88, dtype: float64"
     },
     "execution_count": 11,
     "metadata": {},
     "output_type": "execute_result"
    }
   ],
   "source": [
    "video_means = df.groupby('filename')[scales[0]].mean()\n",
    "video_means"
   ],
   "metadata": {
    "collapsed": false,
    "ExecuteTime": {
     "end_time": "2024-03-27T09:30:31.978420Z",
     "start_time": "2024-03-27T09:30:31.967418Z"
    }
   },
   "id": "c6863099d1d33c2c",
   "execution_count": 11
  },
  {
   "cell_type": "code",
   "outputs": [
    {
     "data": {
      "text/plain": "2.494949494949495"
     },
     "execution_count": 12,
     "metadata": {},
     "output_type": "execute_result"
    }
   ],
   "source": [
    "grand_mean = df[scales[0]].mean()\n",
    "grand_mean"
   ],
   "metadata": {
    "collapsed": false,
    "ExecuteTime": {
     "end_time": "2024-03-27T09:30:32.040909Z",
     "start_time": "2024-03-27T09:30:32.034901Z"
    }
   },
   "id": "58cfb282c02ce08d",
   "execution_count": 12
  },
  {
   "cell_type": "code",
   "outputs": [
    {
     "data": {
      "text/plain": "0.6983471074380164"
     },
     "execution_count": 13,
     "metadata": {},
     "output_type": "execute_result"
    }
   ],
   "source": [
    "# Calculate the grand mean across all ratings for this scale\n",
    "#TODO: THIS grand mean should not capture different items that portray the same emotions, that skews the squared diffs calculation\n",
    "\n",
    "grand_mean = df[scales[0]].mean()\n",
    "\n",
    "# Compute the squared differences from the grand mean for each video's mean rating\n",
    "squared_diffs = (video_means - grand_mean) ** 2\n",
    "\n",
    "# Compute MSB: mean of these squared differences, adjust for degrees of freedom if necessary\n",
    "MSB = squared_diffs.mean()\n",
    "MSB"
   ],
   "metadata": {
    "collapsed": false,
    "ExecuteTime": {
     "end_time": "2024-03-27T09:30:32.075899Z",
     "start_time": "2024-03-27T09:30:32.068322Z"
    }
   },
   "id": "f1963cc8dcbb66cd",
   "execution_count": 13
  },
  {
   "cell_type": "code",
   "outputs": [
    {
     "data": {
      "text/plain": "filename\nA102_amu_v_3.mp4        2.888889\nA102_ang_p_3.mp4        2.777778\nA102_ang_v_2.mp4        3.333333\nA102_anx_p_2.mp4        2.111111\nA102_anx_p_3.mp4        2.555556\n                          ...   \nA327_ele_p_3.mp4        3.000000\nA334_reg_p_2.mp4        2.111111\nA407_ins_p_2.mp4        3.222222\nA424_ele_v_3.mp4        2.666667\nA55_gui_v_2_ver1.mp4    1.333333\nName: reply_dim_Novelty, Length: 88, dtype: float64"
     },
     "execution_count": 14,
     "metadata": {},
     "output_type": "execute_result"
    }
   ],
   "source": [
    "video_means"
   ],
   "metadata": {
    "collapsed": false,
    "ExecuteTime": {
     "end_time": "2024-03-27T09:30:32.178185Z",
     "start_time": "2024-03-27T09:30:32.168019Z"
    }
   },
   "id": "10a7b0ca4e984507",
   "execution_count": 14
  },
  {
   "cell_type": "code",
   "outputs": [
    {
     "data": {
      "text/plain": "1.0364758698092031"
     },
     "execution_count": 15,
     "metadata": {},
     "output_type": "execute_result"
    }
   ],
   "source": [
    "intermediary_df = df[['filename', scales[0]]].copy()\n",
    "video_means = intermediary_df.groupby('filename')[scales[0]].mean().rename('video_mean')\n",
    "intermediary_df = intermediary_df.merge(video_means, on='filename')\n",
    "\n",
    "intermediary_df['squared_diffs'] = (intermediary_df[scales[0]] - intermediary_df['video_mean']) ** 2\n",
    "\n",
    "MSE = intermediary_df['squared_diffs'].mean()\n",
    "MSE"
   ],
   "metadata": {
    "collapsed": false,
    "ExecuteTime": {
     "end_time": "2024-03-27T09:30:32.245649Z",
     "start_time": "2024-03-27T09:30:32.227008Z"
    }
   },
   "id": "d507257fd55a9c20",
   "execution_count": 15
  },
  {
   "cell_type": "code",
   "outputs": [
    {
     "data": {
      "text/plain": "0.6970839608781992"
     },
     "execution_count": 16,
     "metadata": {},
     "output_type": "execute_result"
    }
   ],
   "source": [
    "MSB - MSE / (MSB +  (792 -1) * MSE)"
   ],
   "metadata": {
    "collapsed": false,
    "ExecuteTime": {
     "end_time": "2024-03-27T09:30:32.281716Z",
     "start_time": "2024-03-27T09:30:32.276464Z"
    }
   },
   "id": "70daa69f8649101a",
   "execution_count": 16
  },
  {
   "cell_type": "code",
   "outputs": [
    {
     "data": {
      "text/plain": "(792, 17)"
     },
     "execution_count": 17,
     "metadata": {},
     "output_type": "execute_result"
    }
   ],
   "source": [
    "df.shape"
   ],
   "metadata": {
    "collapsed": false,
    "ExecuteTime": {
     "end_time": "2024-03-27T09:30:32.315637Z",
     "start_time": "2024-03-27T09:30:32.308751Z"
    }
   },
   "id": "54ddbdfa4e6b7192",
   "execution_count": 17
  },
  {
   "cell_type": "code",
   "outputs": [
    {
     "data": {
      "text/plain": "0.6737707338681891"
     },
     "execution_count": 18,
     "metadata": {},
     "output_type": "execute_result"
    }
   ],
   "source": [
    "F = MSB / MSE\n",
    "F"
   ],
   "metadata": {
    "collapsed": false,
    "ExecuteTime": {
     "end_time": "2024-03-27T09:30:32.367175Z",
     "start_time": "2024-03-27T09:30:32.361350Z"
    }
   },
   "id": "49ea7147e6ea22bc",
   "execution_count": 18
  },
  {
   "cell_type": "code",
   "outputs": [
    {
     "name": "stdout",
     "output_type": "stream",
     "text": [
      "F-Score: 0.6737707338681891\n",
      "P-Value: 0.9892974665455863\n"
     ]
    }
   ],
   "source": [
    "from scipy.stats import f\n",
    "\n",
    "df_between = 87  # 88 videos - 1\n",
    "df_within = 792  # 880 observations - 88 videos\n",
    "F_score = MSB / MSE\n",
    "\n",
    "# Get the p-value\n",
    "p_value = f.sf(F_score, df_between, df_within)\n",
    "\n",
    "print(\"F-Score:\", F_score)\n",
    "print(\"P-Value:\", p_value)"
   ],
   "metadata": {
    "collapsed": false,
    "ExecuteTime": {
     "end_time": "2024-03-27T09:30:32.395976Z",
     "start_time": "2024-03-27T09:30:32.390226Z"
    }
   },
   "id": "31d469e58bbb6deb",
   "execution_count": 19
  },
  {
   "cell_type": "code",
   "outputs": [],
   "source": [
    "pivot = pd.pivot_table(df, index='survey_id', columns='emotion_1', values=\"reply_dim_Novelty\").T"
   ],
   "metadata": {
    "collapsed": false,
    "ExecuteTime": {
     "end_time": "2024-03-27T09:30:32.451312Z",
     "start_time": "2024-03-27T09:30:32.440142Z"
    }
   },
   "id": "e3c5bc9ba27612bb",
   "execution_count": 20
  },
  {
   "cell_type": "code",
   "outputs": [
    {
     "data": {
      "text/plain": "survey_id                 1d1439eb990b9fbdc99bf899dc7a7f9cb61a9a404e5677631723cd56788b2d4a  \\\nemotion_1                                                                                    \nadmiration                                                              2.5                  \namusement                                                               2.5                  \nanger                                                                   2.0                  \nanxiety                                                                 3.0                  \nawe                                                                     2.5                  \nbeing_moved                                                             2.0                  \nboredom                                                                 1.5                  \nconcentration                                                           1.0                  \nconfusion                                                               2.0                  \ncontempt                                                                2.5                  \ndetermination                                                           1.5                  \ndisappointment                                                          2.5                  \ndisgust                                                                 2.5                  \ndistress_pain                                                           3.5                  \ndoubt                                                                   2.0                  \nelevation_rejoicing                                                     2.5                  \nembarrassment                                                           2.5                  \nenvy                                                                    2.5                  \nexcitement_expectation                                                  1.0                  \nfear                                                                    3.0                  \ngratitude                                                               2.0                  \nguilt                                                                   1.5                  \nhappiness_joy                                                           2.5                  \nhope                                                                    2.5                  \ninspiration                                                             2.0                  \ninterest_curiosity                                                      1.5                  \nnegative_surprise                                                       3.0                  \nneutral                                                                 1.0                  \nnostalgia                                                               1.5                  \npeacefulness_serenity                                                   1.0                  \npositive_surprise                                                       4.5                  \npride                                                                   2.0                  \nregret                                                                  2.0                  \nrejection                                                               2.0                  \nrelief                                                                  1.5                  \nsadness                                                                 2.0                  \nsarcasm                                                                 1.5                  \nsatisfaction_contentment                                                2.0                  \nschadenfreude                                                           1.5                  \nsensory_pleasure                                                        2.0                  \nsexual_lust                                                             2.0                  \nshame                                                                   2.0                  \ntenderness                                                              2.0                  \ntriumph_achievement                                                     3.0                  \n\nsurvey_id                 4512b9c28e499053d7517c9c05291332846f82c3a969fb54978fc8966861824f  \\\nemotion_1                                                                                    \nadmiration                                                              1.5                  \namusement                                                               2.0                  \nanger                                                                   2.5                  \nanxiety                                                                 1.5                  \nawe                                                                     1.0                  \nbeing_moved                                                             1.5                  \nboredom                                                                 1.5                  \nconcentration                                                           1.5                  \nconfusion                                                               3.0                  \ncontempt                                                                2.0                  \ndetermination                                                           2.0                  \ndisappointment                                                          1.0                  \ndisgust                                                                 2.5                  \ndistress_pain                                                           4.5                  \ndoubt                                                                   2.0                  \nelevation_rejoicing                                                     2.0                  \nembarrassment                                                           2.0                  \nenvy                                                                    1.5                  \nexcitement_expectation                                                  1.5                  \nfear                                                                    3.5                  \ngratitude                                                               1.5                  \nguilt                                                                   1.5                  \nhappiness_joy                                                           1.5                  \nhope                                                                    1.5                  \ninspiration                                                             2.0                  \ninterest_curiosity                                                      2.5                  \nnegative_surprise                                                       3.5                  \nneutral                                                                 1.5                  \nnostalgia                                                               1.0                  \npeacefulness_serenity                                                   1.0                  \npositive_surprise                                                       4.5                  \npride                                                                   1.0                  \nregret                                                                  2.0                  \nrejection                                                               3.0                  \nrelief                                                                  4.5                  \nsadness                                                                 1.5                  \nsarcasm                                                                 1.0                  \nsatisfaction_contentment                                                1.0                  \nschadenfreude                                                           2.0                  \nsensory_pleasure                                                        1.0                  \nsexual_lust                                                             1.0                  \nshame                                                                   1.0                  \ntenderness                                                              1.0                  \ntriumph_achievement                                                     3.0                  \n\nsurvey_id                 67921eb65c423aab2abf37e16661e6338b2cb4f500b1bad84bf9052b065d4b80  \\\nemotion_1                                                                                    \nadmiration                                                              3.0                  \namusement                                                               3.0                  \nanger                                                                   2.0                  \nanxiety                                                                 2.5                  \nawe                                                                     1.0                  \nbeing_moved                                                             1.0                  \nboredom                                                                 1.5                  \nconcentration                                                           1.0                  \nconfusion                                                               1.5                  \ncontempt                                                                1.5                  \ndetermination                                                           2.5                  \ndisappointment                                                          1.0                  \ndisgust                                                                 2.5                  \ndistress_pain                                                           4.0                  \ndoubt                                                                   1.5                  \nelevation_rejoicing                                                     2.5                  \nembarrassment                                                           2.0                  \nenvy                                                                    2.0                  \nexcitement_expectation                                                  1.0                  \nfear                                                                    3.0                  \ngratitude                                                               1.5                  \nguilt                                                                   1.0                  \nhappiness_joy                                                           2.5                  \nhope                                                                    1.5                  \ninspiration                                                             1.5                  \ninterest_curiosity                                                      1.5                  \nnegative_surprise                                                       4.0                  \nneutral                                                                 1.5                  \nnostalgia                                                               1.5                  \npeacefulness_serenity                                                   1.0                  \npositive_surprise                                                       4.5                  \npride                                                                   1.5                  \nregret                                                                  2.0                  \nrejection                                                               2.0                  \nrelief                                                                  4.5                  \nsadness                                                                 1.0                  \nsarcasm                                                                 1.5                  \nsatisfaction_contentment                                                1.0                  \nschadenfreude                                                           2.0                  \nsensory_pleasure                                                        1.0                  \nsexual_lust                                                             1.0                  \nshame                                                                   1.0                  \ntenderness                                                              1.5                  \ntriumph_achievement                                                     3.5                  \n\nsurvey_id                 7ef007a5f86ee9eb7037e0c4f80ad9610f7a26b4ea7118b781ecfdc00596ef3a  \\\nemotion_1                                                                                    \nadmiration                                                              3.0                  \namusement                                                               4.0                  \nanger                                                                   4.0                  \nanxiety                                                                 3.5                  \nawe                                                                     3.0                  \nbeing_moved                                                             3.5                  \nboredom                                                                 2.0                  \nconcentration                                                           2.0                  \nconfusion                                                               4.5                  \ncontempt                                                                3.5                  \ndetermination                                                           2.5                  \ndisappointment                                                          1.0                  \ndisgust                                                                 4.0                  \ndistress_pain                                                           5.0                  \ndoubt                                                                   2.5                  \nelevation_rejoicing                                                     3.5                  \nembarrassment                                                           3.5                  \nenvy                                                                    3.5                  \nexcitement_expectation                                                  4.0                  \nfear                                                                    4.5                  \ngratitude                                                               3.5                  \nguilt                                                                   2.0                  \nhappiness_joy                                                           4.5                  \nhope                                                                    3.0                  \ninspiration                                                             4.0                  \ninterest_curiosity                                                      3.0                  \nnegative_surprise                                                       4.5                  \nneutral                                                                 2.0                  \nnostalgia                                                               2.5                  \npeacefulness_serenity                                                   1.5                  \npositive_surprise                                                       5.0                  \npride                                                                   3.0                  \nregret                                                                  3.0                  \nrejection                                                               4.0                  \nrelief                                                                  4.5                  \nsadness                                                                 4.0                  \nsarcasm                                                                 2.5                  \nsatisfaction_contentment                                                3.5                  \nschadenfreude                                                           3.5                  \nsensory_pleasure                                                        1.5                  \nsexual_lust                                                             3.0                  \nshame                                                                   3.0                  \ntenderness                                                              3.0                  \ntriumph_achievement                                                     5.0                  \n\nsurvey_id                 86395a140e86308a1eeddb80a97aa009b3fe89f1099adb70a7aa24ec85610342  \\\nemotion_1                                                                                    \nadmiration                                                              2.5                  \namusement                                                               4.0                  \nanger                                                                   4.0                  \nanxiety                                                                 3.0                  \nawe                                                                     1.0                  \nbeing_moved                                                             2.5                  \nboredom                                                                 2.0                  \nconcentration                                                           1.0                  \nconfusion                                                               3.5                  \ncontempt                                                                3.0                  \ndetermination                                                           2.5                  \ndisappointment                                                          2.5                  \ndisgust                                                                 4.0                  \ndistress_pain                                                           5.0                  \ndoubt                                                                   2.5                  \nelevation_rejoicing                                                     3.5                  \nembarrassment                                                           2.0                  \nenvy                                                                    1.0                  \nexcitement_expectation                                                  3.0                  \nfear                                                                    4.5                  \ngratitude                                                               4.0                  \nguilt                                                                   1.5                  \nhappiness_joy                                                           5.0                  \nhope                                                                    3.0                  \ninspiration                                                             3.0                  \ninterest_curiosity                                                      3.5                  \nnegative_surprise                                                       3.0                  \nneutral                                                                 1.0                  \nnostalgia                                                               1.5                  \npeacefulness_serenity                                                   1.0                  \npositive_surprise                                                       5.0                  \npride                                                                   2.0                  \nregret                                                                  4.0                  \nrejection                                                               3.0                  \nrelief                                                                  3.5                  \nsadness                                                                 1.5                  \nsarcasm                                                                 2.5                  \nsatisfaction_contentment                                                2.0                  \nschadenfreude                                                           2.5                  \nsensory_pleasure                                                        1.0                  \nsexual_lust                                                             3.0                  \nshame                                                                   1.0                  \ntenderness                                                              2.5                  \ntriumph_achievement                                                     4.5                  \n\nsurvey_id                 8d874a3f1a6a3cd5b31669581a06e6b6978e7ed7a9653e857d649ba33e051971  \\\nemotion_1                                                                                    \nadmiration                                                              1.0                  \namusement                                                               3.0                  \nanger                                                                   2.5                  \nanxiety                                                                 1.0                  \nawe                                                                     1.5                  \nbeing_moved                                                             1.0                  \nboredom                                                                 3.0                  \nconcentration                                                           1.0                  \nconfusion                                                               1.5                  \ncontempt                                                                1.0                  \ndetermination                                                           2.5                  \ndisappointment                                                          2.5                  \ndisgust                                                                 2.5                  \ndistress_pain                                                           5.0                  \ndoubt                                                                   2.0                  \nelevation_rejoicing                                                     1.5                  \nembarrassment                                                           2.5                  \nenvy                                                                    3.0                  \nexcitement_expectation                                                  4.0                  \nfear                                                                    2.0                  \ngratitude                                                               1.0                  \nguilt                                                                   1.0                  \nhappiness_joy                                                           3.5                  \nhope                                                                    2.5                  \ninspiration                                                             2.5                  \ninterest_curiosity                                                      1.5                  \nnegative_surprise                                                       1.0                  \nneutral                                                                 1.0                  \nnostalgia                                                               1.0                  \npeacefulness_serenity                                                   1.0                  \npositive_surprise                                                       3.0                  \npride                                                                   2.5                  \nregret                                                                  1.0                  \nrejection                                                               1.0                  \nrelief                                                                  1.0                  \nsadness                                                                 3.5                  \nsarcasm                                                                 2.5                  \nsatisfaction_contentment                                                1.0                  \nschadenfreude                                                           1.5                  \nsensory_pleasure                                                        1.0                  \nsexual_lust                                                             1.0                  \nshame                                                                   1.0                  \ntenderness                                                              1.0                  \ntriumph_achievement                                                     3.0                  \n\nsurvey_id                 938d071cd06babc93eab6d597625c295c9d362cfabbf9fc2901ca49cad26c66a  \\\nemotion_1                                                                                    \nadmiration                                                              2.5                  \namusement                                                               3.0                  \nanger                                                                   3.5                  \nanxiety                                                                 1.0                  \nawe                                                                     3.0                  \nbeing_moved                                                             1.0                  \nboredom                                                                 2.5                  \nconcentration                                                           1.0                  \nconfusion                                                               2.5                  \ncontempt                                                                1.5                  \ndetermination                                                           3.0                  \ndisappointment                                                          2.0                  \ndisgust                                                                 3.0                  \ndistress_pain                                                           5.0                  \ndoubt                                                                   1.5                  \nelevation_rejoicing                                                     3.5                  \nembarrassment                                                           2.0                  \nenvy                                                                    4.5                  \nexcitement_expectation                                                  5.0                  \nfear                                                                    5.0                  \ngratitude                                                               2.0                  \nguilt                                                                   1.0                  \nhappiness_joy                                                           3.5                  \nhope                                                                    1.0                  \ninspiration                                                             3.0                  \ninterest_curiosity                                                      3.0                  \nnegative_surprise                                                       4.5                  \nneutral                                                                 1.0                  \nnostalgia                                                               2.0                  \npeacefulness_serenity                                                   1.5                  \npositive_surprise                                                       3.5                  \npride                                                                   1.0                  \nregret                                                                  3.0                  \nrejection                                                               2.5                  \nrelief                                                                  2.5                  \nsadness                                                                 2.5                  \nsarcasm                                                                 3.0                  \nsatisfaction_contentment                                                1.0                  \nschadenfreude                                                           2.0                  \nsensory_pleasure                                                        1.0                  \nsexual_lust                                                             1.0                  \nshame                                                                   2.5                  \ntenderness                                                              1.0                  \ntriumph_achievement                                                     4.0                  \n\nsurvey_id                 ce2ad4e108a5e6956a51691f70d37bb55e1ebb0883b96bcafaf27082a4bd3e09  \\\nemotion_1                                                                                    \nadmiration                                                              3.5                  \namusement                                                               2.0                  \nanger                                                                   4.0                  \nanxiety                                                                 3.5                  \nawe                                                                     3.0                  \nbeing_moved                                                             2.5                  \nboredom                                                                 1.5                  \nconcentration                                                           1.5                  \nconfusion                                                               2.5                  \ncontempt                                                                2.5                  \ndetermination                                                           2.0                  \ndisappointment                                                          3.5                  \ndisgust                                                                 3.5                  \ndistress_pain                                                           5.0                  \ndoubt                                                                   3.5                  \nelevation_rejoicing                                                     3.5                  \nembarrassment                                                           2.5                  \nenvy                                                                    1.5                  \nexcitement_expectation                                                  4.0                  \nfear                                                                    5.0                  \ngratitude                                                               3.0                  \nguilt                                                                   2.5                  \nhappiness_joy                                                           3.0                  \nhope                                                                    1.5                  \ninspiration                                                             3.0                  \ninterest_curiosity                                                      3.0                  \nnegative_surprise                                                       4.0                  \nneutral                                                                 1.0                  \nnostalgia                                                               1.5                  \npeacefulness_serenity                                                   1.0                  \npositive_surprise                                                       4.5                  \npride                                                                   1.0                  \nregret                                                                  3.5                  \nrejection                                                               5.0                  \nrelief                                                                  4.0                  \nsadness                                                                 4.5                  \nsarcasm                                                                 2.5                  \nsatisfaction_contentment                                                2.5                  \nschadenfreude                                                           3.0                  \nsensory_pleasure                                                        2.0                  \nsexual_lust                                                             1.5                  \nshame                                                                   2.0                  \ntenderness                                                              2.5                  \ntriumph_achievement                                                     2.0                  \n\nsurvey_id                 ec2e6b609b727ed8df127dad7dae6bae61a680f51ee1a0014cac58c72a2e663d  \nemotion_1                                                                                   \nadmiration                                                              3.5                 \namusement                                                               4.0                 \nanger                                                                   3.0                 \nanxiety                                                                 2.0                 \nawe                                                                     2.0                 \nbeing_moved                                                             1.5                 \nboredom                                                                 2.0                 \nconcentration                                                           3.0                 \nconfusion                                                               3.5                 \ncontempt                                                                2.5                 \ndetermination                                                           3.5                 \ndisappointment                                                          2.5                 \ndisgust                                                                 3.0                 \ndistress_pain                                                           5.0                 \ndoubt                                                                   3.5                 \nelevation_rejoicing                                                     3.0                 \nembarrassment                                                           3.0                 \nenvy                                                                    3.5                 \nexcitement_expectation                                                  5.0                 \nfear                                                                    4.5                 \ngratitude                                                               4.0                 \nguilt                                                                   2.0                 \nhappiness_joy                                                           5.0                 \nhope                                                                    3.5                 \ninspiration                                                             2.5                 \ninterest_curiosity                                                      4.0                 \nnegative_surprise                                                       4.5                 \nneutral                                                                 2.5                 \nnostalgia                                                               3.0                 \npeacefulness_serenity                                                   2.5                 \npositive_surprise                                                       5.0                 \npride                                                                   2.5                 \nregret                                                                  1.5                 \nrejection                                                               2.0                 \nrelief                                                                  4.5                 \nsadness                                                                 2.5                 \nsarcasm                                                                 3.0                 \nsatisfaction_contentment                                                2.0                 \nschadenfreude                                                           4.0                 \nsensory_pleasure                                                        3.0                 \nsexual_lust                                                             1.5                 \nshame                                                                   1.5                 \ntenderness                                                              3.5                 \ntriumph_achievement                                                     5.0                 ",
      "text/html": "<div>\n<style scoped>\n    .dataframe tbody tr th:only-of-type {\n        vertical-align: middle;\n    }\n\n    .dataframe tbody tr th {\n        vertical-align: top;\n    }\n\n    .dataframe thead th {\n        text-align: right;\n    }\n</style>\n<table border=\"1\" class=\"dataframe\">\n  <thead>\n    <tr style=\"text-align: right;\">\n      <th>survey_id</th>\n      <th>1d1439eb990b9fbdc99bf899dc7a7f9cb61a9a404e5677631723cd56788b2d4a</th>\n      <th>4512b9c28e499053d7517c9c05291332846f82c3a969fb54978fc8966861824f</th>\n      <th>67921eb65c423aab2abf37e16661e6338b2cb4f500b1bad84bf9052b065d4b80</th>\n      <th>7ef007a5f86ee9eb7037e0c4f80ad9610f7a26b4ea7118b781ecfdc00596ef3a</th>\n      <th>86395a140e86308a1eeddb80a97aa009b3fe89f1099adb70a7aa24ec85610342</th>\n      <th>8d874a3f1a6a3cd5b31669581a06e6b6978e7ed7a9653e857d649ba33e051971</th>\n      <th>938d071cd06babc93eab6d597625c295c9d362cfabbf9fc2901ca49cad26c66a</th>\n      <th>ce2ad4e108a5e6956a51691f70d37bb55e1ebb0883b96bcafaf27082a4bd3e09</th>\n      <th>ec2e6b609b727ed8df127dad7dae6bae61a680f51ee1a0014cac58c72a2e663d</th>\n    </tr>\n    <tr>\n      <th>emotion_1</th>\n      <th></th>\n      <th></th>\n      <th></th>\n      <th></th>\n      <th></th>\n      <th></th>\n      <th></th>\n      <th></th>\n      <th></th>\n    </tr>\n  </thead>\n  <tbody>\n    <tr>\n      <th>admiration</th>\n      <td>2.5</td>\n      <td>1.5</td>\n      <td>3.0</td>\n      <td>3.0</td>\n      <td>2.5</td>\n      <td>1.0</td>\n      <td>2.5</td>\n      <td>3.5</td>\n      <td>3.5</td>\n    </tr>\n    <tr>\n      <th>amusement</th>\n      <td>2.5</td>\n      <td>2.0</td>\n      <td>3.0</td>\n      <td>4.0</td>\n      <td>4.0</td>\n      <td>3.0</td>\n      <td>3.0</td>\n      <td>2.0</td>\n      <td>4.0</td>\n    </tr>\n    <tr>\n      <th>anger</th>\n      <td>2.0</td>\n      <td>2.5</td>\n      <td>2.0</td>\n      <td>4.0</td>\n      <td>4.0</td>\n      <td>2.5</td>\n      <td>3.5</td>\n      <td>4.0</td>\n      <td>3.0</td>\n    </tr>\n    <tr>\n      <th>anxiety</th>\n      <td>3.0</td>\n      <td>1.5</td>\n      <td>2.5</td>\n      <td>3.5</td>\n      <td>3.0</td>\n      <td>1.0</td>\n      <td>1.0</td>\n      <td>3.5</td>\n      <td>2.0</td>\n    </tr>\n    <tr>\n      <th>awe</th>\n      <td>2.5</td>\n      <td>1.0</td>\n      <td>1.0</td>\n      <td>3.0</td>\n      <td>1.0</td>\n      <td>1.5</td>\n      <td>3.0</td>\n      <td>3.0</td>\n      <td>2.0</td>\n    </tr>\n    <tr>\n      <th>being_moved</th>\n      <td>2.0</td>\n      <td>1.5</td>\n      <td>1.0</td>\n      <td>3.5</td>\n      <td>2.5</td>\n      <td>1.0</td>\n      <td>1.0</td>\n      <td>2.5</td>\n      <td>1.5</td>\n    </tr>\n    <tr>\n      <th>boredom</th>\n      <td>1.5</td>\n      <td>1.5</td>\n      <td>1.5</td>\n      <td>2.0</td>\n      <td>2.0</td>\n      <td>3.0</td>\n      <td>2.5</td>\n      <td>1.5</td>\n      <td>2.0</td>\n    </tr>\n    <tr>\n      <th>concentration</th>\n      <td>1.0</td>\n      <td>1.5</td>\n      <td>1.0</td>\n      <td>2.0</td>\n      <td>1.0</td>\n      <td>1.0</td>\n      <td>1.0</td>\n      <td>1.5</td>\n      <td>3.0</td>\n    </tr>\n    <tr>\n      <th>confusion</th>\n      <td>2.0</td>\n      <td>3.0</td>\n      <td>1.5</td>\n      <td>4.5</td>\n      <td>3.5</td>\n      <td>1.5</td>\n      <td>2.5</td>\n      <td>2.5</td>\n      <td>3.5</td>\n    </tr>\n    <tr>\n      <th>contempt</th>\n      <td>2.5</td>\n      <td>2.0</td>\n      <td>1.5</td>\n      <td>3.5</td>\n      <td>3.0</td>\n      <td>1.0</td>\n      <td>1.5</td>\n      <td>2.5</td>\n      <td>2.5</td>\n    </tr>\n    <tr>\n      <th>determination</th>\n      <td>1.5</td>\n      <td>2.0</td>\n      <td>2.5</td>\n      <td>2.5</td>\n      <td>2.5</td>\n      <td>2.5</td>\n      <td>3.0</td>\n      <td>2.0</td>\n      <td>3.5</td>\n    </tr>\n    <tr>\n      <th>disappointment</th>\n      <td>2.5</td>\n      <td>1.0</td>\n      <td>1.0</td>\n      <td>1.0</td>\n      <td>2.5</td>\n      <td>2.5</td>\n      <td>2.0</td>\n      <td>3.5</td>\n      <td>2.5</td>\n    </tr>\n    <tr>\n      <th>disgust</th>\n      <td>2.5</td>\n      <td>2.5</td>\n      <td>2.5</td>\n      <td>4.0</td>\n      <td>4.0</td>\n      <td>2.5</td>\n      <td>3.0</td>\n      <td>3.5</td>\n      <td>3.0</td>\n    </tr>\n    <tr>\n      <th>distress_pain</th>\n      <td>3.5</td>\n      <td>4.5</td>\n      <td>4.0</td>\n      <td>5.0</td>\n      <td>5.0</td>\n      <td>5.0</td>\n      <td>5.0</td>\n      <td>5.0</td>\n      <td>5.0</td>\n    </tr>\n    <tr>\n      <th>doubt</th>\n      <td>2.0</td>\n      <td>2.0</td>\n      <td>1.5</td>\n      <td>2.5</td>\n      <td>2.5</td>\n      <td>2.0</td>\n      <td>1.5</td>\n      <td>3.5</td>\n      <td>3.5</td>\n    </tr>\n    <tr>\n      <th>elevation_rejoicing</th>\n      <td>2.5</td>\n      <td>2.0</td>\n      <td>2.5</td>\n      <td>3.5</td>\n      <td>3.5</td>\n      <td>1.5</td>\n      <td>3.5</td>\n      <td>3.5</td>\n      <td>3.0</td>\n    </tr>\n    <tr>\n      <th>embarrassment</th>\n      <td>2.5</td>\n      <td>2.0</td>\n      <td>2.0</td>\n      <td>3.5</td>\n      <td>2.0</td>\n      <td>2.5</td>\n      <td>2.0</td>\n      <td>2.5</td>\n      <td>3.0</td>\n    </tr>\n    <tr>\n      <th>envy</th>\n      <td>2.5</td>\n      <td>1.5</td>\n      <td>2.0</td>\n      <td>3.5</td>\n      <td>1.0</td>\n      <td>3.0</td>\n      <td>4.5</td>\n      <td>1.5</td>\n      <td>3.5</td>\n    </tr>\n    <tr>\n      <th>excitement_expectation</th>\n      <td>1.0</td>\n      <td>1.5</td>\n      <td>1.0</td>\n      <td>4.0</td>\n      <td>3.0</td>\n      <td>4.0</td>\n      <td>5.0</td>\n      <td>4.0</td>\n      <td>5.0</td>\n    </tr>\n    <tr>\n      <th>fear</th>\n      <td>3.0</td>\n      <td>3.5</td>\n      <td>3.0</td>\n      <td>4.5</td>\n      <td>4.5</td>\n      <td>2.0</td>\n      <td>5.0</td>\n      <td>5.0</td>\n      <td>4.5</td>\n    </tr>\n    <tr>\n      <th>gratitude</th>\n      <td>2.0</td>\n      <td>1.5</td>\n      <td>1.5</td>\n      <td>3.5</td>\n      <td>4.0</td>\n      <td>1.0</td>\n      <td>2.0</td>\n      <td>3.0</td>\n      <td>4.0</td>\n    </tr>\n    <tr>\n      <th>guilt</th>\n      <td>1.5</td>\n      <td>1.5</td>\n      <td>1.0</td>\n      <td>2.0</td>\n      <td>1.5</td>\n      <td>1.0</td>\n      <td>1.0</td>\n      <td>2.5</td>\n      <td>2.0</td>\n    </tr>\n    <tr>\n      <th>happiness_joy</th>\n      <td>2.5</td>\n      <td>1.5</td>\n      <td>2.5</td>\n      <td>4.5</td>\n      <td>5.0</td>\n      <td>3.5</td>\n      <td>3.5</td>\n      <td>3.0</td>\n      <td>5.0</td>\n    </tr>\n    <tr>\n      <th>hope</th>\n      <td>2.5</td>\n      <td>1.5</td>\n      <td>1.5</td>\n      <td>3.0</td>\n      <td>3.0</td>\n      <td>2.5</td>\n      <td>1.0</td>\n      <td>1.5</td>\n      <td>3.5</td>\n    </tr>\n    <tr>\n      <th>inspiration</th>\n      <td>2.0</td>\n      <td>2.0</td>\n      <td>1.5</td>\n      <td>4.0</td>\n      <td>3.0</td>\n      <td>2.5</td>\n      <td>3.0</td>\n      <td>3.0</td>\n      <td>2.5</td>\n    </tr>\n    <tr>\n      <th>interest_curiosity</th>\n      <td>1.5</td>\n      <td>2.5</td>\n      <td>1.5</td>\n      <td>3.0</td>\n      <td>3.5</td>\n      <td>1.5</td>\n      <td>3.0</td>\n      <td>3.0</td>\n      <td>4.0</td>\n    </tr>\n    <tr>\n      <th>negative_surprise</th>\n      <td>3.0</td>\n      <td>3.5</td>\n      <td>4.0</td>\n      <td>4.5</td>\n      <td>3.0</td>\n      <td>1.0</td>\n      <td>4.5</td>\n      <td>4.0</td>\n      <td>4.5</td>\n    </tr>\n    <tr>\n      <th>neutral</th>\n      <td>1.0</td>\n      <td>1.5</td>\n      <td>1.5</td>\n      <td>2.0</td>\n      <td>1.0</td>\n      <td>1.0</td>\n      <td>1.0</td>\n      <td>1.0</td>\n      <td>2.5</td>\n    </tr>\n    <tr>\n      <th>nostalgia</th>\n      <td>1.5</td>\n      <td>1.0</td>\n      <td>1.5</td>\n      <td>2.5</td>\n      <td>1.5</td>\n      <td>1.0</td>\n      <td>2.0</td>\n      <td>1.5</td>\n      <td>3.0</td>\n    </tr>\n    <tr>\n      <th>peacefulness_serenity</th>\n      <td>1.0</td>\n      <td>1.0</td>\n      <td>1.0</td>\n      <td>1.5</td>\n      <td>1.0</td>\n      <td>1.0</td>\n      <td>1.5</td>\n      <td>1.0</td>\n      <td>2.5</td>\n    </tr>\n    <tr>\n      <th>positive_surprise</th>\n      <td>4.5</td>\n      <td>4.5</td>\n      <td>4.5</td>\n      <td>5.0</td>\n      <td>5.0</td>\n      <td>3.0</td>\n      <td>3.5</td>\n      <td>4.5</td>\n      <td>5.0</td>\n    </tr>\n    <tr>\n      <th>pride</th>\n      <td>2.0</td>\n      <td>1.0</td>\n      <td>1.5</td>\n      <td>3.0</td>\n      <td>2.0</td>\n      <td>2.5</td>\n      <td>1.0</td>\n      <td>1.0</td>\n      <td>2.5</td>\n    </tr>\n    <tr>\n      <th>regret</th>\n      <td>2.0</td>\n      <td>2.0</td>\n      <td>2.0</td>\n      <td>3.0</td>\n      <td>4.0</td>\n      <td>1.0</td>\n      <td>3.0</td>\n      <td>3.5</td>\n      <td>1.5</td>\n    </tr>\n    <tr>\n      <th>rejection</th>\n      <td>2.0</td>\n      <td>3.0</td>\n      <td>2.0</td>\n      <td>4.0</td>\n      <td>3.0</td>\n      <td>1.0</td>\n      <td>2.5</td>\n      <td>5.0</td>\n      <td>2.0</td>\n    </tr>\n    <tr>\n      <th>relief</th>\n      <td>1.5</td>\n      <td>4.5</td>\n      <td>4.5</td>\n      <td>4.5</td>\n      <td>3.5</td>\n      <td>1.0</td>\n      <td>2.5</td>\n      <td>4.0</td>\n      <td>4.5</td>\n    </tr>\n    <tr>\n      <th>sadness</th>\n      <td>2.0</td>\n      <td>1.5</td>\n      <td>1.0</td>\n      <td>4.0</td>\n      <td>1.5</td>\n      <td>3.5</td>\n      <td>2.5</td>\n      <td>4.5</td>\n      <td>2.5</td>\n    </tr>\n    <tr>\n      <th>sarcasm</th>\n      <td>1.5</td>\n      <td>1.0</td>\n      <td>1.5</td>\n      <td>2.5</td>\n      <td>2.5</td>\n      <td>2.5</td>\n      <td>3.0</td>\n      <td>2.5</td>\n      <td>3.0</td>\n    </tr>\n    <tr>\n      <th>satisfaction_contentment</th>\n      <td>2.0</td>\n      <td>1.0</td>\n      <td>1.0</td>\n      <td>3.5</td>\n      <td>2.0</td>\n      <td>1.0</td>\n      <td>1.0</td>\n      <td>2.5</td>\n      <td>2.0</td>\n    </tr>\n    <tr>\n      <th>schadenfreude</th>\n      <td>1.5</td>\n      <td>2.0</td>\n      <td>2.0</td>\n      <td>3.5</td>\n      <td>2.5</td>\n      <td>1.5</td>\n      <td>2.0</td>\n      <td>3.0</td>\n      <td>4.0</td>\n    </tr>\n    <tr>\n      <th>sensory_pleasure</th>\n      <td>2.0</td>\n      <td>1.0</td>\n      <td>1.0</td>\n      <td>1.5</td>\n      <td>1.0</td>\n      <td>1.0</td>\n      <td>1.0</td>\n      <td>2.0</td>\n      <td>3.0</td>\n    </tr>\n    <tr>\n      <th>sexual_lust</th>\n      <td>2.0</td>\n      <td>1.0</td>\n      <td>1.0</td>\n      <td>3.0</td>\n      <td>3.0</td>\n      <td>1.0</td>\n      <td>1.0</td>\n      <td>1.5</td>\n      <td>1.5</td>\n    </tr>\n    <tr>\n      <th>shame</th>\n      <td>2.0</td>\n      <td>1.0</td>\n      <td>1.0</td>\n      <td>3.0</td>\n      <td>1.0</td>\n      <td>1.0</td>\n      <td>2.5</td>\n      <td>2.0</td>\n      <td>1.5</td>\n    </tr>\n    <tr>\n      <th>tenderness</th>\n      <td>2.0</td>\n      <td>1.0</td>\n      <td>1.5</td>\n      <td>3.0</td>\n      <td>2.5</td>\n      <td>1.0</td>\n      <td>1.0</td>\n      <td>2.5</td>\n      <td>3.5</td>\n    </tr>\n    <tr>\n      <th>triumph_achievement</th>\n      <td>3.0</td>\n      <td>3.0</td>\n      <td>3.5</td>\n      <td>5.0</td>\n      <td>4.5</td>\n      <td>3.0</td>\n      <td>4.0</td>\n      <td>2.0</td>\n      <td>5.0</td>\n    </tr>\n  </tbody>\n</table>\n</div>"
     },
     "execution_count": 21,
     "metadata": {},
     "output_type": "execute_result"
    }
   ],
   "source": [
    "pivot"
   ],
   "metadata": {
    "collapsed": false,
    "ExecuteTime": {
     "end_time": "2024-03-27T09:30:32.499674Z",
     "start_time": "2024-03-27T09:30:32.473796Z"
    }
   },
   "id": "74f5d21fb5a75aa2",
   "execution_count": 21
  },
  {
   "cell_type": "code",
   "outputs": [],
   "source": [
    "results = pg.intraclass_corr(data=df, targets='filename', raters='survey_id', ratings='reply_dim_Novelty')"
   ],
   "metadata": {
    "collapsed": false,
    "ExecuteTime": {
     "end_time": "2024-03-27T09:30:32.699832Z",
     "start_time": "2024-03-27T09:30:32.530153Z"
    }
   },
   "id": "449d3665191dbea9",
   "execution_count": 22
  },
  {
   "cell_type": "code",
   "outputs": [
    {
     "name": "stdout",
     "output_type": "stream",
     "text": [
      "    Type              Description       ICC         F  df1  df2          pval  \\\n",
      "0   ICC1   Single raters absolute  0.330961  5.452122   87  704  8.133354e-39   \n",
      "1   ICC2     Single random raters  0.342983  7.232364   87  696  1.410710e-54   \n",
      "2   ICC3      Single fixed raters  0.409153  7.232364   87  696  1.410710e-54   \n",
      "3  ICC1k  Average raters absolute  0.816585  5.452122   87  704  8.133354e-39   \n",
      "4  ICC2k    Average random raters  0.824508  7.232364   87  696  1.410710e-54   \n",
      "5  ICC3k     Average fixed raters  0.861733  7.232364   87  696  1.410710e-54   \n",
      "\n",
      "          CI95%  \n",
      "0  [0.25, 0.42]  \n",
      "1  [0.25, 0.45]  \n",
      "2   [0.33, 0.5]  \n",
      "3  [0.75, 0.87]  \n",
      "4  [0.75, 0.88]  \n",
      "5   [0.81, 0.9]  \n"
     ]
    }
   ],
   "source": [
    "print(results)"
   ],
   "metadata": {
    "collapsed": false,
    "ExecuteTime": {
     "end_time": "2024-03-27T09:30:32.706852Z",
     "start_time": "2024-03-27T09:30:32.701492Z"
    }
   },
   "id": "11ca4d05d8e46c59",
   "execution_count": 23
  },
  {
   "cell_type": "markdown",
   "source": [
    "ICC2k ska motsvara inverterad cronbachs alpha, petri rekommenderar denna. "
   ],
   "metadata": {
    "collapsed": false
   },
   "id": "3e6732d3cb020394"
  }
 ],
 "metadata": {
  "kernelspec": {
   "display_name": "Python 3",
   "language": "python",
   "name": "python3"
  },
  "language_info": {
   "codemirror_mode": {
    "name": "ipython",
    "version": 2
   },
   "file_extension": ".py",
   "mimetype": "text/x-python",
   "name": "python",
   "nbconvert_exporter": "python",
   "pygments_lexer": "ipython2",
   "version": "2.7.6"
  }
 },
 "nbformat": 4,
 "nbformat_minor": 5
}
