{
 "cells": [
  {
   "cell_type": "markdown",
   "source": [
    "Intraclass correlation and cronbachs alpha are very related... "
   ],
   "metadata": {
    "collapsed": false
   },
   "id": "1782f7db9f769a6f"
  },
  {
   "cell_type": "code",
   "source": [
    "import numpy as np\n",
    "import pandas as pd\n",
    "import pingouin as pg\n",
    "import statsmodels.api as sm\n",
    "from statsmodels.formula.api import ols"
   ],
   "metadata": {
    "collapsed": true,
    "ExecuteTime": {
     "end_time": "2024-04-26T12:05:36.078349Z",
     "start_time": "2024-04-26T12:05:35.836668Z"
    }
   },
   "id": "initial_id",
   "outputs": [],
   "execution_count": 1
  },
  {
   "cell_type": "code",
   "source": [
    "path = \"../data/appraisal/export_appraisal.csv\"\n",
    "df = pd.read_csv(path)\n",
    "df.head()"
   ],
   "metadata": {
    "collapsed": false,
    "ExecuteTime": {
     "end_time": "2024-04-26T12:05:36.099747Z",
     "start_time": "2024-04-26T12:05:36.079748Z"
    }
   },
   "id": "518415c68217cb9f",
   "outputs": [
    {
     "data": {
      "text/plain": [
       "   user_id                                          survey_id  \\\n",
       "0  default  1d1439eb990b9fbdc99bf899dc7a7f9cb61a9a404e5677...   \n",
       "1  default  1d1439eb990b9fbdc99bf899dc7a7f9cb61a9a404e5677...   \n",
       "2  default  1d1439eb990b9fbdc99bf899dc7a7f9cb61a9a404e5677...   \n",
       "3  default  1d1439eb990b9fbdc99bf899dc7a7f9cb61a9a404e5677...   \n",
       "4  default  1d1439eb990b9fbdc99bf899dc7a7f9cb61a9a404e5677...   \n",
       "\n",
       "   survey_item_index          filename  has_reply               emotion_1  \\\n",
       "0                  0  A200_int_v_3.mp4          1      interest_curiosity   \n",
       "1                  1  A102_exc_v_3.mp4          1  excitement_expectation   \n",
       "2                  2  A102_fea_p_2.mp4          1                    fear   \n",
       "3                  3  A102_amu_v_3.mp4          1               amusement   \n",
       "4                  4  A207_pea_v_2.mp4          1   peacefulness_serenity   \n",
       "\n",
       "  video_id  mix  emotion_1_id  emotion_2_id  intensity_level  \\\n",
       "0     A200    0            29           100              3.0   \n",
       "1     A102    0            36           100              3.0   \n",
       "2     A102    0            10           100              2.0   \n",
       "3     A102    0            13           100              3.0   \n",
       "4     A207    0            25           100              2.0   \n",
       "\n",
       "   reply_dim_Novelty  reply_dim_Pleasantness  reply_dim_Goal conduciveness  \\\n",
       "0                  1                       4                             4   \n",
       "1                  1                       5                             5   \n",
       "2                  3                       1                             1   \n",
       "3                  2                       4                             4   \n",
       "4                  1                       2                             2   \n",
       "\n",
       "   reply_dim_Urgency  reply_dim_Power  reply_dim_Norm compatibility  \n",
       "0                  1                3                             3  \n",
       "1                  1                3                             5  \n",
       "2                  2                2                             1  \n",
       "3                  2                3                             4  \n",
       "4                  2                2                             2  "
      ],
      "text/html": [
       "<div>\n",
       "<style scoped>\n",
       "    .dataframe tbody tr th:only-of-type {\n",
       "        vertical-align: middle;\n",
       "    }\n",
       "\n",
       "    .dataframe tbody tr th {\n",
       "        vertical-align: top;\n",
       "    }\n",
       "\n",
       "    .dataframe thead th {\n",
       "        text-align: right;\n",
       "    }\n",
       "</style>\n",
       "<table border=\"1\" class=\"dataframe\">\n",
       "  <thead>\n",
       "    <tr style=\"text-align: right;\">\n",
       "      <th></th>\n",
       "      <th>user_id</th>\n",
       "      <th>survey_id</th>\n",
       "      <th>survey_item_index</th>\n",
       "      <th>filename</th>\n",
       "      <th>has_reply</th>\n",
       "      <th>emotion_1</th>\n",
       "      <th>video_id</th>\n",
       "      <th>mix</th>\n",
       "      <th>emotion_1_id</th>\n",
       "      <th>emotion_2_id</th>\n",
       "      <th>intensity_level</th>\n",
       "      <th>reply_dim_Novelty</th>\n",
       "      <th>reply_dim_Pleasantness</th>\n",
       "      <th>reply_dim_Goal conduciveness</th>\n",
       "      <th>reply_dim_Urgency</th>\n",
       "      <th>reply_dim_Power</th>\n",
       "      <th>reply_dim_Norm compatibility</th>\n",
       "    </tr>\n",
       "  </thead>\n",
       "  <tbody>\n",
       "    <tr>\n",
       "      <th>0</th>\n",
       "      <td>default</td>\n",
       "      <td>1d1439eb990b9fbdc99bf899dc7a7f9cb61a9a404e5677...</td>\n",
       "      <td>0</td>\n",
       "      <td>A200_int_v_3.mp4</td>\n",
       "      <td>1</td>\n",
       "      <td>interest_curiosity</td>\n",
       "      <td>A200</td>\n",
       "      <td>0</td>\n",
       "      <td>29</td>\n",
       "      <td>100</td>\n",
       "      <td>3.0</td>\n",
       "      <td>1</td>\n",
       "      <td>4</td>\n",
       "      <td>4</td>\n",
       "      <td>1</td>\n",
       "      <td>3</td>\n",
       "      <td>3</td>\n",
       "    </tr>\n",
       "    <tr>\n",
       "      <th>1</th>\n",
       "      <td>default</td>\n",
       "      <td>1d1439eb990b9fbdc99bf899dc7a7f9cb61a9a404e5677...</td>\n",
       "      <td>1</td>\n",
       "      <td>A102_exc_v_3.mp4</td>\n",
       "      <td>1</td>\n",
       "      <td>excitement_expectation</td>\n",
       "      <td>A102</td>\n",
       "      <td>0</td>\n",
       "      <td>36</td>\n",
       "      <td>100</td>\n",
       "      <td>3.0</td>\n",
       "      <td>1</td>\n",
       "      <td>5</td>\n",
       "      <td>5</td>\n",
       "      <td>1</td>\n",
       "      <td>3</td>\n",
       "      <td>5</td>\n",
       "    </tr>\n",
       "    <tr>\n",
       "      <th>2</th>\n",
       "      <td>default</td>\n",
       "      <td>1d1439eb990b9fbdc99bf899dc7a7f9cb61a9a404e5677...</td>\n",
       "      <td>2</td>\n",
       "      <td>A102_fea_p_2.mp4</td>\n",
       "      <td>1</td>\n",
       "      <td>fear</td>\n",
       "      <td>A102</td>\n",
       "      <td>0</td>\n",
       "      <td>10</td>\n",
       "      <td>100</td>\n",
       "      <td>2.0</td>\n",
       "      <td>3</td>\n",
       "      <td>1</td>\n",
       "      <td>1</td>\n",
       "      <td>2</td>\n",
       "      <td>2</td>\n",
       "      <td>1</td>\n",
       "    </tr>\n",
       "    <tr>\n",
       "      <th>3</th>\n",
       "      <td>default</td>\n",
       "      <td>1d1439eb990b9fbdc99bf899dc7a7f9cb61a9a404e5677...</td>\n",
       "      <td>3</td>\n",
       "      <td>A102_amu_v_3.mp4</td>\n",
       "      <td>1</td>\n",
       "      <td>amusement</td>\n",
       "      <td>A102</td>\n",
       "      <td>0</td>\n",
       "      <td>13</td>\n",
       "      <td>100</td>\n",
       "      <td>3.0</td>\n",
       "      <td>2</td>\n",
       "      <td>4</td>\n",
       "      <td>4</td>\n",
       "      <td>2</td>\n",
       "      <td>3</td>\n",
       "      <td>4</td>\n",
       "    </tr>\n",
       "    <tr>\n",
       "      <th>4</th>\n",
       "      <td>default</td>\n",
       "      <td>1d1439eb990b9fbdc99bf899dc7a7f9cb61a9a404e5677...</td>\n",
       "      <td>4</td>\n",
       "      <td>A207_pea_v_2.mp4</td>\n",
       "      <td>1</td>\n",
       "      <td>peacefulness_serenity</td>\n",
       "      <td>A207</td>\n",
       "      <td>0</td>\n",
       "      <td>25</td>\n",
       "      <td>100</td>\n",
       "      <td>2.0</td>\n",
       "      <td>1</td>\n",
       "      <td>2</td>\n",
       "      <td>2</td>\n",
       "      <td>2</td>\n",
       "      <td>2</td>\n",
       "      <td>2</td>\n",
       "    </tr>\n",
       "  </tbody>\n",
       "</table>\n",
       "</div>"
      ]
     },
     "execution_count": 2,
     "metadata": {},
     "output_type": "execute_result"
    }
   ],
   "execution_count": 2
  },
  {
   "cell_type": "code",
   "source": [
    "df.columns"
   ],
   "metadata": {
    "collapsed": false,
    "ExecuteTime": {
     "end_time": "2024-04-26T12:05:36.752149Z",
     "start_time": "2024-04-26T12:05:36.746513Z"
    }
   },
   "id": "8a9381641048c76b",
   "outputs": [
    {
     "data": {
      "text/plain": [
       "Index(['user_id', 'survey_id', 'survey_item_index', 'filename', 'has_reply',\n",
       "       'emotion_1', 'video_id', 'mix', 'emotion_1_id', 'emotion_2_id',\n",
       "       'intensity_level', 'reply_dim_Novelty', 'reply_dim_Pleasantness',\n",
       "       'reply_dim_Goal conduciveness', 'reply_dim_Urgency', 'reply_dim_Power',\n",
       "       'reply_dim_Norm compatibility'],\n",
       "      dtype='object')"
      ]
     },
     "execution_count": 3,
     "metadata": {},
     "output_type": "execute_result"
    }
   ],
   "execution_count": 3
  },
  {
   "cell_type": "code",
   "source": [
    "scales = [\n",
    "    'reply_dim_Novelty',\n",
    "    'reply_dim_Pleasantness',\n",
    "    'reply_dim_Goal conduciveness',\n",
    "    'reply_dim_Urgency',\n",
    "    'reply_dim_Power',\n",
    "    'reply_dim_Norm compatibility'\n",
    "]\n",
    "\n",
    "scales_df = df[scales]\n",
    "scales_df"
   ],
   "metadata": {
    "collapsed": false,
    "ExecuteTime": {
     "end_time": "2024-04-26T12:05:39.751706Z",
     "start_time": "2024-04-26T12:05:39.737124Z"
    }
   },
   "id": "6d0533c3e6b0869b",
   "outputs": [
    {
     "data": {
      "text/plain": [
       "     reply_dim_Novelty  reply_dim_Pleasantness  reply_dim_Goal conduciveness  \\\n",
       "0                    1                       4                             4   \n",
       "1                    1                       5                             5   \n",
       "2                    3                       1                             1   \n",
       "3                    2                       4                             4   \n",
       "4                    1                       2                             2   \n",
       "..                 ...                     ...                           ...   \n",
       "787                  3                       5                             5   \n",
       "788                  5                       1                             1   \n",
       "789                  4                       5                             5   \n",
       "790                  1                       3                             2   \n",
       "791                  2                       4                             4   \n",
       "\n",
       "     reply_dim_Urgency  reply_dim_Power  reply_dim_Norm compatibility  \n",
       "0                    1                3                             3  \n",
       "1                    1                3                             5  \n",
       "2                    2                2                             1  \n",
       "3                    2                3                             4  \n",
       "4                    2                2                             2  \n",
       "..                 ...              ...                           ...  \n",
       "787                  3                4                             5  \n",
       "788                  4                4                             2  \n",
       "789                  4                5                             5  \n",
       "790                  2                4                             3  \n",
       "791                  2                4                             4  \n",
       "\n",
       "[792 rows x 6 columns]"
      ],
      "text/html": [
       "<div>\n",
       "<style scoped>\n",
       "    .dataframe tbody tr th:only-of-type {\n",
       "        vertical-align: middle;\n",
       "    }\n",
       "\n",
       "    .dataframe tbody tr th {\n",
       "        vertical-align: top;\n",
       "    }\n",
       "\n",
       "    .dataframe thead th {\n",
       "        text-align: right;\n",
       "    }\n",
       "</style>\n",
       "<table border=\"1\" class=\"dataframe\">\n",
       "  <thead>\n",
       "    <tr style=\"text-align: right;\">\n",
       "      <th></th>\n",
       "      <th>reply_dim_Novelty</th>\n",
       "      <th>reply_dim_Pleasantness</th>\n",
       "      <th>reply_dim_Goal conduciveness</th>\n",
       "      <th>reply_dim_Urgency</th>\n",
       "      <th>reply_dim_Power</th>\n",
       "      <th>reply_dim_Norm compatibility</th>\n",
       "    </tr>\n",
       "  </thead>\n",
       "  <tbody>\n",
       "    <tr>\n",
       "      <th>0</th>\n",
       "      <td>1</td>\n",
       "      <td>4</td>\n",
       "      <td>4</td>\n",
       "      <td>1</td>\n",
       "      <td>3</td>\n",
       "      <td>3</td>\n",
       "    </tr>\n",
       "    <tr>\n",
       "      <th>1</th>\n",
       "      <td>1</td>\n",
       "      <td>5</td>\n",
       "      <td>5</td>\n",
       "      <td>1</td>\n",
       "      <td>3</td>\n",
       "      <td>5</td>\n",
       "    </tr>\n",
       "    <tr>\n",
       "      <th>2</th>\n",
       "      <td>3</td>\n",
       "      <td>1</td>\n",
       "      <td>1</td>\n",
       "      <td>2</td>\n",
       "      <td>2</td>\n",
       "      <td>1</td>\n",
       "    </tr>\n",
       "    <tr>\n",
       "      <th>3</th>\n",
       "      <td>2</td>\n",
       "      <td>4</td>\n",
       "      <td>4</td>\n",
       "      <td>2</td>\n",
       "      <td>3</td>\n",
       "      <td>4</td>\n",
       "    </tr>\n",
       "    <tr>\n",
       "      <th>4</th>\n",
       "      <td>1</td>\n",
       "      <td>2</td>\n",
       "      <td>2</td>\n",
       "      <td>2</td>\n",
       "      <td>2</td>\n",
       "      <td>2</td>\n",
       "    </tr>\n",
       "    <tr>\n",
       "      <th>...</th>\n",
       "      <td>...</td>\n",
       "      <td>...</td>\n",
       "      <td>...</td>\n",
       "      <td>...</td>\n",
       "      <td>...</td>\n",
       "      <td>...</td>\n",
       "    </tr>\n",
       "    <tr>\n",
       "      <th>787</th>\n",
       "      <td>3</td>\n",
       "      <td>5</td>\n",
       "      <td>5</td>\n",
       "      <td>3</td>\n",
       "      <td>4</td>\n",
       "      <td>5</td>\n",
       "    </tr>\n",
       "    <tr>\n",
       "      <th>788</th>\n",
       "      <td>5</td>\n",
       "      <td>1</td>\n",
       "      <td>1</td>\n",
       "      <td>4</td>\n",
       "      <td>4</td>\n",
       "      <td>2</td>\n",
       "    </tr>\n",
       "    <tr>\n",
       "      <th>789</th>\n",
       "      <td>4</td>\n",
       "      <td>5</td>\n",
       "      <td>5</td>\n",
       "      <td>4</td>\n",
       "      <td>5</td>\n",
       "      <td>5</td>\n",
       "    </tr>\n",
       "    <tr>\n",
       "      <th>790</th>\n",
       "      <td>1</td>\n",
       "      <td>3</td>\n",
       "      <td>2</td>\n",
       "      <td>2</td>\n",
       "      <td>4</td>\n",
       "      <td>3</td>\n",
       "    </tr>\n",
       "    <tr>\n",
       "      <th>791</th>\n",
       "      <td>2</td>\n",
       "      <td>4</td>\n",
       "      <td>4</td>\n",
       "      <td>2</td>\n",
       "      <td>4</td>\n",
       "      <td>4</td>\n",
       "    </tr>\n",
       "  </tbody>\n",
       "</table>\n",
       "<p>792 rows × 6 columns</p>\n",
       "</div>"
      ]
     },
     "execution_count": 4,
     "metadata": {},
     "output_type": "execute_result"
    }
   ],
   "execution_count": 4
  },
  {
   "cell_type": "markdown",
   "source": [
    "## ANOVA and Intraclass Correlation "
   ],
   "metadata": {
    "collapsed": false
   },
   "id": "e269f233fc7a6323"
  },
  {
   "metadata": {
    "ExecuteTime": {
     "end_time": "2024-04-26T12:07:24.428550Z",
     "start_time": "2024-04-26T12:07:24.410419Z"
    }
   },
   "cell_type": "code",
   "source": [
    "df_1 = df[df['survey_id'] == '1d1439eb990b9fbdc99bf899dc7a7f9cb61a9a404e5677631723cd56788b2d4a']\n",
    "df_1"
   ],
   "id": "ba436b1d3d8ae04a",
   "outputs": [
    {
     "data": {
      "text/plain": [
       "    user_id                                          survey_id  \\\n",
       "0   default  1d1439eb990b9fbdc99bf899dc7a7f9cb61a9a404e5677...   \n",
       "1   default  1d1439eb990b9fbdc99bf899dc7a7f9cb61a9a404e5677...   \n",
       "2   default  1d1439eb990b9fbdc99bf899dc7a7f9cb61a9a404e5677...   \n",
       "3   default  1d1439eb990b9fbdc99bf899dc7a7f9cb61a9a404e5677...   \n",
       "4   default  1d1439eb990b9fbdc99bf899dc7a7f9cb61a9a404e5677...   \n",
       "..      ...                                                ...   \n",
       "83  default  1d1439eb990b9fbdc99bf899dc7a7f9cb61a9a404e5677...   \n",
       "84  default  1d1439eb990b9fbdc99bf899dc7a7f9cb61a9a404e5677...   \n",
       "85  default  1d1439eb990b9fbdc99bf899dc7a7f9cb61a9a404e5677...   \n",
       "86  default  1d1439eb990b9fbdc99bf899dc7a7f9cb61a9a404e5677...   \n",
       "87  default  1d1439eb990b9fbdc99bf899dc7a7f9cb61a9a404e5677...   \n",
       "\n",
       "    survey_item_index              filename  has_reply  \\\n",
       "0                   0      A200_int_v_3.mp4          1   \n",
       "1                   1      A102_exc_v_3.mp4          1   \n",
       "2                   2      A102_fea_p_2.mp4          1   \n",
       "3                   3      A102_amu_v_3.mp4          1   \n",
       "4                   4      A207_pea_v_2.mp4          1   \n",
       "..                ...                   ...        ...   \n",
       "83                 83  A102_neg_sur_p_2.mp4          1   \n",
       "84                 84      A227_adm_p_3.mp4          1   \n",
       "85                 85      A200_sar_p_2.mp4          1   \n",
       "86                 86      A200_det_p_3.mp4          1   \n",
       "87                 87     A102_conf_p_3.mp4          1   \n",
       "\n",
       "                 emotion_1 video_id  mix  emotion_1_id  emotion_2_id  \\\n",
       "0       interest_curiosity     A200    0            29           100   \n",
       "1   excitement_expectation     A102    0            36           100   \n",
       "2                     fear     A102    0            10           100   \n",
       "3                amusement     A102    0            13           100   \n",
       "4    peacefulness_serenity     A207    0            25           100   \n",
       "..                     ...      ...  ...           ...           ...   \n",
       "83       negative_surprise     A102    0            11           100   \n",
       "84              admiration     A227    0             5           100   \n",
       "85                 sarcasm     A200    0            31           100   \n",
       "86           determination     A200    0             2           100   \n",
       "87               confusion     A102    0             1           100   \n",
       "\n",
       "    intensity_level  reply_dim_Novelty  reply_dim_Pleasantness  \\\n",
       "0               3.0                  1                       4   \n",
       "1               3.0                  1                       5   \n",
       "2               2.0                  3                       1   \n",
       "3               3.0                  2                       4   \n",
       "4               2.0                  1                       2   \n",
       "..              ...                ...                     ...   \n",
       "83              2.0                  3                       2   \n",
       "84              3.0                  3                       2   \n",
       "85              2.0                  1                       2   \n",
       "86              3.0                  1                       2   \n",
       "87              3.0                  2                       2   \n",
       "\n",
       "    reply_dim_Goal conduciveness  reply_dim_Urgency  reply_dim_Power  \\\n",
       "0                              4                  1                3   \n",
       "1                              5                  1                3   \n",
       "2                              1                  2                2   \n",
       "3                              4                  2                3   \n",
       "4                              2                  2                2   \n",
       "..                           ...                ...              ...   \n",
       "83                             1                  2                2   \n",
       "84                             2                  1                2   \n",
       "85                             2                  1                2   \n",
       "86                             2                  1                2   \n",
       "87                             1                  1                1   \n",
       "\n",
       "    reply_dim_Norm compatibility  \n",
       "0                              3  \n",
       "1                              5  \n",
       "2                              1  \n",
       "3                              4  \n",
       "4                              2  \n",
       "..                           ...  \n",
       "83                             2  \n",
       "84                             2  \n",
       "85                             3  \n",
       "86                             2  \n",
       "87                             2  \n",
       "\n",
       "[88 rows x 17 columns]"
      ],
      "text/html": [
       "<div>\n",
       "<style scoped>\n",
       "    .dataframe tbody tr th:only-of-type {\n",
       "        vertical-align: middle;\n",
       "    }\n",
       "\n",
       "    .dataframe tbody tr th {\n",
       "        vertical-align: top;\n",
       "    }\n",
       "\n",
       "    .dataframe thead th {\n",
       "        text-align: right;\n",
       "    }\n",
       "</style>\n",
       "<table border=\"1\" class=\"dataframe\">\n",
       "  <thead>\n",
       "    <tr style=\"text-align: right;\">\n",
       "      <th></th>\n",
       "      <th>user_id</th>\n",
       "      <th>survey_id</th>\n",
       "      <th>survey_item_index</th>\n",
       "      <th>filename</th>\n",
       "      <th>has_reply</th>\n",
       "      <th>emotion_1</th>\n",
       "      <th>video_id</th>\n",
       "      <th>mix</th>\n",
       "      <th>emotion_1_id</th>\n",
       "      <th>emotion_2_id</th>\n",
       "      <th>intensity_level</th>\n",
       "      <th>reply_dim_Novelty</th>\n",
       "      <th>reply_dim_Pleasantness</th>\n",
       "      <th>reply_dim_Goal conduciveness</th>\n",
       "      <th>reply_dim_Urgency</th>\n",
       "      <th>reply_dim_Power</th>\n",
       "      <th>reply_dim_Norm compatibility</th>\n",
       "    </tr>\n",
       "  </thead>\n",
       "  <tbody>\n",
       "    <tr>\n",
       "      <th>0</th>\n",
       "      <td>default</td>\n",
       "      <td>1d1439eb990b9fbdc99bf899dc7a7f9cb61a9a404e5677...</td>\n",
       "      <td>0</td>\n",
       "      <td>A200_int_v_3.mp4</td>\n",
       "      <td>1</td>\n",
       "      <td>interest_curiosity</td>\n",
       "      <td>A200</td>\n",
       "      <td>0</td>\n",
       "      <td>29</td>\n",
       "      <td>100</td>\n",
       "      <td>3.0</td>\n",
       "      <td>1</td>\n",
       "      <td>4</td>\n",
       "      <td>4</td>\n",
       "      <td>1</td>\n",
       "      <td>3</td>\n",
       "      <td>3</td>\n",
       "    </tr>\n",
       "    <tr>\n",
       "      <th>1</th>\n",
       "      <td>default</td>\n",
       "      <td>1d1439eb990b9fbdc99bf899dc7a7f9cb61a9a404e5677...</td>\n",
       "      <td>1</td>\n",
       "      <td>A102_exc_v_3.mp4</td>\n",
       "      <td>1</td>\n",
       "      <td>excitement_expectation</td>\n",
       "      <td>A102</td>\n",
       "      <td>0</td>\n",
       "      <td>36</td>\n",
       "      <td>100</td>\n",
       "      <td>3.0</td>\n",
       "      <td>1</td>\n",
       "      <td>5</td>\n",
       "      <td>5</td>\n",
       "      <td>1</td>\n",
       "      <td>3</td>\n",
       "      <td>5</td>\n",
       "    </tr>\n",
       "    <tr>\n",
       "      <th>2</th>\n",
       "      <td>default</td>\n",
       "      <td>1d1439eb990b9fbdc99bf899dc7a7f9cb61a9a404e5677...</td>\n",
       "      <td>2</td>\n",
       "      <td>A102_fea_p_2.mp4</td>\n",
       "      <td>1</td>\n",
       "      <td>fear</td>\n",
       "      <td>A102</td>\n",
       "      <td>0</td>\n",
       "      <td>10</td>\n",
       "      <td>100</td>\n",
       "      <td>2.0</td>\n",
       "      <td>3</td>\n",
       "      <td>1</td>\n",
       "      <td>1</td>\n",
       "      <td>2</td>\n",
       "      <td>2</td>\n",
       "      <td>1</td>\n",
       "    </tr>\n",
       "    <tr>\n",
       "      <th>3</th>\n",
       "      <td>default</td>\n",
       "      <td>1d1439eb990b9fbdc99bf899dc7a7f9cb61a9a404e5677...</td>\n",
       "      <td>3</td>\n",
       "      <td>A102_amu_v_3.mp4</td>\n",
       "      <td>1</td>\n",
       "      <td>amusement</td>\n",
       "      <td>A102</td>\n",
       "      <td>0</td>\n",
       "      <td>13</td>\n",
       "      <td>100</td>\n",
       "      <td>3.0</td>\n",
       "      <td>2</td>\n",
       "      <td>4</td>\n",
       "      <td>4</td>\n",
       "      <td>2</td>\n",
       "      <td>3</td>\n",
       "      <td>4</td>\n",
       "    </tr>\n",
       "    <tr>\n",
       "      <th>4</th>\n",
       "      <td>default</td>\n",
       "      <td>1d1439eb990b9fbdc99bf899dc7a7f9cb61a9a404e5677...</td>\n",
       "      <td>4</td>\n",
       "      <td>A207_pea_v_2.mp4</td>\n",
       "      <td>1</td>\n",
       "      <td>peacefulness_serenity</td>\n",
       "      <td>A207</td>\n",
       "      <td>0</td>\n",
       "      <td>25</td>\n",
       "      <td>100</td>\n",
       "      <td>2.0</td>\n",
       "      <td>1</td>\n",
       "      <td>2</td>\n",
       "      <td>2</td>\n",
       "      <td>2</td>\n",
       "      <td>2</td>\n",
       "      <td>2</td>\n",
       "    </tr>\n",
       "    <tr>\n",
       "      <th>...</th>\n",
       "      <td>...</td>\n",
       "      <td>...</td>\n",
       "      <td>...</td>\n",
       "      <td>...</td>\n",
       "      <td>...</td>\n",
       "      <td>...</td>\n",
       "      <td>...</td>\n",
       "      <td>...</td>\n",
       "      <td>...</td>\n",
       "      <td>...</td>\n",
       "      <td>...</td>\n",
       "      <td>...</td>\n",
       "      <td>...</td>\n",
       "      <td>...</td>\n",
       "      <td>...</td>\n",
       "      <td>...</td>\n",
       "      <td>...</td>\n",
       "    </tr>\n",
       "    <tr>\n",
       "      <th>83</th>\n",
       "      <td>default</td>\n",
       "      <td>1d1439eb990b9fbdc99bf899dc7a7f9cb61a9a404e5677...</td>\n",
       "      <td>83</td>\n",
       "      <td>A102_neg_sur_p_2.mp4</td>\n",
       "      <td>1</td>\n",
       "      <td>negative_surprise</td>\n",
       "      <td>A102</td>\n",
       "      <td>0</td>\n",
       "      <td>11</td>\n",
       "      <td>100</td>\n",
       "      <td>2.0</td>\n",
       "      <td>3</td>\n",
       "      <td>2</td>\n",
       "      <td>1</td>\n",
       "      <td>2</td>\n",
       "      <td>2</td>\n",
       "      <td>2</td>\n",
       "    </tr>\n",
       "    <tr>\n",
       "      <th>84</th>\n",
       "      <td>default</td>\n",
       "      <td>1d1439eb990b9fbdc99bf899dc7a7f9cb61a9a404e5677...</td>\n",
       "      <td>84</td>\n",
       "      <td>A227_adm_p_3.mp4</td>\n",
       "      <td>1</td>\n",
       "      <td>admiration</td>\n",
       "      <td>A227</td>\n",
       "      <td>0</td>\n",
       "      <td>5</td>\n",
       "      <td>100</td>\n",
       "      <td>3.0</td>\n",
       "      <td>3</td>\n",
       "      <td>2</td>\n",
       "      <td>2</td>\n",
       "      <td>1</td>\n",
       "      <td>2</td>\n",
       "      <td>2</td>\n",
       "    </tr>\n",
       "    <tr>\n",
       "      <th>85</th>\n",
       "      <td>default</td>\n",
       "      <td>1d1439eb990b9fbdc99bf899dc7a7f9cb61a9a404e5677...</td>\n",
       "      <td>85</td>\n",
       "      <td>A200_sar_p_2.mp4</td>\n",
       "      <td>1</td>\n",
       "      <td>sarcasm</td>\n",
       "      <td>A200</td>\n",
       "      <td>0</td>\n",
       "      <td>31</td>\n",
       "      <td>100</td>\n",
       "      <td>2.0</td>\n",
       "      <td>1</td>\n",
       "      <td>2</td>\n",
       "      <td>2</td>\n",
       "      <td>1</td>\n",
       "      <td>2</td>\n",
       "      <td>3</td>\n",
       "    </tr>\n",
       "    <tr>\n",
       "      <th>86</th>\n",
       "      <td>default</td>\n",
       "      <td>1d1439eb990b9fbdc99bf899dc7a7f9cb61a9a404e5677...</td>\n",
       "      <td>86</td>\n",
       "      <td>A200_det_p_3.mp4</td>\n",
       "      <td>1</td>\n",
       "      <td>determination</td>\n",
       "      <td>A200</td>\n",
       "      <td>0</td>\n",
       "      <td>2</td>\n",
       "      <td>100</td>\n",
       "      <td>3.0</td>\n",
       "      <td>1</td>\n",
       "      <td>2</td>\n",
       "      <td>2</td>\n",
       "      <td>1</td>\n",
       "      <td>2</td>\n",
       "      <td>2</td>\n",
       "    </tr>\n",
       "    <tr>\n",
       "      <th>87</th>\n",
       "      <td>default</td>\n",
       "      <td>1d1439eb990b9fbdc99bf899dc7a7f9cb61a9a404e5677...</td>\n",
       "      <td>87</td>\n",
       "      <td>A102_conf_p_3.mp4</td>\n",
       "      <td>1</td>\n",
       "      <td>confusion</td>\n",
       "      <td>A102</td>\n",
       "      <td>0</td>\n",
       "      <td>1</td>\n",
       "      <td>100</td>\n",
       "      <td>3.0</td>\n",
       "      <td>2</td>\n",
       "      <td>2</td>\n",
       "      <td>1</td>\n",
       "      <td>1</td>\n",
       "      <td>1</td>\n",
       "      <td>2</td>\n",
       "    </tr>\n",
       "  </tbody>\n",
       "</table>\n",
       "<p>88 rows × 17 columns</p>\n",
       "</div>"
      ]
     },
     "execution_count": 5,
     "metadata": {},
     "output_type": "execute_result"
    }
   ],
   "execution_count": 5
  },
  {
   "metadata": {
    "ExecuteTime": {
     "end_time": "2024-04-26T14:49:06.601543Z",
     "start_time": "2024-04-26T14:49:06.526205Z"
    }
   },
   "cell_type": "code",
   "source": [
    "model = ols(\"reply_dim_Novelty ~ C(emotion_1,Treatment(reference='admiration'))\", data=df_1)\n",
    "result = model.fit()\n",
    "\n",
    "# Print the summary\n",
    "print(result.summary())"
   ],
   "id": "436aefa533e39c71",
   "outputs": [
    {
     "name": "stdout",
     "output_type": "stream",
     "text": [
      "                            OLS Regression Results                            \n",
      "==============================================================================\n",
      "Dep. Variable:      reply_dim_Novelty   R-squared:                       0.739\n",
      "Model:                            OLS   Adj. R-squared:                  0.485\n",
      "Method:                 Least Squares   F-statistic:                     2.902\n",
      "Date:                Fri, 26 Apr 2024   Prob (F-statistic):           0.000309\n",
      "Time:                        16:49:06   Log-Likelihood:                -45.526\n",
      "No. Observations:                  88   AIC:                             179.1\n",
      "Df Residuals:                      44   BIC:                             288.1\n",
      "Df Model:                          43                                         \n",
      "Covariance Type:            nonrobust                                         \n",
      "===============================================================================================================================================\n",
      "                                                                                  coef    std err          t      P>|t|      [0.025      0.975]\n",
      "-----------------------------------------------------------------------------------------------------------------------------------------------\n",
      "Intercept                                                                       2.5000      0.406      6.159      0.000       1.682       3.318\n",
      "C(emotion_1, Treatment(reference='admiration'))[T.amusement]                 4.441e-16      0.574   7.74e-16      1.000      -1.157       1.157\n",
      "C(emotion_1, Treatment(reference='admiration'))[T.anger]                       -0.5000      0.574     -0.871      0.388      -1.657       0.657\n",
      "C(emotion_1, Treatment(reference='admiration'))[T.anxiety]                      0.5000      0.574      0.871      0.388      -0.657       1.657\n",
      "C(emotion_1, Treatment(reference='admiration'))[T.awe]                        2.22e-15      0.574   3.87e-15      1.000      -1.157       1.157\n",
      "C(emotion_1, Treatment(reference='admiration'))[T.being_moved]                 -0.5000      0.574     -0.871      0.388      -1.657       0.657\n",
      "C(emotion_1, Treatment(reference='admiration'))[T.boredom]                     -1.0000      0.574     -1.742      0.088      -2.157       0.157\n",
      "C(emotion_1, Treatment(reference='admiration'))[T.concentration]               -1.5000      0.574     -2.613      0.012      -2.657      -0.343\n",
      "C(emotion_1, Treatment(reference='admiration'))[T.confusion]                   -0.5000      0.574     -0.871      0.388      -1.657       0.657\n",
      "C(emotion_1, Treatment(reference='admiration'))[T.contempt]                          0      0.574          0      1.000      -1.157       1.157\n",
      "C(emotion_1, Treatment(reference='admiration'))[T.determination]               -1.0000      0.574     -1.742      0.088      -2.157       0.157\n",
      "C(emotion_1, Treatment(reference='admiration'))[T.disappointment]           -9.992e-16      0.574  -1.74e-15      1.000      -1.157       1.157\n",
      "C(emotion_1, Treatment(reference='admiration'))[T.disgust]                   1.776e-15      0.574   3.09e-15      1.000      -1.157       1.157\n",
      "C(emotion_1, Treatment(reference='admiration'))[T.distress_pain]                1.0000      0.574      1.742      0.088      -0.157       2.157\n",
      "C(emotion_1, Treatment(reference='admiration'))[T.doubt]                       -0.5000      0.574     -0.871      0.388      -1.657       0.657\n",
      "C(emotion_1, Treatment(reference='admiration'))[T.elevation_rejoicing]       4.164e-16      0.574   7.25e-16      1.000      -1.157       1.157\n",
      "C(emotion_1, Treatment(reference='admiration'))[T.embarrassment]             8.882e-16      0.574   1.55e-15      1.000      -1.157       1.157\n",
      "C(emotion_1, Treatment(reference='admiration'))[T.envy]                      8.882e-16      0.574   1.55e-15      1.000      -1.157       1.157\n",
      "C(emotion_1, Treatment(reference='admiration'))[T.excitement_expectation]      -1.5000      0.574     -2.613      0.012      -2.657      -0.343\n",
      "C(emotion_1, Treatment(reference='admiration'))[T.fear]                         0.5000      0.574      0.871      0.388      -0.657       1.657\n",
      "C(emotion_1, Treatment(reference='admiration'))[T.gratitude]                   -0.5000      0.574     -0.871      0.388      -1.657       0.657\n",
      "C(emotion_1, Treatment(reference='admiration'))[T.guilt]                       -1.0000      0.574     -1.742      0.088      -2.157       0.157\n",
      "C(emotion_1, Treatment(reference='admiration'))[T.happiness_joy]             3.331e-16      0.574    5.8e-16      1.000      -1.157       1.157\n",
      "C(emotion_1, Treatment(reference='admiration'))[T.hope]                      5.551e-16      0.574   9.67e-16      1.000      -1.157       1.157\n",
      "C(emotion_1, Treatment(reference='admiration'))[T.inspiration]                 -0.5000      0.574     -0.871      0.388      -1.657       0.657\n",
      "C(emotion_1, Treatment(reference='admiration'))[T.interest_curiosity]          -1.0000      0.574     -1.742      0.088      -2.157       0.157\n",
      "C(emotion_1, Treatment(reference='admiration'))[T.negative_surprise]            0.5000      0.574      0.871      0.388      -0.657       1.657\n",
      "C(emotion_1, Treatment(reference='admiration'))[T.neutral]                     -1.5000      0.574     -2.613      0.012      -2.657      -0.343\n",
      "C(emotion_1, Treatment(reference='admiration'))[T.nostalgia]                   -1.0000      0.574     -1.742      0.088      -2.157       0.157\n",
      "C(emotion_1, Treatment(reference='admiration'))[T.peacefulness_serenity]       -1.5000      0.574     -2.613      0.012      -2.657      -0.343\n",
      "C(emotion_1, Treatment(reference='admiration'))[T.positive_surprise]            2.0000      0.574      3.484      0.001       0.843       3.157\n",
      "C(emotion_1, Treatment(reference='admiration'))[T.pride]                       -0.5000      0.574     -0.871      0.388      -1.657       0.657\n",
      "C(emotion_1, Treatment(reference='admiration'))[T.regret]                      -0.5000      0.574     -0.871      0.388      -1.657       0.657\n",
      "C(emotion_1, Treatment(reference='admiration'))[T.rejection]                   -0.5000      0.574     -0.871      0.388      -1.657       0.657\n",
      "C(emotion_1, Treatment(reference='admiration'))[T.relief]                      -1.0000      0.574     -1.742      0.088      -2.157       0.157\n",
      "C(emotion_1, Treatment(reference='admiration'))[T.sadness]                     -0.5000      0.574     -0.871      0.388      -1.657       0.657\n",
      "C(emotion_1, Treatment(reference='admiration'))[T.sarcasm]                     -1.0000      0.574     -1.742      0.088      -2.157       0.157\n",
      "C(emotion_1, Treatment(reference='admiration'))[T.satisfaction_contentment]    -0.5000      0.574     -0.871      0.388      -1.657       0.657\n",
      "C(emotion_1, Treatment(reference='admiration'))[T.schadenfreude]               -1.0000      0.574     -1.742      0.088      -2.157       0.157\n",
      "C(emotion_1, Treatment(reference='admiration'))[T.sensory_pleasure]            -0.5000      0.574     -0.871      0.388      -1.657       0.657\n",
      "C(emotion_1, Treatment(reference='admiration'))[T.sexual_lust]                 -0.5000      0.574     -0.871      0.388      -1.657       0.657\n",
      "C(emotion_1, Treatment(reference='admiration'))[T.shame]                       -0.5000      0.574     -0.871      0.388      -1.657       0.657\n",
      "C(emotion_1, Treatment(reference='admiration'))[T.tenderness]                  -0.5000      0.574     -0.871      0.388      -1.657       0.657\n",
      "C(emotion_1, Treatment(reference='admiration'))[T.triumph_achievement]          0.5000      0.574      0.871      0.388      -0.657       1.657\n",
      "==============================================================================\n",
      "Omnibus:                        0.034   Durbin-Watson:                   2.052\n",
      "Prob(Omnibus):                  0.983   Jarque-Bera (JB):                0.189\n",
      "Skew:                          -0.000   Prob(JB):                        0.910\n",
      "Kurtosis:                       2.773   Cond. No.                         45.0\n",
      "==============================================================================\n",
      "\n",
      "Notes:\n",
      "[1] Standard Errors assume that the covariance matrix of the errors is correctly specified.\n"
     ]
    }
   ],
   "execution_count": 11
  },
  {
   "metadata": {
    "ExecuteTime": {
     "end_time": "2024-04-26T14:50:38.979808Z",
     "start_time": "2024-04-26T14:50:38.911552Z"
    }
   },
   "cell_type": "code",
   "source": [
    "model = ols(\"reply_dim_Novelty ~ C(emotion_1)\", data=df_1)\n",
    "result = model.fit()\n",
    "\n",
    "# Print the summary\n",
    "print(result.summary())"
   ],
   "id": "30fae44727315a59",
   "outputs": [
    {
     "name": "stdout",
     "output_type": "stream",
     "text": [
      "                            OLS Regression Results                            \n",
      "==============================================================================\n",
      "Dep. Variable:      reply_dim_Novelty   R-squared:                       0.739\n",
      "Model:                            OLS   Adj. R-squared:                  0.485\n",
      "Method:                 Least Squares   F-statistic:                     2.902\n",
      "Date:                Fri, 26 Apr 2024   Prob (F-statistic):           0.000309\n",
      "Time:                        16:50:38   Log-Likelihood:                -45.526\n",
      "No. Observations:                  88   AIC:                             179.1\n",
      "Df Residuals:                      44   BIC:                             288.1\n",
      "Df Model:                          43                                         \n",
      "Covariance Type:            nonrobust                                         \n",
      "============================================================================================================\n",
      "                                               coef    std err          t      P>|t|      [0.025      0.975]\n",
      "------------------------------------------------------------------------------------------------------------\n",
      "Intercept                                    2.5000      0.406      6.159      0.000       1.682       3.318\n",
      "C(emotion_1)[T.amusement]                 4.441e-16      0.574   7.74e-16      1.000      -1.157       1.157\n",
      "C(emotion_1)[T.anger]                       -0.5000      0.574     -0.871      0.388      -1.657       0.657\n",
      "C(emotion_1)[T.anxiety]                      0.5000      0.574      0.871      0.388      -0.657       1.657\n",
      "C(emotion_1)[T.awe]                        2.22e-15      0.574   3.87e-15      1.000      -1.157       1.157\n",
      "C(emotion_1)[T.being_moved]                 -0.5000      0.574     -0.871      0.388      -1.657       0.657\n",
      "C(emotion_1)[T.boredom]                     -1.0000      0.574     -1.742      0.088      -2.157       0.157\n",
      "C(emotion_1)[T.concentration]               -1.5000      0.574     -2.613      0.012      -2.657      -0.343\n",
      "C(emotion_1)[T.confusion]                   -0.5000      0.574     -0.871      0.388      -1.657       0.657\n",
      "C(emotion_1)[T.contempt]                          0      0.574          0      1.000      -1.157       1.157\n",
      "C(emotion_1)[T.determination]               -1.0000      0.574     -1.742      0.088      -2.157       0.157\n",
      "C(emotion_1)[T.disappointment]           -9.992e-16      0.574  -1.74e-15      1.000      -1.157       1.157\n",
      "C(emotion_1)[T.disgust]                   1.776e-15      0.574   3.09e-15      1.000      -1.157       1.157\n",
      "C(emotion_1)[T.distress_pain]                1.0000      0.574      1.742      0.088      -0.157       2.157\n",
      "C(emotion_1)[T.doubt]                       -0.5000      0.574     -0.871      0.388      -1.657       0.657\n",
      "C(emotion_1)[T.elevation_rejoicing]       4.164e-16      0.574   7.25e-16      1.000      -1.157       1.157\n",
      "C(emotion_1)[T.embarrassment]             8.882e-16      0.574   1.55e-15      1.000      -1.157       1.157\n",
      "C(emotion_1)[T.envy]                      8.882e-16      0.574   1.55e-15      1.000      -1.157       1.157\n",
      "C(emotion_1)[T.excitement_expectation]      -1.5000      0.574     -2.613      0.012      -2.657      -0.343\n",
      "C(emotion_1)[T.fear]                         0.5000      0.574      0.871      0.388      -0.657       1.657\n",
      "C(emotion_1)[T.gratitude]                   -0.5000      0.574     -0.871      0.388      -1.657       0.657\n",
      "C(emotion_1)[T.guilt]                       -1.0000      0.574     -1.742      0.088      -2.157       0.157\n",
      "C(emotion_1)[T.happiness_joy]             3.331e-16      0.574    5.8e-16      1.000      -1.157       1.157\n",
      "C(emotion_1)[T.hope]                      5.551e-16      0.574   9.67e-16      1.000      -1.157       1.157\n",
      "C(emotion_1)[T.inspiration]                 -0.5000      0.574     -0.871      0.388      -1.657       0.657\n",
      "C(emotion_1)[T.interest_curiosity]          -1.0000      0.574     -1.742      0.088      -2.157       0.157\n",
      "C(emotion_1)[T.negative_surprise]            0.5000      0.574      0.871      0.388      -0.657       1.657\n",
      "C(emotion_1)[T.neutral]                     -1.5000      0.574     -2.613      0.012      -2.657      -0.343\n",
      "C(emotion_1)[T.nostalgia]                   -1.0000      0.574     -1.742      0.088      -2.157       0.157\n",
      "C(emotion_1)[T.peacefulness_serenity]       -1.5000      0.574     -2.613      0.012      -2.657      -0.343\n",
      "C(emotion_1)[T.positive_surprise]            2.0000      0.574      3.484      0.001       0.843       3.157\n",
      "C(emotion_1)[T.pride]                       -0.5000      0.574     -0.871      0.388      -1.657       0.657\n",
      "C(emotion_1)[T.regret]                      -0.5000      0.574     -0.871      0.388      -1.657       0.657\n",
      "C(emotion_1)[T.rejection]                   -0.5000      0.574     -0.871      0.388      -1.657       0.657\n",
      "C(emotion_1)[T.relief]                      -1.0000      0.574     -1.742      0.088      -2.157       0.157\n",
      "C(emotion_1)[T.sadness]                     -0.5000      0.574     -0.871      0.388      -1.657       0.657\n",
      "C(emotion_1)[T.sarcasm]                     -1.0000      0.574     -1.742      0.088      -2.157       0.157\n",
      "C(emotion_1)[T.satisfaction_contentment]    -0.5000      0.574     -0.871      0.388      -1.657       0.657\n",
      "C(emotion_1)[T.schadenfreude]               -1.0000      0.574     -1.742      0.088      -2.157       0.157\n",
      "C(emotion_1)[T.sensory_pleasure]            -0.5000      0.574     -0.871      0.388      -1.657       0.657\n",
      "C(emotion_1)[T.sexual_lust]                 -0.5000      0.574     -0.871      0.388      -1.657       0.657\n",
      "C(emotion_1)[T.shame]                       -0.5000      0.574     -0.871      0.388      -1.657       0.657\n",
      "C(emotion_1)[T.tenderness]                  -0.5000      0.574     -0.871      0.388      -1.657       0.657\n",
      "C(emotion_1)[T.triumph_achievement]          0.5000      0.574      0.871      0.388      -0.657       1.657\n",
      "==============================================================================\n",
      "Omnibus:                        0.034   Durbin-Watson:                   2.052\n",
      "Prob(Omnibus):                  0.983   Jarque-Bera (JB):                0.189\n",
      "Skew:                          -0.000   Prob(JB):                        0.910\n",
      "Kurtosis:                       2.773   Cond. No.                         45.0\n",
      "==============================================================================\n",
      "\n",
      "Notes:\n",
      "[1] Standard Errors assume that the covariance matrix of the errors is correctly specified.\n"
     ]
    }
   ],
   "execution_count": 17
  },
  {
   "metadata": {
    "ExecuteTime": {
     "end_time": "2024-04-26T14:57:23.768803Z",
     "start_time": "2024-04-26T14:57:23.729302Z"
    }
   },
   "cell_type": "code",
   "source": [
    "# Perform ANOVA\n",
    "anova_results = sm.stats.anova_lm(result, typ=2)  # Type 2 ANOVA DataFrame\n",
    "anova_results"
   ],
   "id": "964b1f914c7b1b41",
   "outputs": [
    {
     "data": {
      "text/plain": [
       "              sum_sq    df         F    PR(>F)\n",
       "C(emotion_1)  41.125  43.0  2.902165  0.000309\n",
       "Residual      14.500  44.0       NaN       NaN"
      ],
      "text/html": [
       "<div>\n",
       "<style scoped>\n",
       "    .dataframe tbody tr th:only-of-type {\n",
       "        vertical-align: middle;\n",
       "    }\n",
       "\n",
       "    .dataframe tbody tr th {\n",
       "        vertical-align: top;\n",
       "    }\n",
       "\n",
       "    .dataframe thead th {\n",
       "        text-align: right;\n",
       "    }\n",
       "</style>\n",
       "<table border=\"1\" class=\"dataframe\">\n",
       "  <thead>\n",
       "    <tr style=\"text-align: right;\">\n",
       "      <th></th>\n",
       "      <th>sum_sq</th>\n",
       "      <th>df</th>\n",
       "      <th>F</th>\n",
       "      <th>PR(&gt;F)</th>\n",
       "    </tr>\n",
       "  </thead>\n",
       "  <tbody>\n",
       "    <tr>\n",
       "      <th>C(emotion_1)</th>\n",
       "      <td>41.125</td>\n",
       "      <td>43.0</td>\n",
       "      <td>2.902165</td>\n",
       "      <td>0.000309</td>\n",
       "    </tr>\n",
       "    <tr>\n",
       "      <th>Residual</th>\n",
       "      <td>14.500</td>\n",
       "      <td>44.0</td>\n",
       "      <td>NaN</td>\n",
       "      <td>NaN</td>\n",
       "    </tr>\n",
       "  </tbody>\n",
       "</table>\n",
       "</div>"
      ]
     },
     "execution_count": 21,
     "metadata": {},
     "output_type": "execute_result"
    }
   ],
   "execution_count": 21
  },
  {
   "cell_type": "markdown",
   "source": [
    "By emotions"
   ],
   "metadata": {
    "collapsed": false
   },
   "id": "35b78a70e37d184f"
  },
  {
   "cell_type": "code",
   "outputs": [
    {
     "data": {
      "text/plain": "                  sum_sq     df          F        PR(>F)\nC(emotion_1)  475.313131   43.0  11.862130  4.598533e-59\nC(survey_id)  209.093434    8.0  28.047989  3.080231e-38\nResidual      689.573232  740.0        NaN           NaN",
      "text/html": "<div>\n<style scoped>\n    .dataframe tbody tr th:only-of-type {\n        vertical-align: middle;\n    }\n\n    .dataframe tbody tr th {\n        vertical-align: top;\n    }\n\n    .dataframe thead th {\n        text-align: right;\n    }\n</style>\n<table border=\"1\" class=\"dataframe\">\n  <thead>\n    <tr style=\"text-align: right;\">\n      <th></th>\n      <th>sum_sq</th>\n      <th>df</th>\n      <th>F</th>\n      <th>PR(&gt;F)</th>\n    </tr>\n  </thead>\n  <tbody>\n    <tr>\n      <th>C(emotion_1)</th>\n      <td>475.313131</td>\n      <td>43.0</td>\n      <td>11.862130</td>\n      <td>4.598533e-59</td>\n    </tr>\n    <tr>\n      <th>C(survey_id)</th>\n      <td>209.093434</td>\n      <td>8.0</td>\n      <td>28.047989</td>\n      <td>3.080231e-38</td>\n    </tr>\n    <tr>\n      <th>Residual</th>\n      <td>689.573232</td>\n      <td>740.0</td>\n      <td>NaN</td>\n      <td>NaN</td>\n    </tr>\n  </tbody>\n</table>\n</div>"
     },
     "execution_count": 62,
     "metadata": {},
     "output_type": "execute_result"
    }
   ],
   "source": [
    "model = ols('reply_dim_Novelty ~ C(emotion_1) + C(survey_id)', data=df).fit()\n",
    "anova_table = sm.stats.anova_lm(model, typ=2)\n",
    "anova_table"
   ],
   "metadata": {
    "collapsed": false,
    "ExecuteTime": {
     "end_time": "2024-04-02T14:34:50.435563Z",
     "start_time": "2024-04-02T14:34:50.414910Z"
    }
   },
   "id": "df2f0a9343238fea",
   "execution_count": 62
  },
  {
   "cell_type": "code",
   "outputs": [
    {
     "data": {
      "text/plain": "    Type              Description       ICC          F  df1  df2  \\\n0   ICC1   Single raters absolute  0.394606   6.866357   43  352   \n1   ICC2     Single random raters  0.408699  10.634199   43  344   \n2   ICC3      Single fixed raters  0.517017  10.634199   43  344   \n3  ICC1k  Average raters absolute  0.854362   6.866357   43  352   \n4  ICC2k    Average random raters  0.861509  10.634199   43  344   \n5  ICC3k     Average fixed raters  0.905964  10.634199   43  344   \n\n           pval         CI95%  \n0  1.071705e-26  [0.28, 0.53]  \n1  1.596623e-41  [0.27, 0.56]  \n2  1.596623e-41   [0.4, 0.65]  \n3  1.071705e-26  [0.78, 0.91]  \n4  1.596623e-41  [0.77, 0.92]  \n5  1.596623e-41  [0.86, 0.94]  ",
      "text/html": "<div>\n<style scoped>\n    .dataframe tbody tr th:only-of-type {\n        vertical-align: middle;\n    }\n\n    .dataframe tbody tr th {\n        vertical-align: top;\n    }\n\n    .dataframe thead th {\n        text-align: right;\n    }\n</style>\n<table border=\"1\" class=\"dataframe\">\n  <thead>\n    <tr style=\"text-align: right;\">\n      <th></th>\n      <th>Type</th>\n      <th>Description</th>\n      <th>ICC</th>\n      <th>F</th>\n      <th>df1</th>\n      <th>df2</th>\n      <th>pval</th>\n      <th>CI95%</th>\n    </tr>\n  </thead>\n  <tbody>\n    <tr>\n      <th>0</th>\n      <td>ICC1</td>\n      <td>Single raters absolute</td>\n      <td>0.394606</td>\n      <td>6.866357</td>\n      <td>43</td>\n      <td>352</td>\n      <td>1.071705e-26</td>\n      <td>[0.28, 0.53]</td>\n    </tr>\n    <tr>\n      <th>1</th>\n      <td>ICC2</td>\n      <td>Single random raters</td>\n      <td>0.408699</td>\n      <td>10.634199</td>\n      <td>43</td>\n      <td>344</td>\n      <td>1.596623e-41</td>\n      <td>[0.27, 0.56]</td>\n    </tr>\n    <tr>\n      <th>2</th>\n      <td>ICC3</td>\n      <td>Single fixed raters</td>\n      <td>0.517017</td>\n      <td>10.634199</td>\n      <td>43</td>\n      <td>344</td>\n      <td>1.596623e-41</td>\n      <td>[0.4, 0.65]</td>\n    </tr>\n    <tr>\n      <th>3</th>\n      <td>ICC1k</td>\n      <td>Average raters absolute</td>\n      <td>0.854362</td>\n      <td>6.866357</td>\n      <td>43</td>\n      <td>352</td>\n      <td>1.071705e-26</td>\n      <td>[0.78, 0.91]</td>\n    </tr>\n    <tr>\n      <th>4</th>\n      <td>ICC2k</td>\n      <td>Average random raters</td>\n      <td>0.861509</td>\n      <td>10.634199</td>\n      <td>43</td>\n      <td>344</td>\n      <td>1.596623e-41</td>\n      <td>[0.77, 0.92]</td>\n    </tr>\n    <tr>\n      <th>5</th>\n      <td>ICC3k</td>\n      <td>Average fixed raters</td>\n      <td>0.905964</td>\n      <td>10.634199</td>\n      <td>43</td>\n      <td>344</td>\n      <td>1.596623e-41</td>\n      <td>[0.86, 0.94]</td>\n    </tr>\n  </tbody>\n</table>\n</div>"
     },
     "execution_count": 63,
     "metadata": {},
     "output_type": "execute_result"
    }
   ],
   "source": [
    "results = pg.intraclass_corr(data=df, targets='emotion_1', raters='survey_id', ratings='reply_dim_Novelty')\n",
    "results"
   ],
   "metadata": {
    "collapsed": false,
    "ExecuteTime": {
     "end_time": "2024-04-02T14:34:51.645253Z",
     "start_time": "2024-04-02T14:34:51.586239Z"
    }
   },
   "id": "e3c5bc9ba27612bb",
   "execution_count": 63
  },
  {
   "cell_type": "code",
   "outputs": [
    {
     "name": "stdout",
     "output_type": "stream",
     "text": [
      "ICC(2,k): 0.4277326163288912\n"
     ]
    }
   ],
   "source": [
    "# Extract mean squares\n",
    "MSB = anova_table['sum_sq']['C(emotion_1)'] / anova_table['df']['C(emotion_1)']  # Mean Square Between subjects (filenames)\n",
    "MSE = anova_table['sum_sq']['Residual'] / anova_table['df']['Residual']  # Mean Square Error\n",
    "MSR = anova_table['sum_sq']['C(survey_id)'] / anova_table['df']['C(survey_id)']  # Mean Square for Raters (survey_id)\n",
    "\n",
    "# Number of raters and subjects\n",
    "k = len(df['survey_id'].unique())  # number of raters\n",
    "n = len(df['emotion_1'].unique())  # number of subjects\n",
    "\n",
    "# Calculate ICC(2,k)\n",
    "ICC_2k = (MSB - MSE) / (MSB + (k - 1) * MSE + (k * (MSR - MSE) / n))\n",
    "\n",
    "print(\"ICC(2,k):\", ICC_2k)"
   ],
   "metadata": {
    "collapsed": false,
    "ExecuteTime": {
     "end_time": "2024-04-02T14:34:53.506798Z",
     "start_time": "2024-04-02T14:34:53.502728Z"
    }
   },
   "id": "3b002700a6a47abe",
   "execution_count": 64
  },
  {
   "cell_type": "code",
   "outputs": [
    {
     "data": {
      "text/plain": "0.9318557193557195"
     },
     "execution_count": 65,
     "metadata": {},
     "output_type": "execute_result"
    }
   ],
   "source": [
    "MSE"
   ],
   "metadata": {
    "collapsed": false,
    "ExecuteTime": {
     "end_time": "2024-04-02T14:35:04.746204Z",
     "start_time": "2024-04-02T14:35:04.743166Z"
    }
   },
   "id": "f3b95dd3b38d3e22",
   "execution_count": 65
  },
  {
   "cell_type": "markdown",
   "source": [
    "By filenames"
   ],
   "metadata": {
    "collapsed": false
   },
   "id": "9d33d24cebb89c5"
  },
  {
   "cell_type": "code",
   "outputs": [],
   "source": [
    "scale = scales[0]"
   ],
   "metadata": {
    "collapsed": false
   },
   "id": "3abd498f36ba3a8f",
   "execution_count": null
  },
  {
   "cell_type": "code",
   "outputs": [
    {
     "data": {
      "text/plain": "                  sum_sq     df          F        PR(>F)\nC(filename)   553.090909   87.0   7.232364  1.410710e-54\nC(survey_id)  209.093434    8.0  29.734004  4.479147e-40\nResidual      611.795455  696.0        NaN           NaN",
      "text/html": "<div>\n<style scoped>\n    .dataframe tbody tr th:only-of-type {\n        vertical-align: middle;\n    }\n\n    .dataframe tbody tr th {\n        vertical-align: top;\n    }\n\n    .dataframe thead th {\n        text-align: right;\n    }\n</style>\n<table border=\"1\" class=\"dataframe\">\n  <thead>\n    <tr style=\"text-align: right;\">\n      <th></th>\n      <th>sum_sq</th>\n      <th>df</th>\n      <th>F</th>\n      <th>PR(&gt;F)</th>\n    </tr>\n  </thead>\n  <tbody>\n    <tr>\n      <th>C(filename)</th>\n      <td>553.090909</td>\n      <td>87.0</td>\n      <td>7.232364</td>\n      <td>1.410710e-54</td>\n    </tr>\n    <tr>\n      <th>C(survey_id)</th>\n      <td>209.093434</td>\n      <td>8.0</td>\n      <td>29.734004</td>\n      <td>4.479147e-40</td>\n    </tr>\n    <tr>\n      <th>Residual</th>\n      <td>611.795455</td>\n      <td>696.0</td>\n      <td>NaN</td>\n      <td>NaN</td>\n    </tr>\n  </tbody>\n</table>\n</div>"
     },
     "execution_count": 43,
     "metadata": {},
     "output_type": "execute_result"
    }
   ],
   "source": [
    "model = ols('reply_dim_Novelty ~ C(filename) + C(survey_id)', data=df).fit()\n",
    "anova_table = sm.stats.anova_lm(model, typ=2)\n",
    "anova_table"
   ],
   "metadata": {
    "collapsed": false,
    "ExecuteTime": {
     "end_time": "2024-04-02T13:58:18.440535Z",
     "start_time": "2024-04-02T13:58:18.404719Z"
    }
   },
   "id": "e7c8d62d2f8eaedb",
   "execution_count": 43
  },
  {
   "cell_type": "code",
   "outputs": [
    {
     "name": "stdout",
     "output_type": "stream",
     "text": [
      "ICC(2,k): 0.34298278431637114\n"
     ]
    }
   ],
   "source": [
    "# Extract mean squares\n",
    "MSB = anova_table['sum_sq']['C(filename)'] / anova_table['df']['C(filename)']  # Mean Square Between subjects (filenames)\n",
    "MSE = anova_table['sum_sq']['Residual'] / anova_table['df']['Residual']  # Mean Square Error\n",
    "MSR = anova_table['sum_sq']['C(survey_id)'] / anova_table['df']['C(survey_id)']  # Mean Square for Raters (survey_id)\n",
    "\n",
    "# Number of raters and subjects\n",
    "k = len(df['survey_id'].unique())  # number of raters\n",
    "n = len(df['filename'].unique())  # number of subjects\n",
    "\n",
    "# Calculate ICC(2,k)\n",
    "ICC_2k = (MSB - MSE) / (MSB + (k - 1) * MSE + (k * (MSR - MSE) / n))\n",
    "\n",
    "print(\"ICC(2,k):\", ICC_2k)"
   ],
   "metadata": {
    "collapsed": false,
    "ExecuteTime": {
     "end_time": "2024-04-02T13:58:18.451680Z",
     "start_time": "2024-04-02T13:58:18.442646Z"
    }
   },
   "id": "c445713506f0831e",
   "execution_count": 44
  },
  {
   "cell_type": "code",
   "outputs": [
    {
     "data": {
      "text/plain": "611.7954545454545"
     },
     "execution_count": 57,
     "metadata": {},
     "output_type": "execute_result"
    }
   ],
   "source": [
    "anova_table['sum_sq']['Residual']"
   ],
   "metadata": {
    "collapsed": false,
    "ExecuteTime": {
     "end_time": "2024-04-02T14:30:06.695816Z",
     "start_time": "2024-04-02T14:30:06.691925Z"
    }
   },
   "id": "b83c991190c1264a",
   "execution_count": 57
  },
  {
   "cell_type": "code",
   "outputs": [
    {
     "data": {
      "text/plain": "696.0"
     },
     "execution_count": 58,
     "metadata": {},
     "output_type": "execute_result"
    }
   ],
   "source": [
    "anova_table['df']['Residual']"
   ],
   "metadata": {
    "collapsed": false,
    "ExecuteTime": {
     "end_time": "2024-04-02T14:30:16.054893Z",
     "start_time": "2024-04-02T14:30:16.050948Z"
    }
   },
   "id": "38691ee9bd47293e",
   "execution_count": 58
  },
  {
   "cell_type": "code",
   "outputs": [
    {
     "data": {
      "text/plain": "    Type              Description       ICC         F  df1  df2          pval  \\\n0   ICC1   Single raters absolute  0.330961  5.452122   87  704  8.133354e-39   \n1   ICC2     Single random raters  0.342983  7.232364   87  696  1.410710e-54   \n2   ICC3      Single fixed raters  0.409153  7.232364   87  696  1.410710e-54   \n3  ICC1k  Average raters absolute  0.816585  5.452122   87  704  8.133354e-39   \n4  ICC2k    Average random raters  0.824508  7.232364   87  696  1.410710e-54   \n5  ICC3k     Average fixed raters  0.861733  7.232364   87  696  1.410710e-54   \n\n          CI95%  \n0  [0.25, 0.42]  \n1  [0.25, 0.45]  \n2   [0.33, 0.5]  \n3  [0.75, 0.87]  \n4  [0.75, 0.88]  \n5   [0.81, 0.9]  ",
      "text/html": "<div>\n<style scoped>\n    .dataframe tbody tr th:only-of-type {\n        vertical-align: middle;\n    }\n\n    .dataframe tbody tr th {\n        vertical-align: top;\n    }\n\n    .dataframe thead th {\n        text-align: right;\n    }\n</style>\n<table border=\"1\" class=\"dataframe\">\n  <thead>\n    <tr style=\"text-align: right;\">\n      <th></th>\n      <th>Type</th>\n      <th>Description</th>\n      <th>ICC</th>\n      <th>F</th>\n      <th>df1</th>\n      <th>df2</th>\n      <th>pval</th>\n      <th>CI95%</th>\n    </tr>\n  </thead>\n  <tbody>\n    <tr>\n      <th>0</th>\n      <td>ICC1</td>\n      <td>Single raters absolute</td>\n      <td>0.330961</td>\n      <td>5.452122</td>\n      <td>87</td>\n      <td>704</td>\n      <td>8.133354e-39</td>\n      <td>[0.25, 0.42]</td>\n    </tr>\n    <tr>\n      <th>1</th>\n      <td>ICC2</td>\n      <td>Single random raters</td>\n      <td>0.342983</td>\n      <td>7.232364</td>\n      <td>87</td>\n      <td>696</td>\n      <td>1.410710e-54</td>\n      <td>[0.25, 0.45]</td>\n    </tr>\n    <tr>\n      <th>2</th>\n      <td>ICC3</td>\n      <td>Single fixed raters</td>\n      <td>0.409153</td>\n      <td>7.232364</td>\n      <td>87</td>\n      <td>696</td>\n      <td>1.410710e-54</td>\n      <td>[0.33, 0.5]</td>\n    </tr>\n    <tr>\n      <th>3</th>\n      <td>ICC1k</td>\n      <td>Average raters absolute</td>\n      <td>0.816585</td>\n      <td>5.452122</td>\n      <td>87</td>\n      <td>704</td>\n      <td>8.133354e-39</td>\n      <td>[0.75, 0.87]</td>\n    </tr>\n    <tr>\n      <th>4</th>\n      <td>ICC2k</td>\n      <td>Average random raters</td>\n      <td>0.824508</td>\n      <td>7.232364</td>\n      <td>87</td>\n      <td>696</td>\n      <td>1.410710e-54</td>\n      <td>[0.75, 0.88]</td>\n    </tr>\n    <tr>\n      <th>5</th>\n      <td>ICC3k</td>\n      <td>Average fixed raters</td>\n      <td>0.861733</td>\n      <td>7.232364</td>\n      <td>87</td>\n      <td>696</td>\n      <td>1.410710e-54</td>\n      <td>[0.81, 0.9]</td>\n    </tr>\n  </tbody>\n</table>\n</div>"
     },
     "execution_count": 45,
     "metadata": {},
     "output_type": "execute_result"
    }
   ],
   "source": [
    "results = pg.intraclass_corr(data=df, targets='filename', raters='survey_id', ratings='reply_dim_Novelty')\n",
    "results"
   ],
   "metadata": {
    "collapsed": false,
    "ExecuteTime": {
     "end_time": "2024-04-02T13:58:18.603649Z",
     "start_time": "2024-04-02T13:58:18.453343Z"
    }
   },
   "id": "449d3665191dbea9",
   "execution_count": 45
  },
  {
   "cell_type": "code",
   "outputs": [
    {
     "data": {
      "text/plain": "                  Source          SS   DF         MS          F         p-unc  \\\n0              emotion_1  475.313131   43  11.053794  13.184646  2.577273e-53   \n1              survey_id  209.093434    8  26.136679  31.175075  7.834299e-38   \n2  emotion_1 * survey_id  357.573232  344   1.039457   1.239834  1.937937e-02   \n3               Residual  332.000000  396   0.838384        NaN           NaN   \n\n        np2  \n0  0.588759  \n1  0.386428  \n2  0.518543  \n3       NaN  ",
      "text/html": "<div>\n<style scoped>\n    .dataframe tbody tr th:only-of-type {\n        vertical-align: middle;\n    }\n\n    .dataframe tbody tr th {\n        vertical-align: top;\n    }\n\n    .dataframe thead th {\n        text-align: right;\n    }\n</style>\n<table border=\"1\" class=\"dataframe\">\n  <thead>\n    <tr style=\"text-align: right;\">\n      <th></th>\n      <th>Source</th>\n      <th>SS</th>\n      <th>DF</th>\n      <th>MS</th>\n      <th>F</th>\n      <th>p-unc</th>\n      <th>np2</th>\n    </tr>\n  </thead>\n  <tbody>\n    <tr>\n      <th>0</th>\n      <td>emotion_1</td>\n      <td>475.313131</td>\n      <td>43</td>\n      <td>11.053794</td>\n      <td>13.184646</td>\n      <td>2.577273e-53</td>\n      <td>0.588759</td>\n    </tr>\n    <tr>\n      <th>1</th>\n      <td>survey_id</td>\n      <td>209.093434</td>\n      <td>8</td>\n      <td>26.136679</td>\n      <td>31.175075</td>\n      <td>7.834299e-38</td>\n      <td>0.386428</td>\n    </tr>\n    <tr>\n      <th>2</th>\n      <td>emotion_1 * survey_id</td>\n      <td>357.573232</td>\n      <td>344</td>\n      <td>1.039457</td>\n      <td>1.239834</td>\n      <td>1.937937e-02</td>\n      <td>0.518543</td>\n    </tr>\n    <tr>\n      <th>3</th>\n      <td>Residual</td>\n      <td>332.000000</td>\n      <td>396</td>\n      <td>0.838384</td>\n      <td>NaN</td>\n      <td>NaN</td>\n      <td>NaN</td>\n    </tr>\n  </tbody>\n</table>\n</div>"
     },
     "execution_count": 59,
     "metadata": {},
     "output_type": "execute_result"
    }
   ],
   "source": [
    "aov = pg.anova(data=df, dv=\"reply_dim_Novelty\", between=[\"emotion_1\", \"survey_id\"])\n",
    "aov"
   ],
   "metadata": {
    "collapsed": false,
    "ExecuteTime": {
     "end_time": "2024-04-02T14:33:37.068259Z",
     "start_time": "2024-04-02T14:33:37.010586Z"
    }
   },
   "id": "28bcbe7901c9584f",
   "execution_count": 59
  },
  {
   "cell_type": "code",
   "outputs": [
    {
     "data": {
      "text/plain": "26.1366792929293"
     },
     "execution_count": 48,
     "metadata": {},
     "output_type": "execute_result"
    }
   ],
   "source": [
    "msj = aov.at[1, \"MS\"]\n",
    "msj"
   ],
   "metadata": {
    "collapsed": false,
    "ExecuteTime": {
     "end_time": "2024-04-02T14:10:00.087154Z",
     "start_time": "2024-04-02T14:10:00.084097Z"
    }
   },
   "id": "74f49cfb7a11e122",
   "execution_count": 48
  },
  {
   "cell_type": "code",
   "outputs": [
    {
     "data": {
      "text/plain": "6.357366771159874"
     },
     "execution_count": 49,
     "metadata": {},
     "output_type": "execute_result"
    }
   ],
   "source": [
    "msb = aov.at[0, \"MS\"]\n",
    "msb"
   ],
   "metadata": {
    "collapsed": false,
    "ExecuteTime": {
     "end_time": "2024-04-02T14:17:21.277026Z",
     "start_time": "2024-04-02T14:17:21.273951Z"
    }
   },
   "id": "3aeb51106a6139e6",
   "execution_count": 49
  },
  {
   "cell_type": "code",
   "outputs": [
    {
     "data": {
      "text/plain": "1.0394570707070698"
     },
     "execution_count": 60,
     "metadata": {},
     "output_type": "execute_result"
    }
   ],
   "source": [
    "mse = aov.at[2, \"MS\"]\n",
    "mse"
   ],
   "metadata": {
    "collapsed": false,
    "ExecuteTime": {
     "end_time": "2024-04-02T14:33:54.199085Z",
     "start_time": "2024-04-02T14:33:54.194670Z"
    }
   },
   "id": "caa42633600c49b0",
   "execution_count": 60
  },
  {
   "cell_type": "markdown",
   "source": [
    "ICC2k ska motsvara inverterad cronbachs alpha, petri rekommenderar denna. "
   ],
   "metadata": {
    "collapsed": false
   },
   "id": "3e6732d3cb020394"
  }
 ],
 "metadata": {
  "kernelspec": {
   "display_name": "Python 3",
   "language": "python",
   "name": "python3"
  },
  "language_info": {
   "codemirror_mode": {
    "name": "ipython",
    "version": 2
   },
   "file_extension": ".py",
   "mimetype": "text/x-python",
   "name": "python",
   "nbconvert_exporter": "python",
   "pygments_lexer": "ipython2",
   "version": "2.7.6"
  }
 },
 "nbformat": 4,
 "nbformat_minor": 5
}
