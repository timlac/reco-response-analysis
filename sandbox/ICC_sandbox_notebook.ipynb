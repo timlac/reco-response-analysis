{
 "cells": [
  {
   "cell_type": "code",
   "outputs": [],
   "source": [
    "import pandas as pd\n",
    "import pingouin as pg"
   ],
   "metadata": {
    "collapsed": false,
    "ExecuteTime": {
     "end_time": "2024-04-02T09:05:49.438749Z",
     "start_time": "2024-04-02T09:05:49.403249Z"
    }
   },
   "id": "9ca92b1006be8c4",
   "execution_count": 3
  },
  {
   "cell_type": "code",
   "outputs": [],
   "source": [
    "data = {'Subject': ['S1', 'S1', 'S1', 'S2', 'S2', 'S2', 'S3', 'S3', 'S3', 'S4', 'S4', 'S4', 'S5', 'S5', 'S5'],\n",
    "        'Rater': ['R1', 'R2', 'R3'] * 5,\n",
    "        'Measurement': [1.2, 1.1, 1.2, 2.3, 2.4, 2.5, 3.1, 3.0, 3.2, 4.4, 4.5, 4.4, 5.2, 5.1, 5.3]}"
   ],
   "metadata": {
    "collapsed": false,
    "ExecuteTime": {
     "end_time": "2024-04-02T09:23:21.555361Z",
     "start_time": "2024-04-02T09:23:21.552344Z"
    }
   },
   "id": "105be15a38c9515b",
   "execution_count": 7
  },
  {
   "cell_type": "code",
   "outputs": [
    {
     "data": {
      "text/plain": "   Subject Rater  Measurement\n0       S1    R1          1.2\n1       S1    R2          1.1\n2       S1    R3          1.2\n3       S2    R1          2.3\n4       S2    R2          2.4\n5       S2    R3          2.5\n6       S3    R1          3.1\n7       S3    R2          3.0\n8       S3    R3          3.2\n9       S4    R1          4.4\n10      S4    R2          4.5\n11      S4    R3          4.4\n12      S5    R1          5.2\n13      S5    R2          5.1\n14      S5    R3          5.3",
      "text/html": "<div>\n<style scoped>\n    .dataframe tbody tr th:only-of-type {\n        vertical-align: middle;\n    }\n\n    .dataframe tbody tr th {\n        vertical-align: top;\n    }\n\n    .dataframe thead th {\n        text-align: right;\n    }\n</style>\n<table border=\"1\" class=\"dataframe\">\n  <thead>\n    <tr style=\"text-align: right;\">\n      <th></th>\n      <th>Subject</th>\n      <th>Rater</th>\n      <th>Measurement</th>\n    </tr>\n  </thead>\n  <tbody>\n    <tr>\n      <th>0</th>\n      <td>S1</td>\n      <td>R1</td>\n      <td>1.2</td>\n    </tr>\n    <tr>\n      <th>1</th>\n      <td>S1</td>\n      <td>R2</td>\n      <td>1.1</td>\n    </tr>\n    <tr>\n      <th>2</th>\n      <td>S1</td>\n      <td>R3</td>\n      <td>1.2</td>\n    </tr>\n    <tr>\n      <th>3</th>\n      <td>S2</td>\n      <td>R1</td>\n      <td>2.3</td>\n    </tr>\n    <tr>\n      <th>4</th>\n      <td>S2</td>\n      <td>R2</td>\n      <td>2.4</td>\n    </tr>\n    <tr>\n      <th>5</th>\n      <td>S2</td>\n      <td>R3</td>\n      <td>2.5</td>\n    </tr>\n    <tr>\n      <th>6</th>\n      <td>S3</td>\n      <td>R1</td>\n      <td>3.1</td>\n    </tr>\n    <tr>\n      <th>7</th>\n      <td>S3</td>\n      <td>R2</td>\n      <td>3.0</td>\n    </tr>\n    <tr>\n      <th>8</th>\n      <td>S3</td>\n      <td>R3</td>\n      <td>3.2</td>\n    </tr>\n    <tr>\n      <th>9</th>\n      <td>S4</td>\n      <td>R1</td>\n      <td>4.4</td>\n    </tr>\n    <tr>\n      <th>10</th>\n      <td>S4</td>\n      <td>R2</td>\n      <td>4.5</td>\n    </tr>\n    <tr>\n      <th>11</th>\n      <td>S4</td>\n      <td>R3</td>\n      <td>4.4</td>\n    </tr>\n    <tr>\n      <th>12</th>\n      <td>S5</td>\n      <td>R1</td>\n      <td>5.2</td>\n    </tr>\n    <tr>\n      <th>13</th>\n      <td>S5</td>\n      <td>R2</td>\n      <td>5.1</td>\n    </tr>\n    <tr>\n      <th>14</th>\n      <td>S5</td>\n      <td>R3</td>\n      <td>5.3</td>\n    </tr>\n  </tbody>\n</table>\n</div>"
     },
     "execution_count": 8,
     "metadata": {},
     "output_type": "execute_result"
    }
   ],
   "source": [
    "# Convert the data into a pandas DataFrame\n",
    "df = pd.DataFrame(data)\n",
    "df"
   ],
   "metadata": {
    "collapsed": false,
    "ExecuteTime": {
     "end_time": "2024-04-02T09:23:22.421286Z",
     "start_time": "2024-04-02T09:23:22.414182Z"
    }
   },
   "id": "e78cd4d2e1963dfa",
   "execution_count": 8
  },
  {
   "cell_type": "code",
   "outputs": [
    {
     "name": "stdout",
     "output_type": "stream",
     "text": [
      "    Type              Description    ICC         F  df1  df2  pval  \\\n",
      "0   ICC1   Single raters absolute  0.997  1052.136    4   10   0.0   \n",
      "1   ICC2     Single random raters  0.997  1361.588    4    8   0.0   \n",
      "2   ICC3      Single fixed raters  0.998  1361.588    4    8   0.0   \n",
      "3  ICC1k  Average raters absolute  0.999  1052.136    4   10   0.0   \n",
      "4  ICC2k    Average random raters  0.999  1361.588    4    8   0.0   \n",
      "5  ICC3k     Average fixed raters  0.999  1361.588    4    8   0.0   \n",
      "\n",
      "         CI95%  \n",
      "0  [0.99, 1.0]  \n",
      "1  [0.99, 1.0]  \n",
      "2  [0.99, 1.0]  \n",
      "3   [1.0, 1.0]  \n",
      "4   [1.0, 1.0]  \n",
      "5   [1.0, 1.0]  \n"
     ]
    }
   ],
   "source": [
    "# Calculate the ICC\n",
    "icc = pg.intraclass_corr(data=df, targets='Subject', raters='Rater', ratings='Measurement').round(3)\n",
    "\n",
    "# Print the ICC result\n",
    "print(icc)"
   ],
   "metadata": {
    "collapsed": false,
    "ExecuteTime": {
     "end_time": "2024-04-02T09:23:48.571717Z",
     "start_time": "2024-04-02T09:23:48.544482Z"
    }
   },
   "id": "27f83a19cbe383b7",
   "execution_count": 9
  },
  {
   "cell_type": "code",
   "outputs": [
    {
     "data": {
      "text/plain": "               sum_sq   df            F        PR(>F)\nC(Subject)  30.862667  4.0  1361.588235  2.311251e-11\nC(Rater)     0.028000  2.0     2.470588  1.460377e-01\nResidual     0.045333  8.0          NaN           NaN",
      "text/html": "<div>\n<style scoped>\n    .dataframe tbody tr th:only-of-type {\n        vertical-align: middle;\n    }\n\n    .dataframe tbody tr th {\n        vertical-align: top;\n    }\n\n    .dataframe thead th {\n        text-align: right;\n    }\n</style>\n<table border=\"1\" class=\"dataframe\">\n  <thead>\n    <tr style=\"text-align: right;\">\n      <th></th>\n      <th>sum_sq</th>\n      <th>df</th>\n      <th>F</th>\n      <th>PR(&gt;F)</th>\n    </tr>\n  </thead>\n  <tbody>\n    <tr>\n      <th>C(Subject)</th>\n      <td>30.862667</td>\n      <td>4.0</td>\n      <td>1361.588235</td>\n      <td>2.311251e-11</td>\n    </tr>\n    <tr>\n      <th>C(Rater)</th>\n      <td>0.028000</td>\n      <td>2.0</td>\n      <td>2.470588</td>\n      <td>1.460377e-01</td>\n    </tr>\n    <tr>\n      <th>Residual</th>\n      <td>0.045333</td>\n      <td>8.0</td>\n      <td>NaN</td>\n      <td>NaN</td>\n    </tr>\n  </tbody>\n</table>\n</div>"
     },
     "execution_count": 11,
     "metadata": {},
     "output_type": "execute_result"
    }
   ],
   "source": [
    "import statsmodels.api as sm\n",
    "from statsmodels.formula.api import ols\n",
    "\n",
    "model = ols('Measurement ~ C(Subject) + C(Rater)', data=df).fit()\n",
    "anova_table = sm.stats.anova_lm(model, typ=2)\n",
    "anova_table"
   ],
   "metadata": {
    "collapsed": false,
    "ExecuteTime": {
     "end_time": "2024-04-02T11:41:22.663054Z",
     "start_time": "2024-04-02T11:41:22.480244Z"
    }
   },
   "id": "c9b42938d6239251",
   "execution_count": 11
  }
 ],
 "metadata": {
  "kernelspec": {
   "display_name": "Python 3",
   "language": "python",
   "name": "python3"
  },
  "language_info": {
   "codemirror_mode": {
    "name": "ipython",
    "version": 2
   },
   "file_extension": ".py",
   "mimetype": "text/x-python",
   "name": "python",
   "nbconvert_exporter": "python",
   "pygments_lexer": "ipython2",
   "version": "2.7.6"
  }
 },
 "nbformat": 4,
 "nbformat_minor": 5
}
