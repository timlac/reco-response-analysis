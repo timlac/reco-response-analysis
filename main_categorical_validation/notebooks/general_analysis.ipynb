{
 "cells": [
  {
   "cell_type": "code",
   "execution_count": 1,
   "id": "initial_id",
   "metadata": {
    "collapsed": true,
    "ExecuteTime": {
     "end_time": "2023-09-29T16:11:51.630923761Z",
     "start_time": "2023-09-29T16:11:51.586593140Z"
    }
   },
   "source": [
    "import matplotlib\n",
    "import pandas as pd\n",
    "import json\n",
    "from sklearn.metrics import classification_report\n",
    "from sklearn.metrics import confusion_matrix\n",
    "import numpy as np\n",
    "import seaborn as sns\n",
    "import matplotlib.pyplot as plt"
   ],
   "outputs": []
  },
  {
   "cell_type": "markdown",
   "source": [
    "# General Analysis\n",
    "\n",
    "Data gathered in the pilot study is included in the analysis.\n",
    "\n",
    "TL;DR: \n",
    "- Overall accuracy is 0.36.\n",
    "- Accuracy for negative emotions is 0.38\n",
    "- Accuracy for positive emotions is 0.35\n"
   ],
   "metadata": {
    "collapsed": false
   },
   "id": "9d5f7aa3439c7b93"
  },
  {
   "cell_type": "code",
   "execution_count": 2,
   "source": [
    "from py_sentimotion_mapper.sentimotion_mapper import Mapper\n",
    "from coding_interpreter.metadata import Metadata"
   ],
   "metadata": {
    "collapsed": false,
    "ExecuteTime": {
     "end_time": "2023-09-29T16:11:51.667657543Z",
     "start_time": "2023-09-29T16:11:51.630694894Z"
    }
   },
   "id": "e7d66fc642028097",
   "outputs": []
  },
  {
   "cell_type": "code",
   "execution_count": 3,
   "source": [
    "Mapper._load_data_if_needed()"
   ],
   "metadata": {
    "collapsed": false,
    "ExecuteTime": {
     "end_time": "2023-09-29T16:11:51.677178346Z",
     "start_time": "2023-09-29T16:11:51.669047354Z"
    }
   },
   "id": "c267cabd2d7c836b",
   "outputs": []
  },
  {
   "cell_type": "code",
   "execution_count": 4,
   "source": [
    "df = pd.read_csv(\"data/completed_export.csv\")\n",
    "df"
   ],
   "metadata": {
    "collapsed": false,
    "ExecuteTime": {
     "end_time": "2023-09-29T16:11:51.759333473Z",
     "start_time": "2023-09-29T16:11:51.672288040Z"
    }
   },
   "id": "6f5d6ba832408f6e",
   "outputs": []
  },
  {
   "cell_type": "markdown",
   "source": [
    "## Results overview"
   ],
   "metadata": {
    "collapsed": false
   },
   "id": "5d50dc28ecbcdecd"
  },
  {
   "cell_type": "code",
   "execution_count": 5,
   "source": [
    "y_true = df[[\"emotion_id\"]]\n",
    "y_pred = df[[\"emotion_id_reply\"]]"
   ],
   "metadata": {
    "collapsed": false,
    "ExecuteTime": {
     "end_time": "2023-09-29T16:11:51.759456243Z",
     "start_time": "2023-09-29T16:11:51.758831891Z"
    }
   },
   "id": "6314fb9feb61d3b2",
   "outputs": []
  },
  {
   "cell_type": "code",
   "execution_count": 6,
   "source": [
    "report = classification_report(y_true, y_pred,\n",
    "                               target_names=Mapper.emotion_id_to_emotion.values())\n",
    "\n",
    "print(report)"
   ],
   "metadata": {
    "collapsed": false,
    "ExecuteTime": {
     "end_time": "2023-09-29T16:11:51.821324322Z",
     "start_time": "2023-09-29T16:11:51.758902036Z"
    }
   },
   "id": "53ef8817865e06cb",
   "outputs": []
  },
  {
   "cell_type": "code",
   "execution_count": 7,
   "source": [
    "conf_matrix = confusion_matrix(y_true, y_pred, normalize=\"true\")\n",
    "\n",
    "emotion_ids = np.unique(y_true)\n",
    "emotion_names = Mapper.get_emotion_from_id(emotion_ids)\n",
    "df_cm = pd.DataFrame(conf_matrix, list(emotion_names), list(emotion_names))\n",
    "\n",
    "\n",
    "plt.figure(figsize=(20, 15))\n",
    "sns.heatmap(df_cm, cmap=\"Blues\", annot=True, fmt=\".1f\")\n",
    "plt.xlabel(\"Predicted\")\n",
    "plt.ylabel(\"Actual\")\n",
    "plt.show()"
   ],
   "metadata": {
    "collapsed": false,
    "ExecuteTime": {
     "end_time": "2023-09-29T16:11:53.476475999Z",
     "start_time": "2023-09-29T16:11:51.802700536Z"
    }
   },
   "id": "1d02e125aae150d0",
   "outputs": []
  },
  {
   "cell_type": "markdown",
   "source": [
    "## Separating negative and positive emotions"
   ],
   "metadata": {
    "collapsed": false
   },
   "id": "4b277c21f82610c3"
  },
  {
   "cell_type": "markdown",
   "source": [
    "### Negative Emotions"
   ],
   "metadata": {
    "collapsed": false
   },
   "id": "b9f7a24d00fc971c"
  },
  {
   "cell_type": "code",
   "execution_count": 8,
   "source": [
    "negative_emotions = []\n",
    "for key, val in Mapper.emotion_to_valence.items():\n",
    "    if val == \"neg\" or val == \"neu\":\n",
    "        negative_emotions.append(key)"
   ],
   "metadata": {
    "collapsed": false,
    "ExecuteTime": {
     "end_time": "2023-09-29T16:11:53.477129787Z",
     "start_time": "2023-09-29T16:11:53.475138903Z"
    }
   },
   "id": "63260db8102f5235",
   "outputs": []
  },
  {
   "cell_type": "code",
   "execution_count": 9,
   "source": [
    "neg_df = df[df['valence'] == 'neg']\n",
    "y_true = neg_df[[\"emotion_id\"]]\n",
    "y_pred = neg_df[[\"emotion_id_reply\"]]\n",
    "\n",
    "report = classification_report(y_true, y_pred,\n",
    "                               target_names=negative_emotions)\n",
    "\n",
    "print(report)"
   ],
   "metadata": {
    "collapsed": false,
    "ExecuteTime": {
     "end_time": "2023-09-29T16:11:53.775061005Z",
     "start_time": "2023-09-29T16:11:53.477316905Z"
    }
   },
   "id": "8eeeafd360fec79d",
   "outputs": []
  },
  {
   "cell_type": "code",
   "execution_count": 10,
   "source": [
    "conf_matrix = confusion_matrix(y_true, y_pred, normalize=\"true\")\n",
    "\n",
    "emotion_ids = np.unique(y_true)\n",
    "emotion_names = Mapper.get_emotion_from_id(emotion_ids)\n",
    "df_cm = pd.DataFrame(conf_matrix, list(emotion_names), list(emotion_names))\n",
    "\n",
    "plt.figure(figsize=(12, 10))\n",
    "sns.heatmap(df_cm, cmap=\"Blues\", annot=True, fmt=\".1f\", annot_kws={\"size\": 8})\n",
    "plt.xlabel(\"Predicted\")\n",
    "plt.ylabel(\"Actual\")\n",
    "plt.show()"
   ],
   "metadata": {
    "collapsed": false,
    "ExecuteTime": {
     "end_time": "2023-09-29T16:11:54.155412137Z",
     "start_time": "2023-09-29T16:11:53.529978716Z"
    }
   },
   "id": "d78833b77da686f8",
   "outputs": []
  },
  {
   "cell_type": "markdown",
   "source": [
    "### Positive Emotions"
   ],
   "metadata": {
    "collapsed": false
   },
   "id": "97d39bb3cdbae8a5"
  },
  {
   "cell_type": "code",
   "execution_count": 11,
   "source": [
    "positive_emotions = []\n",
    "for key, val in Mapper.emotion_to_valence.items():\n",
    "    if val == \"pos\" or val == \"neu\":\n",
    "        positive_emotions.append(key)"
   ],
   "metadata": {
    "collapsed": false,
    "ExecuteTime": {
     "end_time": "2023-09-29T16:11:54.159107016Z",
     "start_time": "2023-09-29T16:11:54.156541481Z"
    }
   },
   "id": "b5041290e76360a3",
   "outputs": []
  },
  {
   "cell_type": "code",
   "execution_count": 12,
   "source": [
    "pos_df = df[df['valence'] == 'pos']\n",
    "y_true = pos_df[[\"emotion_id\"]]\n",
    "y_pred = pos_df[[\"emotion_id_reply\"]]\n",
    "\n",
    "report = classification_report(y_true, y_pred,\n",
    "                               target_names=positive_emotions)\n",
    "\n",
    "print(report)"
   ],
   "metadata": {
    "collapsed": false,
    "ExecuteTime": {
     "end_time": "2023-09-29T16:11:54.260930624Z",
     "start_time": "2023-09-29T16:11:54.159181217Z"
    }
   },
   "id": "65fc259a61cf2f5c",
   "outputs": []
  },
  {
   "cell_type": "code",
   "execution_count": 13,
   "source": [
    "conf_matrix = confusion_matrix(y_true, y_pred, normalize=\"true\")\n",
    "\n",
    "emotion_ids = np.unique(y_true)\n",
    "emotion_names = Mapper.get_emotion_from_id(emotion_ids)\n",
    "df_cm = pd.DataFrame(conf_matrix, list(emotion_names), list(emotion_names))\n",
    "\n",
    "plt.figure(figsize=(12, 10))\n",
    "sns.heatmap(df_cm, cmap=\"Blues\", annot=True, fmt=\".1f\", annot_kws={\"size\": 8})\n",
    "plt.xlabel(\"Predicted\")\n",
    "plt.ylabel(\"Actual\")\n",
    "plt.show()"
   ],
   "metadata": {
    "collapsed": false,
    "ExecuteTime": {
     "end_time": "2023-09-29T16:11:54.804958333Z",
     "start_time": "2023-09-29T16:11:54.209726473Z"
    }
   },
   "id": "dbfa44717b5fdaca",
   "outputs": []
  }
 ],
 "metadata": {
  "kernelspec": {
   "display_name": "Python 3",
   "language": "python",
   "name": "python3"
  },
  "language_info": {
   "codemirror_mode": {
    "name": "ipython",
    "version": 2
   },
   "file_extension": ".py",
   "mimetype": "text/x-python",
   "name": "python",
   "nbconvert_exporter": "python",
   "pygments_lexer": "ipython2",
   "version": "2.7.6"
  }
 },
 "nbformat": 4,
 "nbformat_minor": 5
}
