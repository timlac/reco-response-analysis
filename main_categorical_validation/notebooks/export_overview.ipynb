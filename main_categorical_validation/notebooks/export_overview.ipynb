{
 "cells": [
  {
   "cell_type": "code",
   "execution_count": 1,
   "id": "initial_id",
   "metadata": {
    "collapsed": true,
    "ExecuteTime": {
     "end_time": "2023-09-29T16:12:39.591064407Z",
     "start_time": "2023-09-29T16:12:39.547803865Z"
    }
   },
   "outputs": [],
   "source": [
    "import pandas as pd\n",
    "import json"
   ]
  },
  {
   "cell_type": "code",
   "execution_count": 2,
   "outputs": [],
   "source": [
    "from nexa_preprocessing.utils.time_series_operations import slice_by"
   ],
   "metadata": {
    "collapsed": false,
    "ExecuteTime": {
     "end_time": "2023-09-29T16:12:39.591226346Z",
     "start_time": "2023-09-29T16:12:39.590776025Z"
    }
   },
   "id": "dca80316bab1dbca"
  },
  {
   "cell_type": "markdown",
   "source": [
    "## Data filtration\n",
    "\n",
    "Load full export from database and filter on completed aliases and metadata"
   ],
   "metadata": {
    "collapsed": false
   },
   "id": "e1b06f328c019df7"
  },
  {
   "cell_type": "code",
   "execution_count": 3,
   "outputs": [
    {
     "data": {
      "text/plain": "             filename                             alias  emotion_id valence  \\\n0        A102_bor_p_3  0190feb305e543098d8b643e190bef34          26     neg   \n1       A102_cont_p_2  0190feb305e543098d8b643e190bef34          32     neg   \n2       A102_cont_v_2  0190feb305e543098d8b643e190bef34          32     neg   \n3        A102_dou_p_3  0190feb305e543098d8b643e190bef34           3     neg   \n4        A200_anx_v_2  0190feb305e543098d8b643e190bef34          34     neg   \n...               ...                               ...         ...     ...   \n164995    A91_amu_p_3  ebef64132b5848809b54b7aa1726b446          13     pos   \n164996    A91_det_p_2  ebef64132b5848809b54b7aa1726b446           2     pos   \n164997    A91_ele_p_2  ebef64132b5848809b54b7aa1726b446           8     pos   \n164998    A91_ple_p_3  ebef64132b5848809b54b7aa1726b446          23     pos   \n164999    A91_ple_v_2  ebef64132b5848809b54b7aa1726b446          23     pos   \n\n        set_number video_id  emotion_id_reply  \\\n0                1     A102              1000   \n1                1     A102              1000   \n2                1     A102              1000   \n3                1     A102              1000   \n4                1     A200              1000   \n...            ...      ...               ...   \n164995           1      A91              1000   \n164996           1      A91              1000   \n164997           1      A91              1000   \n164998           1      A91              1000   \n164999           1      A91              1000   \n\n                                          emotion_options  randomization_id  \\\n0       ['32', '34', '11', '43', '22', '31', '3', '35'...               172   \n1       ['32', '34', '11', '43', '22', '31', '3', '35'...               172   \n2       ['32', '34', '11', '43', '22', '31', '3', '35'...               172   \n3       ['32', '34', '11', '43', '22', '31', '3', '35'...               172   \n4       ['32', '34', '11', '43', '22', '31', '3', '35'...               172   \n...                                                   ...               ...   \n164995  ['16', '5', '9', '36', '42', '8', '2', '25', '...                56   \n164996  ['16', '5', '9', '36', '42', '8', '2', '25', '...                56   \n164997  ['16', '5', '9', '36', '42', '8', '2', '25', '...                56   \n164998  ['16', '5', '9', '36', '42', '8', '2', '25', '...                56   \n164999  ['16', '5', '9', '36', '42', '8', '2', '25', '...                56   \n\n        processed_status  \n0                      0  \n1                      0  \n2                      0  \n3                      0  \n4                      0  \n...                  ...  \n164995                 0  \n164996                 0  \n164997                 0  \n164998                 0  \n164999                 0  \n\n[165000 rows x 10 columns]",
      "text/html": "<div>\n<style scoped>\n    .dataframe tbody tr th:only-of-type {\n        vertical-align: middle;\n    }\n\n    .dataframe tbody tr th {\n        vertical-align: top;\n    }\n\n    .dataframe thead th {\n        text-align: right;\n    }\n</style>\n<table border=\"1\" class=\"dataframe\">\n  <thead>\n    <tr style=\"text-align: right;\">\n      <th></th>\n      <th>filename</th>\n      <th>alias</th>\n      <th>emotion_id</th>\n      <th>valence</th>\n      <th>set_number</th>\n      <th>video_id</th>\n      <th>emotion_id_reply</th>\n      <th>emotion_options</th>\n      <th>randomization_id</th>\n      <th>processed_status</th>\n    </tr>\n  </thead>\n  <tbody>\n    <tr>\n      <th>0</th>\n      <td>A102_bor_p_3</td>\n      <td>0190feb305e543098d8b643e190bef34</td>\n      <td>26</td>\n      <td>neg</td>\n      <td>1</td>\n      <td>A102</td>\n      <td>1000</td>\n      <td>['32', '34', '11', '43', '22', '31', '3', '35'...</td>\n      <td>172</td>\n      <td>0</td>\n    </tr>\n    <tr>\n      <th>1</th>\n      <td>A102_cont_p_2</td>\n      <td>0190feb305e543098d8b643e190bef34</td>\n      <td>32</td>\n      <td>neg</td>\n      <td>1</td>\n      <td>A102</td>\n      <td>1000</td>\n      <td>['32', '34', '11', '43', '22', '31', '3', '35'...</td>\n      <td>172</td>\n      <td>0</td>\n    </tr>\n    <tr>\n      <th>2</th>\n      <td>A102_cont_v_2</td>\n      <td>0190feb305e543098d8b643e190bef34</td>\n      <td>32</td>\n      <td>neg</td>\n      <td>1</td>\n      <td>A102</td>\n      <td>1000</td>\n      <td>['32', '34', '11', '43', '22', '31', '3', '35'...</td>\n      <td>172</td>\n      <td>0</td>\n    </tr>\n    <tr>\n      <th>3</th>\n      <td>A102_dou_p_3</td>\n      <td>0190feb305e543098d8b643e190bef34</td>\n      <td>3</td>\n      <td>neg</td>\n      <td>1</td>\n      <td>A102</td>\n      <td>1000</td>\n      <td>['32', '34', '11', '43', '22', '31', '3', '35'...</td>\n      <td>172</td>\n      <td>0</td>\n    </tr>\n    <tr>\n      <th>4</th>\n      <td>A200_anx_v_2</td>\n      <td>0190feb305e543098d8b643e190bef34</td>\n      <td>34</td>\n      <td>neg</td>\n      <td>1</td>\n      <td>A200</td>\n      <td>1000</td>\n      <td>['32', '34', '11', '43', '22', '31', '3', '35'...</td>\n      <td>172</td>\n      <td>0</td>\n    </tr>\n    <tr>\n      <th>...</th>\n      <td>...</td>\n      <td>...</td>\n      <td>...</td>\n      <td>...</td>\n      <td>...</td>\n      <td>...</td>\n      <td>...</td>\n      <td>...</td>\n      <td>...</td>\n      <td>...</td>\n    </tr>\n    <tr>\n      <th>164995</th>\n      <td>A91_amu_p_3</td>\n      <td>ebef64132b5848809b54b7aa1726b446</td>\n      <td>13</td>\n      <td>pos</td>\n      <td>1</td>\n      <td>A91</td>\n      <td>1000</td>\n      <td>['16', '5', '9', '36', '42', '8', '2', '25', '...</td>\n      <td>56</td>\n      <td>0</td>\n    </tr>\n    <tr>\n      <th>164996</th>\n      <td>A91_det_p_2</td>\n      <td>ebef64132b5848809b54b7aa1726b446</td>\n      <td>2</td>\n      <td>pos</td>\n      <td>1</td>\n      <td>A91</td>\n      <td>1000</td>\n      <td>['16', '5', '9', '36', '42', '8', '2', '25', '...</td>\n      <td>56</td>\n      <td>0</td>\n    </tr>\n    <tr>\n      <th>164997</th>\n      <td>A91_ele_p_2</td>\n      <td>ebef64132b5848809b54b7aa1726b446</td>\n      <td>8</td>\n      <td>pos</td>\n      <td>1</td>\n      <td>A91</td>\n      <td>1000</td>\n      <td>['16', '5', '9', '36', '42', '8', '2', '25', '...</td>\n      <td>56</td>\n      <td>0</td>\n    </tr>\n    <tr>\n      <th>164998</th>\n      <td>A91_ple_p_3</td>\n      <td>ebef64132b5848809b54b7aa1726b446</td>\n      <td>23</td>\n      <td>pos</td>\n      <td>1</td>\n      <td>A91</td>\n      <td>1000</td>\n      <td>['16', '5', '9', '36', '42', '8', '2', '25', '...</td>\n      <td>56</td>\n      <td>0</td>\n    </tr>\n    <tr>\n      <th>164999</th>\n      <td>A91_ple_v_2</td>\n      <td>ebef64132b5848809b54b7aa1726b446</td>\n      <td>23</td>\n      <td>pos</td>\n      <td>1</td>\n      <td>A91</td>\n      <td>1000</td>\n      <td>['16', '5', '9', '36', '42', '8', '2', '25', '...</td>\n      <td>56</td>\n      <td>0</td>\n    </tr>\n  </tbody>\n</table>\n<p>165000 rows × 10 columns</p>\n</div>"
     },
     "execution_count": 3,
     "metadata": {},
     "output_type": "execute_result"
    }
   ],
   "source": [
    "df = pd.read_csv(\"data/full_export.csv\")\n",
    "df"
   ],
   "metadata": {
    "collapsed": false,
    "ExecuteTime": {
     "end_time": "2023-09-29T16:12:39.740204688Z",
     "start_time": "2023-09-29T16:12:39.590834723Z"
    }
   },
   "id": "cda4b2987311bc29"
  },
  {
   "cell_type": "code",
   "execution_count": 4,
   "outputs": [
    {
     "data": {
      "text/plain": "1250"
     },
     "execution_count": 4,
     "metadata": {},
     "output_type": "execute_result"
    }
   ],
   "source": [
    "slices = slice_by(df, \"alias\")\n",
    "len(slices)"
   ],
   "metadata": {
    "collapsed": false,
    "ExecuteTime": {
     "end_time": "2023-09-29T16:12:39.788795017Z",
     "start_time": "2023-09-29T16:12:39.722780421Z"
    }
   },
   "id": "2943b250a6fc07b0"
  },
  {
   "cell_type": "code",
   "execution_count": 5,
   "outputs": [],
   "source": [
    "complete_aliases = []\n",
    "incomplete_aliases = []\n",
    "\n",
    "for s in slices:\n",
    "    all_rows_equal_1000 = (s['emotion_id_reply'] == 1000).all()\n",
    "    if not all_rows_equal_1000:\n",
    "        has_emotion_id_1000 = (s['emotion_id_reply'] == 1000).any()\n",
    "        if has_emotion_id_1000:\n",
    "            incomplete_aliases.append(s)\n",
    "        else:\n",
    "            complete_aliases.append(s)"
   ],
   "metadata": {
    "collapsed": false,
    "ExecuteTime": {
     "end_time": "2023-09-29T16:12:39.886475135Z",
     "start_time": "2023-09-29T16:12:39.823504587Z"
    }
   },
   "id": "efece1fac4f8f53f"
  },
  {
   "cell_type": "code",
   "execution_count": 6,
   "outputs": [
    {
     "data": {
      "text/plain": "275"
     },
     "execution_count": 6,
     "metadata": {},
     "output_type": "execute_result"
    }
   ],
   "source": [
    "len(complete_aliases)"
   ],
   "metadata": {
    "collapsed": false,
    "ExecuteTime": {
     "end_time": "2023-09-29T16:12:39.934998259Z",
     "start_time": "2023-09-29T16:12:39.887642768Z"
    }
   },
   "id": "a299de20bada8709"
  },
  {
   "cell_type": "code",
   "execution_count": 7,
   "outputs": [
    {
     "data": {
      "text/plain": "10"
     },
     "execution_count": 7,
     "metadata": {},
     "output_type": "execute_result"
    }
   ],
   "source": [
    "len(incomplete_aliases)"
   ],
   "metadata": {
    "collapsed": false,
    "ExecuteTime": {
     "end_time": "2023-09-29T16:12:39.935141397Z",
     "start_time": "2023-09-29T16:12:39.934790276Z"
    }
   },
   "id": "1bc7140a414fddee"
  },
  {
   "cell_type": "code",
   "execution_count": 8,
   "outputs": [],
   "source": [
    "# Specify the path to your JSON file\n",
    "meta_file_path = \"data/meta.json\"\n",
    "\n",
    "# Open and read the JSON file\n",
    "with open(meta_file_path, 'r') as json_file:\n",
    "    # Load the JSON data into a Python dictionary\n",
    "    data_dict = json.load(json_file)"
   ],
   "metadata": {
    "collapsed": false,
    "ExecuteTime": {
     "end_time": "2023-09-29T16:12:39.935177978Z",
     "start_time": "2023-09-29T16:12:39.934843785Z"
    }
   },
   "id": "5eee839089783187"
  },
  {
   "cell_type": "code",
   "execution_count": 9,
   "outputs": [],
   "source": [
    "filtered_aliases = []\n",
    "for s in complete_aliases:\n",
    "    if s[\"alias\"].isin(data_dict).any():\n",
    "        filtered_aliases.append(s)"
   ],
   "metadata": {
    "collapsed": false,
    "ExecuteTime": {
     "end_time": "2023-09-29T16:12:39.935201289Z",
     "start_time": "2023-09-29T16:12:39.934860398Z"
    }
   },
   "id": "d146ca44ae78e7ec"
  },
  {
   "cell_type": "code",
   "execution_count": 10,
   "outputs": [
    {
     "data": {
      "text/plain": "265"
     },
     "execution_count": 10,
     "metadata": {},
     "output_type": "execute_result"
    }
   ],
   "source": [
    "len(filtered_aliases)"
   ],
   "metadata": {
    "collapsed": false,
    "ExecuteTime": {
     "end_time": "2023-09-29T16:12:39.935468356Z",
     "start_time": "2023-09-29T16:12:39.934874189Z"
    }
   },
   "id": "680ce862f58bdcfd"
  },
  {
   "cell_type": "code",
   "execution_count": 11,
   "outputs": [
    {
     "data": {
      "text/plain": "           filename                             alias  emotion_id valence  \\\n0      A102_emb_p_2  0010541301574d33a41c542299f184a6          39     neg   \n1      A102_fea_p_2  0010541301574d33a41c542299f184a6          10     neg   \n2      A102_rej_p_3  0010541301574d33a41c542299f184a6          14     neg   \n3      A102_sad_p_3  0010541301574d33a41c542299f184a6           6     neg   \n4      A102_sha_v_2  0010541301574d33a41c542299f184a6          43     neg   \n...             ...                               ...         ...     ...   \n34975   A72_rej_p_3  ff807190c01845fa827a02d5e23ed14c          14     neg   \n34976   A91_anx_p_3  ff807190c01845fa827a02d5e23ed14c          34     neg   \n34977  A91_conf_p_3  ff807190c01845fa827a02d5e23ed14c           1     neg   \n34978  A91_disa_v_3  ff807190c01845fa827a02d5e23ed14c          37     neg   \n34979  A91_scha_v_2  ff807190c01845fa827a02d5e23ed14c          15     neg   \n\n       set_number video_id  emotion_id_reply  \\\n0               0     A102                40   \n1               0     A102                32   \n2               0     A102                14   \n3               0     A102                43   \n4               0     A102                39   \n...           ...      ...               ...   \n34975           0      A72                 1   \n34976           0      A91                 3   \n34977           0      A91                 3   \n34978           0      A91                34   \n34979           0      A91                39   \n\n                                         emotion_options  randomization_id  \\\n0      ['40', '43', '14', '10', '39', '22', '32', '6'...               161   \n1      ['40', '43', '14', '10', '39', '22', '32', '6'...               161   \n2      ['40', '43', '14', '10', '39', '22', '32', '6'...               161   \n3      ['40', '43', '14', '10', '39', '22', '32', '6'...               161   \n4      ['40', '43', '14', '10', '39', '22', '32', '6'...               161   \n...                                                  ...               ...   \n34975  ['34', '14', '39', '11', '12', '43', '37', '3'...               127   \n34976  ['34', '14', '39', '11', '12', '43', '37', '3'...               127   \n34977  ['34', '14', '39', '11', '12', '43', '37', '3'...               127   \n34978  ['34', '14', '39', '11', '12', '43', '37', '3'...               127   \n34979  ['34', '14', '39', '11', '12', '43', '37', '3'...               127   \n\n       processed_status  \n0                     1  \n1                     1  \n2                     1  \n3                     1  \n4                     1  \n...                 ...  \n34975                 1  \n34976                 1  \n34977                 1  \n34978                 1  \n34979                 1  \n\n[34980 rows x 10 columns]",
      "text/html": "<div>\n<style scoped>\n    .dataframe tbody tr th:only-of-type {\n        vertical-align: middle;\n    }\n\n    .dataframe tbody tr th {\n        vertical-align: top;\n    }\n\n    .dataframe thead th {\n        text-align: right;\n    }\n</style>\n<table border=\"1\" class=\"dataframe\">\n  <thead>\n    <tr style=\"text-align: right;\">\n      <th></th>\n      <th>filename</th>\n      <th>alias</th>\n      <th>emotion_id</th>\n      <th>valence</th>\n      <th>set_number</th>\n      <th>video_id</th>\n      <th>emotion_id_reply</th>\n      <th>emotion_options</th>\n      <th>randomization_id</th>\n      <th>processed_status</th>\n    </tr>\n  </thead>\n  <tbody>\n    <tr>\n      <th>0</th>\n      <td>A102_emb_p_2</td>\n      <td>0010541301574d33a41c542299f184a6</td>\n      <td>39</td>\n      <td>neg</td>\n      <td>0</td>\n      <td>A102</td>\n      <td>40</td>\n      <td>['40', '43', '14', '10', '39', '22', '32', '6'...</td>\n      <td>161</td>\n      <td>1</td>\n    </tr>\n    <tr>\n      <th>1</th>\n      <td>A102_fea_p_2</td>\n      <td>0010541301574d33a41c542299f184a6</td>\n      <td>10</td>\n      <td>neg</td>\n      <td>0</td>\n      <td>A102</td>\n      <td>32</td>\n      <td>['40', '43', '14', '10', '39', '22', '32', '6'...</td>\n      <td>161</td>\n      <td>1</td>\n    </tr>\n    <tr>\n      <th>2</th>\n      <td>A102_rej_p_3</td>\n      <td>0010541301574d33a41c542299f184a6</td>\n      <td>14</td>\n      <td>neg</td>\n      <td>0</td>\n      <td>A102</td>\n      <td>14</td>\n      <td>['40', '43', '14', '10', '39', '22', '32', '6'...</td>\n      <td>161</td>\n      <td>1</td>\n    </tr>\n    <tr>\n      <th>3</th>\n      <td>A102_sad_p_3</td>\n      <td>0010541301574d33a41c542299f184a6</td>\n      <td>6</td>\n      <td>neg</td>\n      <td>0</td>\n      <td>A102</td>\n      <td>43</td>\n      <td>['40', '43', '14', '10', '39', '22', '32', '6'...</td>\n      <td>161</td>\n      <td>1</td>\n    </tr>\n    <tr>\n      <th>4</th>\n      <td>A102_sha_v_2</td>\n      <td>0010541301574d33a41c542299f184a6</td>\n      <td>43</td>\n      <td>neg</td>\n      <td>0</td>\n      <td>A102</td>\n      <td>39</td>\n      <td>['40', '43', '14', '10', '39', '22', '32', '6'...</td>\n      <td>161</td>\n      <td>1</td>\n    </tr>\n    <tr>\n      <th>...</th>\n      <td>...</td>\n      <td>...</td>\n      <td>...</td>\n      <td>...</td>\n      <td>...</td>\n      <td>...</td>\n      <td>...</td>\n      <td>...</td>\n      <td>...</td>\n      <td>...</td>\n    </tr>\n    <tr>\n      <th>34975</th>\n      <td>A72_rej_p_3</td>\n      <td>ff807190c01845fa827a02d5e23ed14c</td>\n      <td>14</td>\n      <td>neg</td>\n      <td>0</td>\n      <td>A72</td>\n      <td>1</td>\n      <td>['34', '14', '39', '11', '12', '43', '37', '3'...</td>\n      <td>127</td>\n      <td>1</td>\n    </tr>\n    <tr>\n      <th>34976</th>\n      <td>A91_anx_p_3</td>\n      <td>ff807190c01845fa827a02d5e23ed14c</td>\n      <td>34</td>\n      <td>neg</td>\n      <td>0</td>\n      <td>A91</td>\n      <td>3</td>\n      <td>['34', '14', '39', '11', '12', '43', '37', '3'...</td>\n      <td>127</td>\n      <td>1</td>\n    </tr>\n    <tr>\n      <th>34977</th>\n      <td>A91_conf_p_3</td>\n      <td>ff807190c01845fa827a02d5e23ed14c</td>\n      <td>1</td>\n      <td>neg</td>\n      <td>0</td>\n      <td>A91</td>\n      <td>3</td>\n      <td>['34', '14', '39', '11', '12', '43', '37', '3'...</td>\n      <td>127</td>\n      <td>1</td>\n    </tr>\n    <tr>\n      <th>34978</th>\n      <td>A91_disa_v_3</td>\n      <td>ff807190c01845fa827a02d5e23ed14c</td>\n      <td>37</td>\n      <td>neg</td>\n      <td>0</td>\n      <td>A91</td>\n      <td>34</td>\n      <td>['34', '14', '39', '11', '12', '43', '37', '3'...</td>\n      <td>127</td>\n      <td>1</td>\n    </tr>\n    <tr>\n      <th>34979</th>\n      <td>A91_scha_v_2</td>\n      <td>ff807190c01845fa827a02d5e23ed14c</td>\n      <td>15</td>\n      <td>neg</td>\n      <td>0</td>\n      <td>A91</td>\n      <td>39</td>\n      <td>['34', '14', '39', '11', '12', '43', '37', '3'...</td>\n      <td>127</td>\n      <td>1</td>\n    </tr>\n  </tbody>\n</table>\n<p>34980 rows × 10 columns</p>\n</div>"
     },
     "execution_count": 11,
     "metadata": {},
     "output_type": "execute_result"
    }
   ],
   "source": [
    "df = pd.concat(filtered_aliases, ignore_index=True)\n",
    "df"
   ],
   "metadata": {
    "collapsed": false,
    "ExecuteTime": {
     "end_time": "2023-09-29T16:12:40.017336889Z",
     "start_time": "2023-09-29T16:12:39.934890920Z"
    }
   },
   "id": "fac5fe29e17c9b3d"
  }
 ],
 "metadata": {
  "kernelspec": {
   "display_name": "Python 3",
   "language": "python",
   "name": "python3"
  },
  "language_info": {
   "codemirror_mode": {
    "name": "ipython",
    "version": 2
   },
   "file_extension": ".py",
   "mimetype": "text/x-python",
   "name": "python",
   "nbconvert_exporter": "python",
   "pygments_lexer": "ipython2",
   "version": "2.7.6"
  }
 },
 "nbformat": 4,
 "nbformat_minor": 5
}
