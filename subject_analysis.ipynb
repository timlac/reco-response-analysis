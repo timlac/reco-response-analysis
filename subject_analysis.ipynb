{
 "cells": [
  {
   "cell_type": "code",
   "execution_count": 243,
   "id": "initial_id",
   "metadata": {
    "collapsed": true,
    "ExecuteTime": {
     "end_time": "2023-10-12T17:22:37.787010577Z",
     "start_time": "2023-10-12T17:22:37.718677094Z"
    }
   },
   "outputs": [],
   "source": [
    "import random\n",
    "\n",
    "import json\n",
    "import pandas as pd\n",
    "import numpy as np\n",
    "import matplotlib.pyplot as plt\n",
    "import seaborn as sns\n"
   ]
  },
  {
   "cell_type": "code",
   "execution_count": 244,
   "outputs": [],
   "source": [
    "from nexa_preprocessing.utils.time_series_operations import slice_by\n",
    "from py_sentimotion_mapper.sentimotion_mapper import Mapper\n",
    "from coding_interpreter.metadata import Metadata"
   ],
   "metadata": {
    "collapsed": false,
    "ExecuteTime": {
     "end_time": "2023-10-12T17:22:37.787219428Z",
     "start_time": "2023-10-12T17:22:37.761672165Z"
    }
   },
   "id": "c9e95efdca596020"
  },
  {
   "cell_type": "code",
   "execution_count": 245,
   "outputs": [],
   "source": [
    "Mapper._load_data_if_needed()"
   ],
   "metadata": {
    "collapsed": false,
    "ExecuteTime": {
     "end_time": "2023-10-12T17:22:37.787305672Z",
     "start_time": "2023-10-12T17:22:37.761738708Z"
    }
   },
   "id": "487a19cb67727d20"
  },
  {
   "cell_type": "code",
   "execution_count": 246,
   "outputs": [
    {
     "data": {
      "text/plain": "           filename                             alias  emotion_id valence  \\\n0      A102_emb_p_2  0010541301574d33a41c542299f184a6          39     neg   \n1      A102_fea_p_2  0010541301574d33a41c542299f184a6          10     neg   \n2      A102_rej_p_3  0010541301574d33a41c542299f184a6          14     neg   \n3      A102_sad_p_3  0010541301574d33a41c542299f184a6           6     neg   \n4      A102_sha_v_2  0010541301574d33a41c542299f184a6          43     neg   \n...             ...                               ...         ...     ...   \n36295   A72_rej_p_3  ff807190c01845fa827a02d5e23ed14c          14     neg   \n36296   A91_anx_p_3  ff807190c01845fa827a02d5e23ed14c          34     neg   \n36297  A91_conf_p_3  ff807190c01845fa827a02d5e23ed14c           1     neg   \n36298  A91_disa_v_3  ff807190c01845fa827a02d5e23ed14c          37     neg   \n36299  A91_scha_v_2  ff807190c01845fa827a02d5e23ed14c          15     neg   \n\n       set_number video_id  emotion_id_reply  \\\n0               0     A102                40   \n1               0     A102                32   \n2               0     A102                14   \n3               0     A102                43   \n4               0     A102                39   \n...           ...      ...               ...   \n36295           0      A72                 1   \n36296           0      A91                 3   \n36297           0      A91                 3   \n36298           0      A91                34   \n36299           0      A91                39   \n\n                                         emotion_options  randomization_id  \\\n0      ['40', '43', '14', '10', '39', '22', '32', '6'...               161   \n1      ['40', '43', '14', '10', '39', '22', '32', '6'...               161   \n2      ['40', '43', '14', '10', '39', '22', '32', '6'...               161   \n3      ['40', '43', '14', '10', '39', '22', '32', '6'...               161   \n4      ['40', '43', '14', '10', '39', '22', '32', '6'...               161   \n...                                                  ...               ...   \n36295  ['34', '14', '39', '11', '12', '43', '37', '3'...               127   \n36296  ['34', '14', '39', '11', '12', '43', '37', '3'...               127   \n36297  ['34', '14', '39', '11', '12', '43', '37', '3'...               127   \n36298  ['34', '14', '39', '11', '12', '43', '37', '3'...               127   \n36299  ['34', '14', '39', '11', '12', '43', '37', '3'...               127   \n\n       processed_status  \n0                     1  \n1                     1  \n2                     1  \n3                     1  \n4                     1  \n...                 ...  \n36295                 1  \n36296                 1  \n36297                 1  \n36298                 1  \n36299                 1  \n\n[36300 rows x 10 columns]",
      "text/html": "<div>\n<style scoped>\n    .dataframe tbody tr th:only-of-type {\n        vertical-align: middle;\n    }\n\n    .dataframe tbody tr th {\n        vertical-align: top;\n    }\n\n    .dataframe thead th {\n        text-align: right;\n    }\n</style>\n<table border=\"1\" class=\"dataframe\">\n  <thead>\n    <tr style=\"text-align: right;\">\n      <th></th>\n      <th>filename</th>\n      <th>alias</th>\n      <th>emotion_id</th>\n      <th>valence</th>\n      <th>set_number</th>\n      <th>video_id</th>\n      <th>emotion_id_reply</th>\n      <th>emotion_options</th>\n      <th>randomization_id</th>\n      <th>processed_status</th>\n    </tr>\n  </thead>\n  <tbody>\n    <tr>\n      <th>0</th>\n      <td>A102_emb_p_2</td>\n      <td>0010541301574d33a41c542299f184a6</td>\n      <td>39</td>\n      <td>neg</td>\n      <td>0</td>\n      <td>A102</td>\n      <td>40</td>\n      <td>['40', '43', '14', '10', '39', '22', '32', '6'...</td>\n      <td>161</td>\n      <td>1</td>\n    </tr>\n    <tr>\n      <th>1</th>\n      <td>A102_fea_p_2</td>\n      <td>0010541301574d33a41c542299f184a6</td>\n      <td>10</td>\n      <td>neg</td>\n      <td>0</td>\n      <td>A102</td>\n      <td>32</td>\n      <td>['40', '43', '14', '10', '39', '22', '32', '6'...</td>\n      <td>161</td>\n      <td>1</td>\n    </tr>\n    <tr>\n      <th>2</th>\n      <td>A102_rej_p_3</td>\n      <td>0010541301574d33a41c542299f184a6</td>\n      <td>14</td>\n      <td>neg</td>\n      <td>0</td>\n      <td>A102</td>\n      <td>14</td>\n      <td>['40', '43', '14', '10', '39', '22', '32', '6'...</td>\n      <td>161</td>\n      <td>1</td>\n    </tr>\n    <tr>\n      <th>3</th>\n      <td>A102_sad_p_3</td>\n      <td>0010541301574d33a41c542299f184a6</td>\n      <td>6</td>\n      <td>neg</td>\n      <td>0</td>\n      <td>A102</td>\n      <td>43</td>\n      <td>['40', '43', '14', '10', '39', '22', '32', '6'...</td>\n      <td>161</td>\n      <td>1</td>\n    </tr>\n    <tr>\n      <th>4</th>\n      <td>A102_sha_v_2</td>\n      <td>0010541301574d33a41c542299f184a6</td>\n      <td>43</td>\n      <td>neg</td>\n      <td>0</td>\n      <td>A102</td>\n      <td>39</td>\n      <td>['40', '43', '14', '10', '39', '22', '32', '6'...</td>\n      <td>161</td>\n      <td>1</td>\n    </tr>\n    <tr>\n      <th>...</th>\n      <td>...</td>\n      <td>...</td>\n      <td>...</td>\n      <td>...</td>\n      <td>...</td>\n      <td>...</td>\n      <td>...</td>\n      <td>...</td>\n      <td>...</td>\n      <td>...</td>\n    </tr>\n    <tr>\n      <th>36295</th>\n      <td>A72_rej_p_3</td>\n      <td>ff807190c01845fa827a02d5e23ed14c</td>\n      <td>14</td>\n      <td>neg</td>\n      <td>0</td>\n      <td>A72</td>\n      <td>1</td>\n      <td>['34', '14', '39', '11', '12', '43', '37', '3'...</td>\n      <td>127</td>\n      <td>1</td>\n    </tr>\n    <tr>\n      <th>36296</th>\n      <td>A91_anx_p_3</td>\n      <td>ff807190c01845fa827a02d5e23ed14c</td>\n      <td>34</td>\n      <td>neg</td>\n      <td>0</td>\n      <td>A91</td>\n      <td>3</td>\n      <td>['34', '14', '39', '11', '12', '43', '37', '3'...</td>\n      <td>127</td>\n      <td>1</td>\n    </tr>\n    <tr>\n      <th>36297</th>\n      <td>A91_conf_p_3</td>\n      <td>ff807190c01845fa827a02d5e23ed14c</td>\n      <td>1</td>\n      <td>neg</td>\n      <td>0</td>\n      <td>A91</td>\n      <td>3</td>\n      <td>['34', '14', '39', '11', '12', '43', '37', '3'...</td>\n      <td>127</td>\n      <td>1</td>\n    </tr>\n    <tr>\n      <th>36298</th>\n      <td>A91_disa_v_3</td>\n      <td>ff807190c01845fa827a02d5e23ed14c</td>\n      <td>37</td>\n      <td>neg</td>\n      <td>0</td>\n      <td>A91</td>\n      <td>34</td>\n      <td>['34', '14', '39', '11', '12', '43', '37', '3'...</td>\n      <td>127</td>\n      <td>1</td>\n    </tr>\n    <tr>\n      <th>36299</th>\n      <td>A91_scha_v_2</td>\n      <td>ff807190c01845fa827a02d5e23ed14c</td>\n      <td>15</td>\n      <td>neg</td>\n      <td>0</td>\n      <td>A91</td>\n      <td>39</td>\n      <td>['34', '14', '39', '11', '12', '43', '37', '3'...</td>\n      <td>127</td>\n      <td>1</td>\n    </tr>\n  </tbody>\n</table>\n<p>36300 rows × 10 columns</p>\n</div>"
     },
     "execution_count": 246,
     "metadata": {},
     "output_type": "execute_result"
    }
   ],
   "source": [
    "df = pd.read_csv(\"data/completed_export.csv\")\n",
    "df"
   ],
   "metadata": {
    "collapsed": false,
    "ExecuteTime": {
     "end_time": "2023-10-12T17:22:37.787806491Z",
     "start_time": "2023-10-12T17:22:37.761764151Z"
    }
   },
   "id": "ef5a88b5cb715a30"
  },
  {
   "cell_type": "code",
   "execution_count": 247,
   "outputs": [],
   "source": [
    "# Specify the path to your JSON file\n",
    "meta_file_path = \"data/meta.json\"\n",
    "\n",
    "# Open and read the JSON file\n",
    "with open(meta_file_path, 'r') as json_file:\n",
    "    # Load the JSON data into a Python dictionary\n",
    "    data_dict = json.load(json_file)"
   ],
   "metadata": {
    "collapsed": false,
    "ExecuteTime": {
     "end_time": "2023-10-12T17:22:37.787912921Z",
     "start_time": "2023-10-12T17:22:37.761853577Z"
    }
   },
   "id": "a3b6c37de373fff1"
  },
  {
   "cell_type": "code",
   "execution_count": 248,
   "outputs": [
    {
     "name": "stderr",
     "output_type": "stream",
     "text": [
      "/tmp/ipykernel_10717/255872742.py:6: FutureWarning: Setting an item of incompatible dtype is deprecated and will raise in a future error of pandas. Value 'vs87' has dtype incompatible with float64, please explicitly cast to a compatible dtype first.\n",
      "  df.at[index, key] = value\n",
      "/tmp/ipykernel_10717/255872742.py:6: FutureWarning: Setting an item of incompatible dtype is deprecated and will raise in a future error of pandas. Value 'neg' has dtype incompatible with float64, please explicitly cast to a compatible dtype first.\n",
      "  df.at[index, key] = value\n",
      "/tmp/ipykernel_10717/255872742.py:6: FutureWarning: Setting an item of incompatible dtype is deprecated and will raise in a future error of pandas. Value 'm' has dtype incompatible with float64, please explicitly cast to a compatible dtype first.\n",
      "  df.at[index, key] = value\n"
     ]
    }
   ],
   "source": [
    "for index, row in df.iterrows():\n",
    "    alias = row['alias']\n",
    "    if alias in data_dict:\n",
    "        json_entry = data_dict[alias]\n",
    "        for key, value in json_entry.items():\n",
    "            df.at[index, key] = value"
   ],
   "metadata": {
    "collapsed": false,
    "ExecuteTime": {
     "end_time": "2023-10-12T17:22:40.252094382Z",
     "start_time": "2023-10-12T17:22:37.764081369Z"
    }
   },
   "id": "68f75e8995d30985"
  },
  {
   "cell_type": "code",
   "execution_count": 249,
   "outputs": [],
   "source": [
    "df.rename(columns={\"ID\": \"subject_id\"}, inplace=True)"
   ],
   "metadata": {
    "collapsed": false,
    "ExecuteTime": {
     "end_time": "2023-10-12T17:22:40.259837525Z",
     "start_time": "2023-10-12T17:22:40.253739776Z"
    }
   },
   "id": "637fd79c85f56d4"
  },
  {
   "cell_type": "code",
   "execution_count": 250,
   "outputs": [],
   "source": [
    "# Add a new column 'accurate' that indicates whether the answer is accurate\n",
    "df['accurate'] = df['emotion_id'] == df['emotion_id_reply']"
   ],
   "metadata": {
    "collapsed": false,
    "ExecuteTime": {
     "end_time": "2023-10-12T17:22:40.268815150Z",
     "start_time": "2023-10-12T17:22:40.255222504Z"
    }
   },
   "id": "7940469bbfffcd78"
  },
  {
   "cell_type": "code",
   "execution_count": 251,
   "outputs": [],
   "source": [
    "# df = df[df['subject_id'].notna()]\n",
    "# df['subject_id'] = df['subject_id'].astype(str)\n",
    "# # Remove the 'vs' prefix and convert to numeric values\n",
    "# df['subject_id'] = df['subject_id'].str.replace('vs', '', regex=False).astype(int)"
   ],
   "metadata": {
    "collapsed": false,
    "ExecuteTime": {
     "end_time": "2023-10-12T17:22:40.268944800Z",
     "start_time": "2023-10-12T17:22:40.266190816Z"
    }
   },
   "id": "55ef0531efeb4218"
  },
  {
   "cell_type": "code",
   "execution_count": 252,
   "outputs": [
    {
     "data": {
      "text/plain": "           filename                             alias  emotion_id valence  \\\n0      A102_emb_p_2  0010541301574d33a41c542299f184a6          39     neg   \n1      A102_fea_p_2  0010541301574d33a41c542299f184a6          10     neg   \n2      A102_rej_p_3  0010541301574d33a41c542299f184a6          14     neg   \n3      A102_sad_p_3  0010541301574d33a41c542299f184a6           6     neg   \n4      A102_sha_v_2  0010541301574d33a41c542299f184a6          43     neg   \n...             ...                               ...         ...     ...   \n36295   A72_rej_p_3  ff807190c01845fa827a02d5e23ed14c          14     neg   \n36296   A91_anx_p_3  ff807190c01845fa827a02d5e23ed14c          34     neg   \n36297  A91_conf_p_3  ff807190c01845fa827a02d5e23ed14c           1     neg   \n36298  A91_disa_v_3  ff807190c01845fa827a02d5e23ed14c          37     neg   \n36299  A91_scha_v_2  ff807190c01845fa827a02d5e23ed14c          15     neg   \n\n       set_number video_id  emotion_id_reply  \\\n0               0     A102                40   \n1               0     A102                32   \n2               0     A102                14   \n3               0     A102                43   \n4               0     A102                39   \n...           ...      ...               ...   \n36295           0      A72                 1   \n36296           0      A91                 3   \n36297           0      A91                 3   \n36298           0      A91                34   \n36299           0      A91                39   \n\n                                         emotion_options  randomization_id  \\\n0      ['40', '43', '14', '10', '39', '22', '32', '6'...               161   \n1      ['40', '43', '14', '10', '39', '22', '32', '6'...               161   \n2      ['40', '43', '14', '10', '39', '22', '32', '6'...               161   \n3      ['40', '43', '14', '10', '39', '22', '32', '6'...               161   \n4      ['40', '43', '14', '10', '39', '22', '32', '6'...               161   \n...                                                  ...               ...   \n36295  ['34', '14', '39', '11', '12', '43', '37', '3'...               127   \n36296  ['34', '14', '39', '11', '12', '43', '37', '3'...               127   \n36297  ['34', '14', '39', '11', '12', '43', '37', '3'...               127   \n36298  ['34', '14', '39', '11', '12', '43', '37', '3'...               127   \n36299  ['34', '14', '39', '11', '12', '43', '37', '3'...               127   \n\n       processed_status subject_id valens  set  rand id sex  kontakt igen  \\\n0                     1       vs87    neg  0.0    161.0   m           0.0   \n1                     1       vs87    neg  0.0    161.0   m           0.0   \n2                     1       vs87    neg  0.0    161.0   m           0.0   \n3                     1       vs87    neg  0.0    161.0   m           0.0   \n4                     1       vs87    neg  0.0    161.0   m           0.0   \n...                 ...        ...    ...  ...      ...  ..           ...   \n36295                 1      vs109    neg  0.0    127.0   m           1.0   \n36296                 1      vs109    neg  0.0    127.0   m           1.0   \n36297                 1      vs109    neg  0.0    127.0   m           1.0   \n36298                 1      vs109    neg  0.0    127.0   m           1.0   \n36299                 1      vs109    neg  0.0    127.0   m           1.0   \n\n       födelseår  accurate  \n0         1977.0     False  \n1         1977.0     False  \n2         1977.0      True  \n3         1977.0     False  \n4         1977.0     False  \n...          ...       ...  \n36295     1990.0     False  \n36296     1990.0     False  \n36297     1990.0     False  \n36298     1990.0     False  \n36299     1990.0     False  \n\n[36300 rows x 18 columns]",
      "text/html": "<div>\n<style scoped>\n    .dataframe tbody tr th:only-of-type {\n        vertical-align: middle;\n    }\n\n    .dataframe tbody tr th {\n        vertical-align: top;\n    }\n\n    .dataframe thead th {\n        text-align: right;\n    }\n</style>\n<table border=\"1\" class=\"dataframe\">\n  <thead>\n    <tr style=\"text-align: right;\">\n      <th></th>\n      <th>filename</th>\n      <th>alias</th>\n      <th>emotion_id</th>\n      <th>valence</th>\n      <th>set_number</th>\n      <th>video_id</th>\n      <th>emotion_id_reply</th>\n      <th>emotion_options</th>\n      <th>randomization_id</th>\n      <th>processed_status</th>\n      <th>subject_id</th>\n      <th>valens</th>\n      <th>set</th>\n      <th>rand id</th>\n      <th>sex</th>\n      <th>kontakt igen</th>\n      <th>födelseår</th>\n      <th>accurate</th>\n    </tr>\n  </thead>\n  <tbody>\n    <tr>\n      <th>0</th>\n      <td>A102_emb_p_2</td>\n      <td>0010541301574d33a41c542299f184a6</td>\n      <td>39</td>\n      <td>neg</td>\n      <td>0</td>\n      <td>A102</td>\n      <td>40</td>\n      <td>['40', '43', '14', '10', '39', '22', '32', '6'...</td>\n      <td>161</td>\n      <td>1</td>\n      <td>vs87</td>\n      <td>neg</td>\n      <td>0.0</td>\n      <td>161.0</td>\n      <td>m</td>\n      <td>0.0</td>\n      <td>1977.0</td>\n      <td>False</td>\n    </tr>\n    <tr>\n      <th>1</th>\n      <td>A102_fea_p_2</td>\n      <td>0010541301574d33a41c542299f184a6</td>\n      <td>10</td>\n      <td>neg</td>\n      <td>0</td>\n      <td>A102</td>\n      <td>32</td>\n      <td>['40', '43', '14', '10', '39', '22', '32', '6'...</td>\n      <td>161</td>\n      <td>1</td>\n      <td>vs87</td>\n      <td>neg</td>\n      <td>0.0</td>\n      <td>161.0</td>\n      <td>m</td>\n      <td>0.0</td>\n      <td>1977.0</td>\n      <td>False</td>\n    </tr>\n    <tr>\n      <th>2</th>\n      <td>A102_rej_p_3</td>\n      <td>0010541301574d33a41c542299f184a6</td>\n      <td>14</td>\n      <td>neg</td>\n      <td>0</td>\n      <td>A102</td>\n      <td>14</td>\n      <td>['40', '43', '14', '10', '39', '22', '32', '6'...</td>\n      <td>161</td>\n      <td>1</td>\n      <td>vs87</td>\n      <td>neg</td>\n      <td>0.0</td>\n      <td>161.0</td>\n      <td>m</td>\n      <td>0.0</td>\n      <td>1977.0</td>\n      <td>True</td>\n    </tr>\n    <tr>\n      <th>3</th>\n      <td>A102_sad_p_3</td>\n      <td>0010541301574d33a41c542299f184a6</td>\n      <td>6</td>\n      <td>neg</td>\n      <td>0</td>\n      <td>A102</td>\n      <td>43</td>\n      <td>['40', '43', '14', '10', '39', '22', '32', '6'...</td>\n      <td>161</td>\n      <td>1</td>\n      <td>vs87</td>\n      <td>neg</td>\n      <td>0.0</td>\n      <td>161.0</td>\n      <td>m</td>\n      <td>0.0</td>\n      <td>1977.0</td>\n      <td>False</td>\n    </tr>\n    <tr>\n      <th>4</th>\n      <td>A102_sha_v_2</td>\n      <td>0010541301574d33a41c542299f184a6</td>\n      <td>43</td>\n      <td>neg</td>\n      <td>0</td>\n      <td>A102</td>\n      <td>39</td>\n      <td>['40', '43', '14', '10', '39', '22', '32', '6'...</td>\n      <td>161</td>\n      <td>1</td>\n      <td>vs87</td>\n      <td>neg</td>\n      <td>0.0</td>\n      <td>161.0</td>\n      <td>m</td>\n      <td>0.0</td>\n      <td>1977.0</td>\n      <td>False</td>\n    </tr>\n    <tr>\n      <th>...</th>\n      <td>...</td>\n      <td>...</td>\n      <td>...</td>\n      <td>...</td>\n      <td>...</td>\n      <td>...</td>\n      <td>...</td>\n      <td>...</td>\n      <td>...</td>\n      <td>...</td>\n      <td>...</td>\n      <td>...</td>\n      <td>...</td>\n      <td>...</td>\n      <td>...</td>\n      <td>...</td>\n      <td>...</td>\n      <td>...</td>\n    </tr>\n    <tr>\n      <th>36295</th>\n      <td>A72_rej_p_3</td>\n      <td>ff807190c01845fa827a02d5e23ed14c</td>\n      <td>14</td>\n      <td>neg</td>\n      <td>0</td>\n      <td>A72</td>\n      <td>1</td>\n      <td>['34', '14', '39', '11', '12', '43', '37', '3'...</td>\n      <td>127</td>\n      <td>1</td>\n      <td>vs109</td>\n      <td>neg</td>\n      <td>0.0</td>\n      <td>127.0</td>\n      <td>m</td>\n      <td>1.0</td>\n      <td>1990.0</td>\n      <td>False</td>\n    </tr>\n    <tr>\n      <th>36296</th>\n      <td>A91_anx_p_3</td>\n      <td>ff807190c01845fa827a02d5e23ed14c</td>\n      <td>34</td>\n      <td>neg</td>\n      <td>0</td>\n      <td>A91</td>\n      <td>3</td>\n      <td>['34', '14', '39', '11', '12', '43', '37', '3'...</td>\n      <td>127</td>\n      <td>1</td>\n      <td>vs109</td>\n      <td>neg</td>\n      <td>0.0</td>\n      <td>127.0</td>\n      <td>m</td>\n      <td>1.0</td>\n      <td>1990.0</td>\n      <td>False</td>\n    </tr>\n    <tr>\n      <th>36297</th>\n      <td>A91_conf_p_3</td>\n      <td>ff807190c01845fa827a02d5e23ed14c</td>\n      <td>1</td>\n      <td>neg</td>\n      <td>0</td>\n      <td>A91</td>\n      <td>3</td>\n      <td>['34', '14', '39', '11', '12', '43', '37', '3'...</td>\n      <td>127</td>\n      <td>1</td>\n      <td>vs109</td>\n      <td>neg</td>\n      <td>0.0</td>\n      <td>127.0</td>\n      <td>m</td>\n      <td>1.0</td>\n      <td>1990.0</td>\n      <td>False</td>\n    </tr>\n    <tr>\n      <th>36298</th>\n      <td>A91_disa_v_3</td>\n      <td>ff807190c01845fa827a02d5e23ed14c</td>\n      <td>37</td>\n      <td>neg</td>\n      <td>0</td>\n      <td>A91</td>\n      <td>34</td>\n      <td>['34', '14', '39', '11', '12', '43', '37', '3'...</td>\n      <td>127</td>\n      <td>1</td>\n      <td>vs109</td>\n      <td>neg</td>\n      <td>0.0</td>\n      <td>127.0</td>\n      <td>m</td>\n      <td>1.0</td>\n      <td>1990.0</td>\n      <td>False</td>\n    </tr>\n    <tr>\n      <th>36299</th>\n      <td>A91_scha_v_2</td>\n      <td>ff807190c01845fa827a02d5e23ed14c</td>\n      <td>15</td>\n      <td>neg</td>\n      <td>0</td>\n      <td>A91</td>\n      <td>39</td>\n      <td>['34', '14', '39', '11', '12', '43', '37', '3'...</td>\n      <td>127</td>\n      <td>1</td>\n      <td>vs109</td>\n      <td>neg</td>\n      <td>0.0</td>\n      <td>127.0</td>\n      <td>m</td>\n      <td>1.0</td>\n      <td>1990.0</td>\n      <td>False</td>\n    </tr>\n  </tbody>\n</table>\n<p>36300 rows × 18 columns</p>\n</div>"
     },
     "execution_count": 252,
     "metadata": {},
     "output_type": "execute_result"
    }
   ],
   "source": [
    "df"
   ],
   "metadata": {
    "collapsed": false,
    "ExecuteTime": {
     "end_time": "2023-10-12T17:22:40.355749481Z",
     "start_time": "2023-10-12T17:22:40.276842747Z"
    }
   },
   "id": "3684f66cfb38a4a6"
  },
  {
   "cell_type": "code",
   "execution_count": 273,
   "outputs": [
    {
     "data": {
      "text/plain": "<Figure size 1000x600 with 1 Axes>",
      "image/png": "[encoded data removed]"
     },
     "metadata": {},
     "output_type": "display_data"
    }
   ],
   "source": [
    "# Group the DataFrame by 'emotion_id' and calculate the accuracy for each ID\n",
    "accuracy_by_subject = df.groupby('subject_id')['accurate'].mean().reset_index()\n",
    "\n",
    "plt.figure(figsize=(10, 6))\n",
    "plt.hist(accuracy_by_subject.accurate.values, bins=80, edgecolor='k', alpha=0.7)\n",
    "plt.xlabel(\"Accuracy\")\n",
    "plt.ylabel(\"Number of Subjects\")\n",
    "plt.grid(True)\n",
    "plt.show()"
   ],
   "metadata": {
    "collapsed": false,
    "ExecuteTime": {
     "end_time": "2023-10-12T17:26:11.585006268Z",
     "start_time": "2023-10-12T17:26:11.483012160Z"
    }
   },
   "id": "6c9d0d97ae9d4be8"
  },
  {
   "cell_type": "code",
   "execution_count": 269,
   "outputs": [],
   "source": [
    "low_performance_subjects = accuracy_by_subject[accuracy_by_subject['accurate'] < 0.15]"
   ],
   "metadata": {
    "collapsed": false,
    "ExecuteTime": {
     "end_time": "2023-10-12T17:25:48.634923116Z",
     "start_time": "2023-10-12T17:25:48.629738794Z"
    }
   },
   "id": "663d88e71ca8edbd"
  },
  {
   "cell_type": "code",
   "execution_count": 270,
   "outputs": [
    {
     "data": {
      "text/plain": "    subject_id  accurate\n11       vs101  0.090909\n33       vs121  0.117424\n75       vs162  0.083333\n89       vs176  0.136364\n108       vs27  0.109848\n125       vs45  0.117424\n141       vs62  0.121212\n142       vs63  0.121212\n145       vs66  0.106061\n152       vs74  0.090909\n155       vs77  0.121212\n162       vs84  0.136364\n165       vs87  0.079545\n173       vs95  0.098485\n177       vs99  0.136364",
      "text/html": "<div>\n<style scoped>\n    .dataframe tbody tr th:only-of-type {\n        vertical-align: middle;\n    }\n\n    .dataframe tbody tr th {\n        vertical-align: top;\n    }\n\n    .dataframe thead th {\n        text-align: right;\n    }\n</style>\n<table border=\"1\" class=\"dataframe\">\n  <thead>\n    <tr style=\"text-align: right;\">\n      <th></th>\n      <th>subject_id</th>\n      <th>accurate</th>\n    </tr>\n  </thead>\n  <tbody>\n    <tr>\n      <th>11</th>\n      <td>vs101</td>\n      <td>0.090909</td>\n    </tr>\n    <tr>\n      <th>33</th>\n      <td>vs121</td>\n      <td>0.117424</td>\n    </tr>\n    <tr>\n      <th>75</th>\n      <td>vs162</td>\n      <td>0.083333</td>\n    </tr>\n    <tr>\n      <th>89</th>\n      <td>vs176</td>\n      <td>0.136364</td>\n    </tr>\n    <tr>\n      <th>108</th>\n      <td>vs27</td>\n      <td>0.109848</td>\n    </tr>\n    <tr>\n      <th>125</th>\n      <td>vs45</td>\n      <td>0.117424</td>\n    </tr>\n    <tr>\n      <th>141</th>\n      <td>vs62</td>\n      <td>0.121212</td>\n    </tr>\n    <tr>\n      <th>142</th>\n      <td>vs63</td>\n      <td>0.121212</td>\n    </tr>\n    <tr>\n      <th>145</th>\n      <td>vs66</td>\n      <td>0.106061</td>\n    </tr>\n    <tr>\n      <th>152</th>\n      <td>vs74</td>\n      <td>0.090909</td>\n    </tr>\n    <tr>\n      <th>155</th>\n      <td>vs77</td>\n      <td>0.121212</td>\n    </tr>\n    <tr>\n      <th>162</th>\n      <td>vs84</td>\n      <td>0.136364</td>\n    </tr>\n    <tr>\n      <th>165</th>\n      <td>vs87</td>\n      <td>0.079545</td>\n    </tr>\n    <tr>\n      <th>173</th>\n      <td>vs95</td>\n      <td>0.098485</td>\n    </tr>\n    <tr>\n      <th>177</th>\n      <td>vs99</td>\n      <td>0.136364</td>\n    </tr>\n  </tbody>\n</table>\n</div>"
     },
     "execution_count": 270,
     "metadata": {},
     "output_type": "execute_result"
    }
   ],
   "source": [
    "low_performance_subjects"
   ],
   "metadata": {
    "collapsed": false,
    "ExecuteTime": {
     "end_time": "2023-10-12T17:25:50.842242030Z",
     "start_time": "2023-10-12T17:25:50.837835180Z"
    }
   },
   "id": "bc8d293704c1422d"
  },
  {
   "cell_type": "code",
   "execution_count": 275,
   "outputs": [],
   "source": [
    "accuracy_by_subject.to_csv(\"data/accuracy_by_subject.csv\")"
   ],
   "metadata": {
    "collapsed": false,
    "ExecuteTime": {
     "end_time": "2023-10-12T17:43:05.834345284Z",
     "start_time": "2023-10-12T17:43:05.791970322Z"
    }
   },
   "id": "2effb2ef7884a837"
  }
 ],
 "metadata": {
  "kernelspec": {
   "display_name": "Python 3",
   "language": "python",
   "name": "python3"
  },
  "language_info": {
   "codemirror_mode": {
    "name": "ipython",
    "version": 2
   },
   "file_extension": ".py",
   "mimetype": "text/x-python",
   "name": "python",
   "nbconvert_exporter": "python",
   "pygments_lexer": "ipython2",
   "version": "2.7.6"
  }
 },
 "nbformat": 4,
 "nbformat_minor": 5
}
